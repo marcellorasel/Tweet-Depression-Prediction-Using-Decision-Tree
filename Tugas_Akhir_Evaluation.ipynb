{
  "nbformat": 4,
  "nbformat_minor": 0,
  "metadata": {
    "colab": {
      "provenance": [],
      "toc_visible": true
    },
    "kernelspec": {
      "name": "python3",
      "display_name": "Python 3"
    },
    "language_info": {
      "name": "python"
    }
  },
  "cells": [
    {
      "cell_type": "markdown",
      "source": [
        "#**DETEKSI DEPRESI** "
      ],
      "metadata": {
        "id": "PPqaNDNazssm"
      }
    },
    {
      "cell_type": "markdown",
      "source": [
        "# NOTE <br>\n",
        "Dikarenakan perubahan parameter lain pada Decision Tree (program ini hanya menggunakan parameter max_depth)dan hasil terakhir running tidak disave, maka jika melakukan running ulang, maka akan kemungkinan memiliki hasil yang berbeda."
      ],
      "metadata": {
        "id": "YR7ZVkBUQLXw"
      }
    },
    {
      "cell_type": "code",
      "source": [
        "!pip install swifter\n",
        "!pip install sastrawi\n",
        "!pip install tweet-preprocessor"
      ],
      "metadata": {
        "colab": {
          "base_uri": "https://localhost:8080/",
          "height": 1000
        },
        "id": "f09RhMmiPzAj",
        "outputId": "7d60c40d-5fc8-41b8-bb85-af0aef0bc87e"
      },
      "execution_count": null,
      "outputs": [
        {
          "output_type": "stream",
          "name": "stdout",
          "text": [
            "Looking in indexes: https://pypi.org/simple, https://us-python.pkg.dev/colab-wheels/public/simple/\n",
            "Collecting swifter\n",
            "  Downloading swifter-1.1.4.tar.gz (647 kB)\n",
            "\u001b[K     |████████████████████████████████| 647 kB 14.0 MB/s \n",
            "\u001b[?25hRequirement already satisfied: pandas>=1.0.0 in /usr/local/lib/python3.7/dist-packages (from swifter) (1.3.5)\n",
            "Collecting psutil>=5.6.6\n",
            "  Downloading psutil-5.9.1-cp37-cp37m-manylinux_2_12_x86_64.manylinux2010_x86_64.manylinux_2_17_x86_64.manylinux2014_x86_64.whl (281 kB)\n",
            "\u001b[K     |████████████████████████████████| 281 kB 52.4 MB/s \n",
            "\u001b[?25hRequirement already satisfied: dask[dataframe]>=2.10.0 in /usr/local/lib/python3.7/dist-packages (from swifter) (2.12.0)\n",
            "Requirement already satisfied: tqdm>=4.33.0 in /usr/local/lib/python3.7/dist-packages (from swifter) (4.64.0)\n",
            "Requirement already satisfied: ipywidgets>=7.0.0 in /usr/local/lib/python3.7/dist-packages (from swifter) (7.7.0)\n",
            "Requirement already satisfied: cloudpickle>=0.2.2 in /usr/local/lib/python3.7/dist-packages (from swifter) (1.3.0)\n",
            "Requirement already satisfied: parso>0.4.0 in /usr/local/lib/python3.7/dist-packages (from swifter) (0.8.3)\n",
            "Requirement already satisfied: bleach>=3.1.1 in /usr/local/lib/python3.7/dist-packages (from swifter) (5.0.0)\n",
            "Requirement already satisfied: six>=1.9.0 in /usr/local/lib/python3.7/dist-packages (from bleach>=3.1.1->swifter) (1.15.0)\n",
            "Requirement already satisfied: webencodings in /usr/local/lib/python3.7/dist-packages (from bleach>=3.1.1->swifter) (0.5.1)\n",
            "Requirement already satisfied: numpy>=1.13.0 in /usr/local/lib/python3.7/dist-packages (from dask[dataframe]>=2.10.0->swifter) (1.21.6)\n",
            "Collecting partd>=0.3.10\n",
            "  Downloading partd-1.2.0-py3-none-any.whl (19 kB)\n",
            "Requirement already satisfied: toolz>=0.7.3 in /usr/local/lib/python3.7/dist-packages (from dask[dataframe]>=2.10.0->swifter) (0.11.2)\n",
            "Collecting fsspec>=0.6.0\n",
            "  Downloading fsspec-2022.5.0-py3-none-any.whl (140 kB)\n",
            "\u001b[K     |████████████████████████████████| 140 kB 57.2 MB/s \n",
            "\u001b[?25hRequirement already satisfied: traitlets>=4.3.1 in /usr/local/lib/python3.7/dist-packages (from ipywidgets>=7.0.0->swifter) (5.1.1)\n",
            "Requirement already satisfied: nbformat>=4.2.0 in /usr/local/lib/python3.7/dist-packages (from ipywidgets>=7.0.0->swifter) (5.4.0)\n",
            "Requirement already satisfied: jupyterlab-widgets>=1.0.0 in /usr/local/lib/python3.7/dist-packages (from ipywidgets>=7.0.0->swifter) (1.1.0)\n",
            "Requirement already satisfied: widgetsnbextension~=3.6.0 in /usr/local/lib/python3.7/dist-packages (from ipywidgets>=7.0.0->swifter) (3.6.0)\n",
            "Requirement already satisfied: ipykernel>=4.5.1 in /usr/local/lib/python3.7/dist-packages (from ipywidgets>=7.0.0->swifter) (4.10.1)\n",
            "Requirement already satisfied: ipython>=4.0.0 in /usr/local/lib/python3.7/dist-packages (from ipywidgets>=7.0.0->swifter) (5.5.0)\n",
            "Requirement already satisfied: ipython-genutils~=0.2.0 in /usr/local/lib/python3.7/dist-packages (from ipywidgets>=7.0.0->swifter) (0.2.0)\n",
            "Requirement already satisfied: tornado>=4.0 in /usr/local/lib/python3.7/dist-packages (from ipykernel>=4.5.1->ipywidgets>=7.0.0->swifter) (5.1.1)\n",
            "Requirement already satisfied: jupyter-client in /usr/local/lib/python3.7/dist-packages (from ipykernel>=4.5.1->ipywidgets>=7.0.0->swifter) (5.3.5)\n",
            "Requirement already satisfied: prompt-toolkit<2.0.0,>=1.0.4 in /usr/local/lib/python3.7/dist-packages (from ipython>=4.0.0->ipywidgets>=7.0.0->swifter) (1.0.18)\n",
            "Requirement already satisfied: decorator in /usr/local/lib/python3.7/dist-packages (from ipython>=4.0.0->ipywidgets>=7.0.0->swifter) (4.4.2)\n",
            "Requirement already satisfied: pickleshare in /usr/local/lib/python3.7/dist-packages (from ipython>=4.0.0->ipywidgets>=7.0.0->swifter) (0.7.5)\n",
            "Requirement already satisfied: simplegeneric>0.8 in /usr/local/lib/python3.7/dist-packages (from ipython>=4.0.0->ipywidgets>=7.0.0->swifter) (0.8.1)\n",
            "Requirement already satisfied: pygments in /usr/local/lib/python3.7/dist-packages (from ipython>=4.0.0->ipywidgets>=7.0.0->swifter) (2.6.1)\n",
            "Requirement already satisfied: pexpect in /usr/local/lib/python3.7/dist-packages (from ipython>=4.0.0->ipywidgets>=7.0.0->swifter) (4.8.0)\n",
            "Requirement already satisfied: setuptools>=18.5 in /usr/local/lib/python3.7/dist-packages (from ipython>=4.0.0->ipywidgets>=7.0.0->swifter) (57.4.0)\n",
            "Requirement already satisfied: jupyter-core in /usr/local/lib/python3.7/dist-packages (from nbformat>=4.2.0->ipywidgets>=7.0.0->swifter) (4.10.0)\n",
            "Requirement already satisfied: jsonschema>=2.6 in /usr/local/lib/python3.7/dist-packages (from nbformat>=4.2.0->ipywidgets>=7.0.0->swifter) (4.3.3)\n",
            "Requirement already satisfied: fastjsonschema in /usr/local/lib/python3.7/dist-packages (from nbformat>=4.2.0->ipywidgets>=7.0.0->swifter) (2.15.3)\n",
            "Requirement already satisfied: importlib-resources>=1.4.0 in /usr/local/lib/python3.7/dist-packages (from jsonschema>=2.6->nbformat>=4.2.0->ipywidgets>=7.0.0->swifter) (5.7.1)\n",
            "Requirement already satisfied: pyrsistent!=0.17.0,!=0.17.1,!=0.17.2,>=0.14.0 in /usr/local/lib/python3.7/dist-packages (from jsonschema>=2.6->nbformat>=4.2.0->ipywidgets>=7.0.0->swifter) (0.18.1)\n",
            "Requirement already satisfied: typing-extensions in /usr/local/lib/python3.7/dist-packages (from jsonschema>=2.6->nbformat>=4.2.0->ipywidgets>=7.0.0->swifter) (4.1.1)\n",
            "Requirement already satisfied: importlib-metadata in /usr/local/lib/python3.7/dist-packages (from jsonschema>=2.6->nbformat>=4.2.0->ipywidgets>=7.0.0->swifter) (4.11.4)\n",
            "Requirement already satisfied: attrs>=17.4.0 in /usr/local/lib/python3.7/dist-packages (from jsonschema>=2.6->nbformat>=4.2.0->ipywidgets>=7.0.0->swifter) (21.4.0)\n",
            "Requirement already satisfied: zipp>=3.1.0 in /usr/local/lib/python3.7/dist-packages (from importlib-resources>=1.4.0->jsonschema>=2.6->nbformat>=4.2.0->ipywidgets>=7.0.0->swifter) (3.8.0)\n",
            "Requirement already satisfied: pytz>=2017.3 in /usr/local/lib/python3.7/dist-packages (from pandas>=1.0.0->swifter) (2022.1)\n",
            "Requirement already satisfied: python-dateutil>=2.7.3 in /usr/local/lib/python3.7/dist-packages (from pandas>=1.0.0->swifter) (2.8.2)\n",
            "Collecting locket\n",
            "  Downloading locket-1.0.0-py2.py3-none-any.whl (4.4 kB)\n",
            "Requirement already satisfied: wcwidth in /usr/local/lib/python3.7/dist-packages (from prompt-toolkit<2.0.0,>=1.0.4->ipython>=4.0.0->ipywidgets>=7.0.0->swifter) (0.2.5)\n",
            "Requirement already satisfied: notebook>=4.4.1 in /usr/local/lib/python3.7/dist-packages (from widgetsnbextension~=3.6.0->ipywidgets>=7.0.0->swifter) (5.3.1)\n",
            "Requirement already satisfied: jinja2 in /usr/local/lib/python3.7/dist-packages (from notebook>=4.4.1->widgetsnbextension~=3.6.0->ipywidgets>=7.0.0->swifter) (2.11.3)\n",
            "Requirement already satisfied: nbconvert in /usr/local/lib/python3.7/dist-packages (from notebook>=4.4.1->widgetsnbextension~=3.6.0->ipywidgets>=7.0.0->swifter) (5.6.1)\n",
            "Requirement already satisfied: terminado>=0.8.1 in /usr/local/lib/python3.7/dist-packages (from notebook>=4.4.1->widgetsnbextension~=3.6.0->ipywidgets>=7.0.0->swifter) (0.13.3)\n",
            "Requirement already satisfied: Send2Trash in /usr/local/lib/python3.7/dist-packages (from notebook>=4.4.1->widgetsnbextension~=3.6.0->ipywidgets>=7.0.0->swifter) (1.8.0)\n",
            "Requirement already satisfied: pyzmq>=13 in /usr/local/lib/python3.7/dist-packages (from jupyter-client->ipykernel>=4.5.1->ipywidgets>=7.0.0->swifter) (23.1.0)\n",
            "Requirement already satisfied: ptyprocess in /usr/local/lib/python3.7/dist-packages (from terminado>=0.8.1->notebook>=4.4.1->widgetsnbextension~=3.6.0->ipywidgets>=7.0.0->swifter) (0.7.0)\n",
            "Requirement already satisfied: MarkupSafe>=0.23 in /usr/local/lib/python3.7/dist-packages (from jinja2->notebook>=4.4.1->widgetsnbextension~=3.6.0->ipywidgets>=7.0.0->swifter) (2.0.1)\n",
            "Requirement already satisfied: defusedxml in /usr/local/lib/python3.7/dist-packages (from nbconvert->notebook>=4.4.1->widgetsnbextension~=3.6.0->ipywidgets>=7.0.0->swifter) (0.7.1)\n",
            "Requirement already satisfied: testpath in /usr/local/lib/python3.7/dist-packages (from nbconvert->notebook>=4.4.1->widgetsnbextension~=3.6.0->ipywidgets>=7.0.0->swifter) (0.6.0)\n",
            "Requirement already satisfied: entrypoints>=0.2.2 in /usr/local/lib/python3.7/dist-packages (from nbconvert->notebook>=4.4.1->widgetsnbextension~=3.6.0->ipywidgets>=7.0.0->swifter) (0.4)\n",
            "Requirement already satisfied: mistune<2,>=0.8.1 in /usr/local/lib/python3.7/dist-packages (from nbconvert->notebook>=4.4.1->widgetsnbextension~=3.6.0->ipywidgets>=7.0.0->swifter) (0.8.4)\n",
            "Requirement already satisfied: pandocfilters>=1.4.1 in /usr/local/lib/python3.7/dist-packages (from nbconvert->notebook>=4.4.1->widgetsnbextension~=3.6.0->ipywidgets>=7.0.0->swifter) (1.5.0)\n",
            "Building wheels for collected packages: swifter\n",
            "  Building wheel for swifter (setup.py) ... \u001b[?25l\u001b[?25hdone\n",
            "  Created wheel for swifter: filename=swifter-1.1.4-py3-none-any.whl size=13932 sha256=e4895172fffddf96fdf020b32841ceab9f8dd7dad0024f267dac37acb8b8f8dd\n",
            "  Stored in directory: /root/.cache/pip/wheels/e6/ca/b7/6b63fdb01fddb851b2b2b45c3812c6eec7a41e79e62ac99276\n",
            "Successfully built swifter\n",
            "Installing collected packages: locket, partd, fsspec, psutil, swifter\n",
            "  Attempting uninstall: psutil\n",
            "    Found existing installation: psutil 5.4.8\n",
            "    Uninstalling psutil-5.4.8:\n",
            "      Successfully uninstalled psutil-5.4.8\n",
            "Successfully installed fsspec-2022.5.0 locket-1.0.0 partd-1.2.0 psutil-5.9.1 swifter-1.1.4\n"
          ]
        },
        {
          "output_type": "display_data",
          "data": {
            "application/vnd.colab-display-data+json": {
              "pip_warning": {
                "packages": [
                  "psutil"
                ]
              }
            }
          },
          "metadata": {}
        },
        {
          "output_type": "stream",
          "name": "stdout",
          "text": [
            "Looking in indexes: https://pypi.org/simple, https://us-python.pkg.dev/colab-wheels/public/simple/\n",
            "Collecting sastrawi\n",
            "  Downloading Sastrawi-1.0.1-py2.py3-none-any.whl (209 kB)\n",
            "\u001b[K     |████████████████████████████████| 209 kB 29.4 MB/s \n",
            "\u001b[?25hInstalling collected packages: sastrawi\n",
            "Successfully installed sastrawi-1.0.1\n",
            "Looking in indexes: https://pypi.org/simple, https://us-python.pkg.dev/colab-wheels/public/simple/\n",
            "Collecting tweet-preprocessor\n",
            "  Downloading tweet_preprocessor-0.6.0-py3-none-any.whl (27 kB)\n",
            "Installing collected packages: tweet-preprocessor\n",
            "Successfully installed tweet-preprocessor-0.6.0\n"
          ]
        }
      ]
    },
    {
      "cell_type": "code",
      "execution_count": null,
      "metadata": {
        "id": "8uVZqpbAb-bn",
        "colab": {
          "base_uri": "https://localhost:8080/"
        },
        "outputId": "1311019d-14f7-41b2-eb32-3c003ab8a0d3"
      },
      "outputs": [
        {
          "output_type": "stream",
          "name": "stderr",
          "text": [
            "[nltk_data] Downloading package stopwords to /root/nltk_data...\n",
            "[nltk_data]   Unzipping corpora/stopwords.zip.\n",
            "[nltk_data] Downloading package punkt to /root/nltk_data...\n",
            "[nltk_data]   Unzipping tokenizers/punkt.zip.\n"
          ]
        }
      ],
      "source": [
        "# Libraries\n",
        "import pandas as pd\n",
        "import numpy as np\n",
        "import swifter\n",
        "import seaborn as sns\n",
        "import matplotlib.pyplot as plt\n",
        "\n",
        "# Regex Library\n",
        "import re\n",
        "\n",
        "# Preprocessor Library\n",
        "import preprocessor as pre\n",
        "\n",
        "# NLTK Libraries\n",
        "import nltk\n",
        "nltk.download('stopwords')\n",
        "nltk.download('punkt')\n",
        "from nltk.corpus import stopwords\n",
        "from nltk.tokenize import word_tokenize\n",
        "from nltk.tokenize.treebank import TreebankWordDetokenizer\n",
        "\n",
        "# Sastrawi Library\n",
        "from Sastrawi.Stemmer.StemmerFactory import StemmerFactory\n",
        "\n",
        "# Sckit Libraries\n",
        "from sklearn.model_selection import train_test_split\n",
        "from sklearn.feature_extraction.text import TfidfVectorizer\n",
        "from sklearn.feature_extraction.text import CountVectorizer\n",
        "from sklearn.tree import DecisionTreeClassifier\n",
        "from sklearn import metrics\n",
        "from sklearn.ensemble import GradientBoostingClassifier\n",
        "from sklearn.metrics import classification_report, f1_score, accuracy_score, confusion_matrix"
      ]
    },
    {
      "cell_type": "code",
      "source": [
        "df = pd.read_csv ('Dataset After Preprocessing.csv',encoding=\"ISO-8859-1\")"
      ],
      "metadata": {
        "id": "LSmWZyswc3pl"
      },
      "execution_count": null,
      "outputs": []
    },
    {
      "cell_type": "code",
      "source": [
        "df.head()"
      ],
      "metadata": {
        "colab": {
          "base_uri": "https://localhost:8080/",
          "height": 206
        },
        "id": "vu6QQ1tcdzZb",
        "outputId": "6f9d18ca-7723-485a-9271-73f1449a05e2"
      },
      "execution_count": null,
      "outputs": [
        {
          "output_type": "execute_result",
          "data": {
            "text/plain": [
              "                                               Tweet  \\\n",
              "0  @orreoredvelvet Sedih bet yhÃ°ÂÂ¥Â² Tp sedih ...   \n",
              "1  @15eights @sbmptnfess haloo maaf banget akunny...   \n",
              "2  @polbanfess Ya beda-beda atuh, ga bisa disamar...   \n",
              "3  @i0heum Kenapahhh, @i0heum kamu selonya kapan ...   \n",
              "4  @purpleasehere @wafdaishere bener bestie, mung...   \n",
              "\n",
              "                           Tweet After Preprocessing  Label  \n",
              "0  ['sedih', 'sedih', 'halapenyo', 'indah', 'lagu...      1  \n",
              "1  ['maaf', 'akun', 'ambil', 'kirim', 'ambil', 'w...      1  \n",
              "2  ['beda', 'beda', 'rata', 'coba', 'daftar', 'an...      1  \n",
              "3  ['kenapahhh', 'selo', 'sabtu', 'selo', 'bestie...      1  \n",
              "4  ['bestie', 'tingkat', 'bestie', 'tingkat', 'wi...      1  "
            ],
            "text/html": [
              "\n",
              "  <div id=\"df-9db02701-7888-46e4-baef-a359406ecb33\">\n",
              "    <div class=\"colab-df-container\">\n",
              "      <div>\n",
              "<style scoped>\n",
              "    .dataframe tbody tr th:only-of-type {\n",
              "        vertical-align: middle;\n",
              "    }\n",
              "\n",
              "    .dataframe tbody tr th {\n",
              "        vertical-align: top;\n",
              "    }\n",
              "\n",
              "    .dataframe thead th {\n",
              "        text-align: right;\n",
              "    }\n",
              "</style>\n",
              "<table border=\"1\" class=\"dataframe\">\n",
              "  <thead>\n",
              "    <tr style=\"text-align: right;\">\n",
              "      <th></th>\n",
              "      <th>Tweet</th>\n",
              "      <th>Tweet After Preprocessing</th>\n",
              "      <th>Label</th>\n",
              "    </tr>\n",
              "  </thead>\n",
              "  <tbody>\n",
              "    <tr>\n",
              "      <th>0</th>\n",
              "      <td>@orreoredvelvet Sedih bet yhÃ°ÂÂ¥Â² Tp sedih ...</td>\n",
              "      <td>['sedih', 'sedih', 'halapenyo', 'indah', 'lagu...</td>\n",
              "      <td>1</td>\n",
              "    </tr>\n",
              "    <tr>\n",
              "      <th>1</th>\n",
              "      <td>@15eights @sbmptnfess haloo maaf banget akunny...</td>\n",
              "      <td>['maaf', 'akun', 'ambil', 'kirim', 'ambil', 'w...</td>\n",
              "      <td>1</td>\n",
              "    </tr>\n",
              "    <tr>\n",
              "      <th>2</th>\n",
              "      <td>@polbanfess Ya beda-beda atuh, ga bisa disamar...</td>\n",
              "      <td>['beda', 'beda', 'rata', 'coba', 'daftar', 'an...</td>\n",
              "      <td>1</td>\n",
              "    </tr>\n",
              "    <tr>\n",
              "      <th>3</th>\n",
              "      <td>@i0heum Kenapahhh, @i0heum kamu selonya kapan ...</td>\n",
              "      <td>['kenapahhh', 'selo', 'sabtu', 'selo', 'bestie...</td>\n",
              "      <td>1</td>\n",
              "    </tr>\n",
              "    <tr>\n",
              "      <th>4</th>\n",
              "      <td>@purpleasehere @wafdaishere bener bestie, mung...</td>\n",
              "      <td>['bestie', 'tingkat', 'bestie', 'tingkat', 'wi...</td>\n",
              "      <td>1</td>\n",
              "    </tr>\n",
              "  </tbody>\n",
              "</table>\n",
              "</div>\n",
              "      <button class=\"colab-df-convert\" onclick=\"convertToInteractive('df-9db02701-7888-46e4-baef-a359406ecb33')\"\n",
              "              title=\"Convert this dataframe to an interactive table.\"\n",
              "              style=\"display:none;\">\n",
              "        \n",
              "  <svg xmlns=\"http://www.w3.org/2000/svg\" height=\"24px\"viewBox=\"0 0 24 24\"\n",
              "       width=\"24px\">\n",
              "    <path d=\"M0 0h24v24H0V0z\" fill=\"none\"/>\n",
              "    <path d=\"M18.56 5.44l.94 2.06.94-2.06 2.06-.94-2.06-.94-.94-2.06-.94 2.06-2.06.94zm-11 1L8.5 8.5l.94-2.06 2.06-.94-2.06-.94L8.5 2.5l-.94 2.06-2.06.94zm10 10l.94 2.06.94-2.06 2.06-.94-2.06-.94-.94-2.06-.94 2.06-2.06.94z\"/><path d=\"M17.41 7.96l-1.37-1.37c-.4-.4-.92-.59-1.43-.59-.52 0-1.04.2-1.43.59L10.3 9.45l-7.72 7.72c-.78.78-.78 2.05 0 2.83L4 21.41c.39.39.9.59 1.41.59.51 0 1.02-.2 1.41-.59l7.78-7.78 2.81-2.81c.8-.78.8-2.07 0-2.86zM5.41 20L4 18.59l7.72-7.72 1.47 1.35L5.41 20z\"/>\n",
              "  </svg>\n",
              "      </button>\n",
              "      \n",
              "  <style>\n",
              "    .colab-df-container {\n",
              "      display:flex;\n",
              "      flex-wrap:wrap;\n",
              "      gap: 12px;\n",
              "    }\n",
              "\n",
              "    .colab-df-convert {\n",
              "      background-color: #E8F0FE;\n",
              "      border: none;\n",
              "      border-radius: 50%;\n",
              "      cursor: pointer;\n",
              "      display: none;\n",
              "      fill: #1967D2;\n",
              "      height: 32px;\n",
              "      padding: 0 0 0 0;\n",
              "      width: 32px;\n",
              "    }\n",
              "\n",
              "    .colab-df-convert:hover {\n",
              "      background-color: #E2EBFA;\n",
              "      box-shadow: 0px 1px 2px rgba(60, 64, 67, 0.3), 0px 1px 3px 1px rgba(60, 64, 67, 0.15);\n",
              "      fill: #174EA6;\n",
              "    }\n",
              "\n",
              "    [theme=dark] .colab-df-convert {\n",
              "      background-color: #3B4455;\n",
              "      fill: #D2E3FC;\n",
              "    }\n",
              "\n",
              "    [theme=dark] .colab-df-convert:hover {\n",
              "      background-color: #434B5C;\n",
              "      box-shadow: 0px 1px 3px 1px rgba(0, 0, 0, 0.15);\n",
              "      filter: drop-shadow(0px 1px 2px rgba(0, 0, 0, 0.3));\n",
              "      fill: #FFFFFF;\n",
              "    }\n",
              "  </style>\n",
              "\n",
              "      <script>\n",
              "        const buttonEl =\n",
              "          document.querySelector('#df-9db02701-7888-46e4-baef-a359406ecb33 button.colab-df-convert');\n",
              "        buttonEl.style.display =\n",
              "          google.colab.kernel.accessAllowed ? 'block' : 'none';\n",
              "\n",
              "        async function convertToInteractive(key) {\n",
              "          const element = document.querySelector('#df-9db02701-7888-46e4-baef-a359406ecb33');\n",
              "          const dataTable =\n",
              "            await google.colab.kernel.invokeFunction('convertToInteractive',\n",
              "                                                     [key], {});\n",
              "          if (!dataTable) return;\n",
              "\n",
              "          const docLinkHtml = 'Like what you see? Visit the ' +\n",
              "            '<a target=\"_blank\" href=https://colab.research.google.com/notebooks/data_table.ipynb>data table notebook</a>'\n",
              "            + ' to learn more about interactive tables.';\n",
              "          element.innerHTML = '';\n",
              "          dataTable['output_type'] = 'display_data';\n",
              "          await google.colab.output.renderOutput(dataTable, element);\n",
              "          const docLink = document.createElement('div');\n",
              "          docLink.innerHTML = docLinkHtml;\n",
              "          element.appendChild(docLink);\n",
              "        }\n",
              "      </script>\n",
              "    </div>\n",
              "  </div>\n",
              "  "
            ]
          },
          "metadata": {},
          "execution_count": 19
        }
      ]
    },
    {
      "cell_type": "markdown",
      "source": [
        "## SKENARIO 1\n",
        "Penentuan baseline dengan membagi split data dengan perbandingkan 70:30, 80:20, dan 90:10 serta pembatasan max features 5000, 7000, dan 10000."
      ],
      "metadata": {
        "id": "xoNRYgdaajKz"
      }
    },
    {
      "cell_type": "markdown",
      "source": [
        "### Split Data 70:30"
      ],
      "metadata": {
        "id": "xvWMP5y8SZk5"
      }
    },
    {
      "cell_type": "code",
      "source": [
        "# Membagi data menjadi data train dan data validation\n",
        "x_train_1a, x_test_1a, y_train_1a, y_test_1a = train_test_split(df[\"Tweet After Preprocessing\"],df[\"Label\"],test_size=0.3,shuffle=True)"
      ],
      "metadata": {
        "id": "ON9Ao9_FSdSx"
      },
      "execution_count": null,
      "outputs": []
    },
    {
      "cell_type": "markdown",
      "source": [
        "#### TF-IDF Max Features 5000"
      ],
      "metadata": {
        "id": "ND6DJD7SSipp"
      }
    },
    {
      "cell_type": "code",
      "source": [
        "def dummy_fun(doc):\n",
        "    return str(doc)"
      ],
      "metadata": {
        "id": "IrWcLrbvY3cZ"
      },
      "execution_count": null,
      "outputs": []
    },
    {
      "cell_type": "markdown",
      "source": [
        "Menghitung Frekuensi Kata"
      ],
      "metadata": {
        "id": "2ipgc6Y-uwVS"
      }
    },
    {
      "cell_type": "code",
      "source": [
        "cv = CountVectorizer(preprocessor=dummy_fun) \n",
        "word_count_vector = cv.fit_transform(x_train)"
      ],
      "metadata": {
        "id": "M05aQN8ttBMu"
      },
      "execution_count": null,
      "outputs": []
    },
    {
      "cell_type": "code",
      "source": [
        "# Train\n",
        "word_list = cv.get_feature_names() \n",
        "count_list = word_count_vector.toarray().sum(axis=0)"
      ],
      "metadata": {
        "id": "8XNpolnwkLsM"
      },
      "execution_count": null,
      "outputs": []
    },
    {
      "cell_type": "code",
      "source": [
        "# Train\n",
        "print(word_list)\n",
        "print(count_list)\n",
        "jumlah_kata =  dict(zip(word_list,count_list))"
      ],
      "metadata": {
        "id": "XUHgN1PplYqd",
        "colab": {
          "base_uri": "https://localhost:8080/"
        },
        "outputId": "c1236edb-696b-4bef-fa05-f5e3dbb747a2"
      },
      "execution_count": null,
      "outputs": [
        {
          "output_type": "stream",
          "name": "stdout",
          "text": [
            "['abad', 'abadi', 'abai', 'abang', 'abbalove', 'abdi', 'abi', 'abie', 'abimana', 'abis', 'abong', 'abot', 'absen', 'absolutely', 'abu', 'ac', 'acara', 'accept', 'accident', 'account', 'ace', 'acha', 'achievements', 'acho', 'aci', 'acid', 'acne', 'acting', 'actual', 'ada', 'adadeh', 'adakan', 'adam', 'adang', 'add', 'addict', 'adele', 'adem', 'adeyemi', 'adi', 'adik', 'adil', 'adina', 'admin', 'administrasi', 'adopsi', 'adu', 'aduk', 'adus', 'afc', 'afi', 'afk', 'afra', 'after', 'again', 'against', 'agam', 'agama', 'age', 'agen', 'agenda', 'aging', 'agnes', 'agreement', 'agung', 'ahead', 'ahhaahhaha', 'ahhahahahaha', 'ahli', 'ahmad', 'aib', 'aice', 'aidzin', 'aight', 'aint', 'air', 'airlift', 'airlines', 'airpods', 'airport', 'aisha', 'aja', 'ajaib', 'ajak', 'ajang', 'ajar', 'aji', 'aju', 'aka', 'akademik', 'akal', 'akan', 'akang', 'akar', 'akbar', 'akcnelgbsl', 'akh', 'akhirat', 'akhlak', 'akibat', 'akrab', 'akses', 'aksi', 'aktif', 'aktivitas', 'aktor', 'aku', 'akujuga', 'akun', 'akuntansi', 'akut', 'akutuuu', 'akward', 'alah', 'alam', 'alamat', 'alami', 'alang', 'alangkah', 'alarm', 'alas', 'alat', 'alay', 'album', 'alchemist', 'alcohol', 'ale', 'alergi', 'alex', 'alfamart', 'alfamei', 'alfin', 'algi', 'alhamdulillah', 'alhasil', 'ali', 'alias', 'alien', 'alih', 'alim', 'alive', 'alki', 'alkid', 'allah', 'allahu', 'allahuakbar', 'alluka', 'almamater', 'almarhum', 'almighty', 'almond', 'almost', 'alone', 'along', 'alot', 'alquran', 'alraji', 'already', 'alright', 'alshad', 'although', 'alumni', 'alun', 'alungin', 'ama', 'amal', 'aman', 'amanah', 'amaze', 'ambasador', 'ambil', 'ambir', 'amblas', 'ambulans', 'ambyar', 'ameng', 'america', 'americano', 'amin', 'among', 'ampedu', 'ampia', 'ampihan', 'amplop', 'ampuh', 'ampun', 'amuk', 'amy', 'ana', 'anak', 'analis', 'analisa', 'analisis', 'analyst', 'anas', 'ancam', 'anchornim', 'and', 'anda', 'andai', 'andal', 'andil', 'andini', 'andri', 'android', 'aneh', 'angga', 'anggap', 'anggar', 'anggi', 'anggota', 'angguk', 'anggur', 'angin', 'angkasa', 'angkat', 'angkring', 'angkut', 'angle', 'angpao', 'anijg', 'animals', 'animation', 'anime', 'animeeeeeee', 'anjayyyy', 'anjeenngggg', 'anjengg', 'anjillll', 'anjing', 'anjink', 'anjir', 'anjlok', 'anjrit', 'ann', 'anniversary', 'announce', 'answer', 'antagonis', 'antar', 'antek', 'anteng', 'anteraja', 'anti', 'anticlimactic', 'antisipasi', 'antosan', 'antre', 'antri', 'antuk', 'anu', 'anut', 'anxiety', 'anyar', 'anybody', 'anyone', 'anything', 'anyway', 'aoki', 'aot', 'aowkaowkaowk', 'apa', 'apaaaaaaaaaa', 'apall', 'aparat', 'apartemen', 'api', 'apik', 'aplikasi', 'apollo', 'apple', 'apply', 'appointment', 'approve', 'apresiasi', 'april', 'aqua', 'aquarius', 'arab', 'arah', 'arap', 'arapdet', 'araya', 'arbani', 'arc', 'ardit', 'area', 'arek', 'arent', 'ari', 'arianti', 'arief', 'arin', 'arm', 'armin', 'armor', 'army', 'arok', 'around', 'arrival', 'arrow', 'arsenal', 'arsip', 'arsita', 'arsitek', 'arsitektur', 'arsyad', 'art', 'arthur', 'artikel', 'artis', 'artist', 'arts', 'artstail', 'asa', 'asai', 'asal', 'asam', 'asap', 'asar', 'asep', 'asesmen', 'aset', 'asgar', 'asia', 'asih', 'asik', 'asing', 'asisten', 'asked', 'asli', 'asnawi', 'aspal', 'aspek', 'asrama', 'asri', 'assalamualaikum', 'asshole', 'assmore', 'astaga', 'astagfirullah', 'astaghfirullahaladzim', 'astagifrulah', 'astel', 'astor', 'astronomi', 'astungkara', 'asuizu', 'asumsi', 'asupan', 'asus', 'asuuiii', 'aswwww', 'asyik', 'atanpai', 'atas', 'ate', 'atlet', 'atm', 'atos', 'attitude', 'attract', 'atuhda', 'atur', 'audiens', 'audit', 'aula', 'aura', 'authority', 'automatic', 'automatically', 'autoplay', 'avatar', 'avici', 'aw', 'awal', 'awam', 'awan', 'awardee', 'aware', 'awas', 'awat', 'away', 'awesome', 'awet', 'awkarin', 'awowkowkw', 'ayah', 'ayam', 'ayangbeb', 'ayat', 'ayce', 'ayen', 'ayo', 'ayu', 'ayun', 'ayunda', 'ayuu', 'azab', 'azam', 'azarine', 'azham', 'bab', 'babad', 'babanana', 'babi', 'babie', 'bablas', 'babu', 'baby', 'bac', 'baca', 'bachelor', 'back', 'backhug', 'backingan', 'backsound', 'bacot', 'bad', 'badai', 'badak', 'badan', 'badminton', 'badmood', 'badut', 'baekhyun', 'bagasi', 'bagi', 'bagja', 'bagong', 'bagus', 'bahagia', 'bahan', 'bahas', 'bahasa', 'bahaya', 'baheula', 'bahlul', 'bahrain', 'bahu', 'baik', 'baim', 'baja', 'bajilak', 'bajing', 'baju', 'bajuri', 'bakar', 'bakat', 'bakmi', 'bakpia', 'bakso', 'bakti', 'bakule', 'bakwan', 'bal', 'bala', 'balada', 'balance', 'balap', 'balas', 'baldew', 'balik', 'ball', 'balok', 'balon', 'balong', 'baluuuu', 'bam', 'bambang', 'ban', 'banana', 'band', 'bandara', 'bandicoot', 'banding', 'bandung', 'bangarang', 'bangchan', 'banget', 'bangetsss', 'bangga', 'bangka', 'bangkai', 'bangkit', 'bangku', 'bangor', 'bangsa', 'bangsaatttttttt', 'bangsat', 'bangun', 'banjaran', 'banjir', 'bank', 'banned', 'bantai', 'bantal', 'banteng', 'banter', 'banting', 'bantu', 'banyak', 'bapa', 'bapak', 'bar', 'barakallah', 'barakat', 'barang', 'barat', 'barbar', 'barbershop', 'barbie', 'barcode', 'bareng', 'bari', 'barik', 'barista', 'barok', 'barong', 'bartender', 'baru', 'barudak', 'barusan', 'bas', 'basah', 'base', 'basi', 'bass', 'batak', 'batal', 'batam', 'batang', 'batas', 'batford', 'bath', 'batin', 'batman', 'batuk', 'batununggal', 'batur', 'bau', 'baur', 'bawa', 'bawah', 'bawang', 'bawel', 'bayang', 'bayar', 'bayern', 'baygon', 'bayi', 'bea', 'beads', 'bean', 'bear', 'beasiswa', 'beast', 'beat', 'beatless', 'beban', 'bebas', 'bebek', 'bebeladagan', 'become', 'becuk', 'beda', 'bedak', 'bedebah', 'beeneer', 'begadang', 'begah', 'begin', 'begindang', 'beginning', 'begitu', 'bego', 'behind', 'bejaji', 'bek', 'bekal', 'bekas', 'beko', 'beku', 'bela', 'belah', 'belakang', 'belanda', 'belang', 'belanja', 'belas', 'belasungkawa', 'beli', 'beliau', 'believe', 'belikan', 'belimbing', 'belinyaa', 'bellllll', 'beloved', 'belva', 'benang', 'benar', 'benci', 'bencong', 'benderang', 'bengbeng', 'bengkak', 'bengong', 'benhil', 'benjamin', 'benjol', 'bensin', 'bentak', 'bentar', 'bentrok', 'bentuk', 'bentur', 'berak', 'beranda', 'berangkat', 'berani', 'beranta', 'berapa', 'beras', 'berat', 'berengsk', 'beres', 'beril', 'berisik', 'berita', 'berkah', 'berkas', 'bersih', 'bersin', 'beruang', 'besar', 'beset', 'besok', 'best', 'bestie', 'bestiean', 'bet', 'betis', 'better', 'beurit', 'beyond', 'bgttttt', 'biar', 'biasa', 'biasanyaa', 'biaya', 'bibit', 'bicara', 'bicil', 'bidadari', 'bidang', 'bieber', 'biggie', 'bigung', 'bijak', 'bilang', 'bilangny', 'bilas', 'bili', 'billar', 'bimbel', 'bimbing', 'bimbingsn', 'bin', 'binatang', 'binder', 'bing', 'bingung', 'binjai', 'bintang', 'bintaro', 'biodata', 'biologi', 'bioskop', 'biotek', 'bipolar', 'bir', 'birah', 'bird', 'birthday', 'biru', 'bis', 'bisa', 'bisik', 'bismiillah', 'bismillaah', 'bismillah', 'bismillahirrahmanirrahim', 'bisnis', 'bitch', 'bjingan', 'black', 'blackpink', 'blak', 'blank', 'blender', 'blenger', 'bless', 'blokir', 'bloody', 'blue', 'blur', 'bm', 'bmkg', 'board', 'boat', 'boba', 'bobol', 'bobot', 'bobrok', 'bocah', 'bocor', 'bodoh', 'body', 'bodyguard', 'boga', 'bogor', 'bohong', 'bohoong', 'boi', 'boikot', 'bojack', 'bokek', 'bokep', 'bokong', 'boku', 'bola', 'boleh', 'bolehin', 'bollywood', 'bolong', 'bolos', 'bomb', 'bon', 'bonanza', 'bonbin', 'bonceng', 'boncos', 'bondol', 'boneka', 'bong', 'bontongor', 'booking', 'bookmark', 'boomer', 'boomerang', 'boooooo', 'boost', 'booster', 'borang', 'born', 'boros', 'boruto', 'bosan', 'botak', 'botol', 'bottom', 'bou', 'boy', 'boyfriend', 'boyolali', 'brader', 'brain', 'brando', 'break', 'breakdown', 'breath', 'brekatnya', 'brengseekkkkkkkk', 'bridge', 'brief', 'bring', 'broadcast', 'brodi', 'broke', 'broken', 'broker', 'brondong', 'brother', 'bruno', 'brusan', 'brutal', 'bsd', 'btc', 'btr', 'bts', 'buah', 'buang', 'buas', 'buat', 'buatt', 'buaya', 'bubar', 'bubble', 'bubur', 'bucket', 'budak', 'budaya', 'buddha', 'budi', 'bugis', 'bujang', 'bujuuug', 'buka', 'bukit', 'bukti', 'buku', 'bulan', 'bulanmatahari', 'bulat', 'bule', 'bully', 'bulu', 'buluk', 'bumble', 'bumi', 'buncit', 'bunda', 'bundar', 'bunga', 'bungkus', 'bunkasai', 'bunny', 'bunsin', 'bunting', 'buntu', 'bunuh', 'bunyi', 'bupati', 'buram', 'burger', 'burik', 'burn', 'buron', 'bursa', 'burst', 'buru', 'buruh', 'buruk', 'bus', 'busana', 'buset', 'business', 'busuk', 'busy', 'buta', 'butek', 'butuh', 'butut', 'buy', 'byampholostars', 'bye', 'byebyefever', 'byeeeeeeeee', 'byongsan', 'cabang', 'cabe', 'cabul', 'caca', 'cacing', 'cadang', 'cafe', 'cah', 'cahaya', 'cahyo', 'cair', 'cakap', 'cakar', 'calculation', 'call', 'calm', 'calon', 'camera', 'campur', 'can', 'cancel', 'canda', 'candu', 'canin', 'cant', 'cantik', 'cantum', 'cap', 'capai', 'capcut', 'cape', 'capek', 'capena', 'capoucina', 'capslock', 'caption', 'capung', 'cara', 'caramel', 'card', 'care', 'cargo', 'cari', 'carry', 'cars', 'case', 'cash', 'cashback', 'cashflow', 'cashless', 'cast', 'cat', 'catat', 'catur', 'cause', 'cay', 'cbr', 'cctv', 'cebur', 'cedera', 'cegah', 'cek', 'cekik', 'cekok', 'cekrek', 'cela', 'celana', 'cema', 'cemburu', 'cemeeh', 'cemil', 'cemplung', 'cena', 'cenat', 'cengang', 'cengeng', 'center', 'cenut', 'ceo', 'cepak', 'cepat', 'cepu', 'cerah', 'cerai', 'ceramah', 'ceremony', 'cerita', 'cermat', 'cermin', 'certification', 'cet', 'cetak', 'ceunah', 'cewek', 'cg', 'chains', 'champion', 'championship', 'chance', 'changbin', 'change', 'chaos', 'character', 'charge', 'charger', 'charles', 'charlie', 'chart', 'chatime', 'cheat', 'check', 'checkpoint', 'checkup', 'chef', 'chelsea', 'chicken', 'chill', 'chip', 'choco', 'chocolate', 'chocomint', 'choice', 'choose', 'chrome', 'churros', 'cianjur', 'cibi', 'cibii', 'cibiin', 'cicil', 'cicing', 'ciiii', 'cik', 'cikeneh', 'cikole', 'cikutra', 'cilaka', 'ciletuh', 'cili', 'cilik', 'cililin', 'cimahi', 'cimory', 'cina', 'cing', 'cinta', 'cipagantijl', 'cipanas', 'cipinang', 'cipta', 'cipularang', 'ciputat', 'ciputra', 'circle', 'cisco', 'cita', 'citra', 'citradream', 'city', 'citylink', 'cium', 'civil', 'cl', 'class', 'classic', 'claudya', 'clbk', 'cleanser', 'click', 'clip', 'closer', 'closing', 'clotging', 'club', 'co', 'coaster', 'coba', 'cobek', 'coco', 'cocok', 'cocote', 'cod', 'code', 'coding', 'coffee', 'coffeetography', 'cok', 'cokelat', 'coklat', 'colab', 'cold', 'coldplay', 'coli', 'collab', 'collection', 'color', 'combine', 'come', 'comeback', 'command', 'commuter', 'comot', 'company', 'complete', 'completed', 'concert', 'condolences', 'condong', 'conference', 'confirm', 'confused', 'contact', 'contoh', 'control', 'converse', 'convert', 'convo', 'cookie', 'cookiessss', 'copot', 'copy', 'copyright', 'coret', 'corndog', 'correct', 'cosplay', 'cost', 'costnya', 'cough', 'could', 'couldnt', 'counterpain', 'couple', 'coupons', 'courage', 'course', 'court', 'covid', 'cowok', 'crash', 'craving', 'cream', 'create', 'credence', 'creepy', 'crew', 'crisis', 'cristiano', 'croffle', 'croissant', 'cross', 'crowded', 'cruise', 'cry', 'cryin', 'cta', 'cu', 'cuaca', 'cuaks', 'cual', 'cuan', 'cuci', 'cuek', 'cukai', 'cukkkk', 'cukur', 'culik', 'cumi', 'cup', 'cupang', 'cupu', 'curah', 'curhat', 'curi', 'curiga', 'custom', 'cute', 'cuti', 'cv', 'dad', 'dada', 'dadah', 'dadaha', 'dadak', 'daddys', 'daerah', 'daftar', 'dag', 'dagang', 'dagdigdug', 'daging', 'dahar', 'dahsyat', 'daily', 'dajjal', 'dak', 'dalam', 'dalem', 'dalil', 'damage', 'damai', 'damn', 'dampak', 'damping', 'dan', 'dana', 'danau', 'dancow', 'dang', 'dangdut', 'dapat', 'dapett', 'daprt', 'daptar', 'dapur', 'dara', 'darah', 'dari', 'darimananya', 'dark', 'darling', 'das', 'dasar', 'dasi', 'data', 'datang', 'date', 'dating', 'daur', 'david', 'day', 'daya', 'dayeuhkolot', 'dead', 'deadline', 'deal', 'dear', 'death', 'debar', 'debat', 'debu', 'debut', 'decided', 'decline', 'decorated', 'dedek', 'dedew', 'deel', 'deep', 'def', 'definis', 'definisi', 'definitely', 'deg', 'degan', 'degann', 'degradasi', 'dejun', 'dekan', 'dekat', 'dekoruma', 'delay', 'delete', 'delicious', 'demam', 'demand', 'demi', 'demo', 'demon', 'demorin', 'den', 'dendam', 'dendi', 'deng', 'dengan', 'dengar', 'dengki', 'denial', 'denver', 'depak', 'depan', 'departement', 'depok', 'deposit', 'depresi', 'derajat', 'deras', 'derita', 'dermawan', 'desa', 'desain', 'describes', 'description', 'desek', 'desekan', 'desember', 'deserve', 'desk', 'deskripsi', 'desy', 'det', 'detail', 'detect', 'deteksi', 'detik', 'dev', 'devil', 'dewa', 'dewan', 'dewasa', 'df', 'di', 'dia', 'diadain', 'diagnosis', 'dialog', 'diam', 'diarahinn', 'dibandingin', 'dibarcodein', 'dibejaan', 'dibere', 'dibuligir', 'dicover', 'did', 'didik', 'didinginin', 'didnt', 'diecast', 'difference', 'different', 'difficult', 'dig', 'digital', 'digratisin', 'dijak', 'dikabulin', 'dikendaliin', 'dikomen', 'dikontenin', 'dilewatin', 'dimaafin', 'dimsum', 'dinas', 'dinding', 'dingin', 'dino', 'dinosaurus', 'dinotice', 'dinya', 'dipelitin', 'dirapihin', 'direktur', 'diri', 'disabilitas', 'discount', 'diskon', 'diskualifikasi', 'diskus', 'diskusi', 'disney', 'disorder', 'distance', 'distancing', 'district', 'disugihin', 'disuguhin', 'ditangkepin', 'ditelantarin', 'ditelusurin', 'ditoyorr', 'divisi', 'dk', 'doa', 'doanx', 'dobrak', 'document', 'dodol', 'doesnt', 'doin', 'doing', 'dokter', 'dokumen', 'dolan', 'doll', 'dom', 'dominan', 'dompet', 'don', 'donasi', 'donat', 'doneeee', 'donghae', 'doni', 'door', 'dora', 'dorong', 'dosa', 'dosen', 'dot', 'double', 'doubt', 'down', 'downlod', 'doyoung', 'dragon', 'drak', 'drama', 'dramaga', 'drastis', 'draw', 'dress', 'drew', 'driji', 'drink', 'drive', 'driver', 'driving', 'drtdi', 'drunk', 'dua', 'duarrr', 'dubai', 'duda', 'duduk', 'dudut', 'duel', 'duet', 'dug', 'duga', 'dugem', 'duit', 'duka', 'dukung', 'dumpling', 'dund', 'dungu', 'dunia', 'duniawi', 'durasi', 'durhaka', 'duri', 'durian', 'dusta', 'dustaaaaa', 'dustin', 'duta', 'dying', 'each', 'eak', 'earphone', 'earth', 'easily', 'eastern', 'eat', 'ebbong', 'ecek', 'echan', 'echo', 'echos', 'eclair', 'ecomm', 'eden', 'edi', 'edisi', 'edit', 'edm', 'education', 'edukasi', 'efek', 'effect', 'effort', 'ege', 'eggak', 'egirl', 'ego', 'egois', 'ehe', 'eiy', 'ejek', 'ekkle', 'eko', 'ekonomi', 'eks', 'ekspedisi', 'ekspektasi', 'eksploitasi', 'ekspres', 'ekspresi', 'ekspresif', 'el', 'elang', 'elap', 'electric', 'elek', 'elite', 'elixir', 'elle', 'elok', 'else', 'em', 'email', 'emak', 'emas', 'embel', 'embun', 'emil', 'emis', 'emosi', 'emosional', 'emot', 'empat', 'empati', 'empatin', 'empire', 'empty', 'enak', 'enakeun', 'encok', 'end', 'endgame', 'endi', 'enek', 'energi', 'enggan', 'england', 'english', 'engsity', 'enjoy', 'enough', 'enteng', 'entertainment', 'entire', 'entrepreneur', 'eobseo', 'epic', 'epidose', 'epin', 'episode', 'epoxy', 'era', 'eropa', 'error', 'erti', 'erupsi', 'es', 'eskalator', 'esp', 'estetik', 'estimasi', 'eta', 'etik', 'etika', 'euro', 'eval', 'even', 'event', 'ever', 'everest', 'everybody', 'everyday', 'everyone', 'everything', 'everytime', 'everywhere', 'evil', 'evos', 'ewh', 'ex', 'exam', 'excel', 'excited', 'exhausted', 'exhausting', 'exo', 'exol', 'expectation', 'experience', 'expired', 'explain', 'express', 'ext', 'extreme', 'eyang', 'eye', 'eyecatching', 'eyel', 'eyelash', 'eyes', 'faakkkk', 'face', 'facebook', 'facepack', 'fact', 'faedah', 'fagh', 'faidzin', 'fair', 'faith', 'fajar', 'fake', 'fakta', 'fakultas', 'fall', 'fallin', 'fan', 'fandom', 'fang', 'fangirl', 'fanmade', 'fansite', 'fantastis', 'faray', 'fariz', 'fase', 'fashion', 'fast', 'fatihah', 'fault', 'favorit', 'fc', 'feast', 'feat', 'febb', 'febby', 'februari', 'fee', 'feed', 'feedback', 'feel', 'feelin', 'feeling', 'feels', 'felt', 'fenomena', 'ferrariiiiiiii', 'festival', 'fiber', 'fiction', 'fifth', 'fifty', 'fight', 'fighter', 'fighting', 'figure', 'fikiranku', 'file', 'fill', 'film', 'filosofi', 'filter', 'fin', 'final', 'finansial', 'find', 'fine', 'fingerstyle', 'finish', 'finnn', 'firasat', 'fire', 'first', 'fisik', 'fisika', 'fitri', 'fitur', 'fixxxx', 'fkb', 'flag', 'flashback', 'fleetwood', 'flexing', 'flight', 'flimty', 'float', 'floor', 'flow', 'flower', 'fly', 'fm', 'fmed', 'fmscout', 'fnatic', 'fokus', 'follow', 'fomo', 'food', 'foodtrip', 'forecasting', 'foreigners', 'forest', 'forever', 'forget', 'forgetful', 'forgotten', 'formalitas', 'format', 'formula', 'fortune', 'forza', 'foto', 'fotografer', 'fotography', 'found', 'four', 'fox', 'fpp', 'fracture', 'fragrance', 'frame', 'franchise', 'franklin', 'frans', 'frappe', 'freak', 'freakkk', 'freaks', 'free', 'freedom', 'freeze', 'frekuensi', 'french', 'frenkie', 'fresh', 'freshgraduate', 'friday', 'fried', 'friend', 'friendly', 'friends', 'friendship', 'front', 'frustasi', 'fucker', 'fulbaak', 'fulbek', 'full', 'fullstack', 'fun', 'fundamental', 'funeral', 'fungsi', 'futaba', 'future', 'fw', 'gaaaku', 'gaapal', 'gabaik', 'gabetah', 'gabung', 'gacha', 'gaco', 'gadget', 'gadikenal', 'gadirapiin', 'gadis', 'gaduh', 'gaesss', 'gaet', 'gagal', 'gaidup', 'gain', 'gaisseee', 'gaji', 'gakamu', 'gakena', 'gakenal', 'gakepake', 'gaktuh', 'gakya', 'galak', 'galau', 'galeri', 'galon', 'gambar', 'gambit', 'game', 'gameplay', 'gameplaynya', 'gamer', 'gamis', 'gampang', 'ganbatte', 'ganda', 'gandeng', 'ganesha', 'gang', 'gangga', 'ganggu', 'gangsta', 'ganteng', 'ganti', 'gantung', 'ganyu', 'gaoll', 'gappaaa', 'gapura', 'gapyear', 'gara', 'garam', 'garang', 'garansi', 'garap', 'garasi', 'gari', 'garis', 'garnier', 'garrix', 'gas', 'gasehat', 'gasken', 'gatal', 'gatouu', 'gaul', 'gawat', 'gay', 'gaya', 'gebetan', 'gebok', 'gebuk', 'gede', 'gedek', 'gedor', 'gegabah', 'gegas', 'gege', 'gejala', 'gelagat', 'gelang', 'gelap', 'gelappp', 'gelas', 'gelenggeleng', 'geletak', 'geleuh', 'geli', 'gelombang', 'gemas', 'gembok', 'gemeshhhhh', 'gemetar', 'geming', 'gemini', 'geminiii', 'gempa', 'gempur', 'gen', 'genap', 'gender', 'gendong', 'gendut', 'geng', 'genggam', 'gengsi', 'genit', 'genre', 'genuine', 'geplak', 'gera', 'geraham', 'gerak', 'geranat', 'gerangan', 'gerbang', 'gereja', 'geremet', 'gerhana', 'gering', 'geser', 'get', 'getar', 'gete', 'gets', 'getting', 'geuring', 'gf', 'ghaib', 'ghost', 'giat', 'gibah', 'gibahin', 'giduuu', 'gif', 'gifts', 'gigi', 'gigit', 'gila', 'gilaaaaa', 'gilakk', 'gilakkk', 'gilasih', 'gilbert', 'gilir', 'gim', 'gimanayaa', 'gimane', 'gimik', 'gimne', 'ginih', 'giniiiii', 'gipeweyin', 'girang', 'giring', 'girllll', 'girls', 'girlssss', 'gisda', 'gisdaanggap', 'git', 'gitar', 'gitgithub', 'github', 'gituloh', 'gituwkwkwk', 'giur', 'give', 'giveaway', 'giving', 'giyowooo', 'gkda', 'gksie', 'gku', 'glad', 'gladi', 'glasses', 'glenn', 'glitch', 'gloomy', 'gloves', 'glow', 'glowing', 'gm', 'gmngkn', 'go', 'goal', 'gobal', 'goblin', 'goblok', 'gobloook', 'gocek', 'god', 'goda', 'godspeed', 'goes', 'gofar', 'gogok', 'goiru', 'gojek', 'gojk', 'gokana', 'gokushufudou', 'gold', 'goldblum', 'golden', 'golek', 'golf', 'golong', 'gomez', 'gon', 'gondrong', 'gone', 'goo', 'good', 'goodbye', 'goodluckkk', 'google', 'googling', 'goooiio', 'gooooo', 'goooooo', 'gopay', 'gopek', 'gopud', 'gopudd', 'goputttt', 'goreng', 'gosip', 'gosipp', 'gosok', 'gosong', 'gow', 'goyah', 'gp', 'graceful', 'gradakan', 'gradu', 'graduate', 'graha', 'gramed', 'grand', 'grande', 'grandpa', 'graphics', 'grateful', 'gratis', 'grealish', 'greasy', 'great', 'greek', 'greenwood', 'greget', 'grenade', 'grenden', 'gresini', 'grey', 'grilled', 'griya', 'grizz', 'grogi', 'grogu', 'growing', 'growth', 'grup', 'gruppostingan', 'gsw', 'gtlt', 'gtuuuu', 'gua', 'guadalaraja', 'guah', 'gualu', 'guard', 'gubernur', 'gudang', 'gudlak', 'gudluck', 'gue', 'guebjuga', 'gueeee', 'gueeeeee', 'guest', 'gugat', 'guilty', 'gukgukguk', 'gula', 'gulana', 'guling', 'gulung', 'gumiiii', 'gumun', 'gumushnya', 'gumuys', 'gun', 'guna', 'gundah', 'gunjing', 'gunn', 'gunung', 'guren', 'gurita', 'guru', 'gusi', 'gusti', 'gutlak', 'guwd', 'guy', 'guyon', 'guys', 'guyss', 'guyssss', 'gyewon', 'haaa', 'haaaaa', 'haaland', 'habede', 'habib', 'habis', 'hacepp', 'hack', 'hacker', 'had', 'hadalabo', 'hadap', 'hadepin', 'hadia', 'hadiah', 'hadiahnyaa', 'hadir', 'hadue', 'haduhhhh', 'haduu', 'haduuu', 'hady', 'haechan', 'haechann', 'haechannnnnnnn', 'haeee', 'hafal', 'hag', 'hahahaaa', 'hahahahahhahaha', 'hahahahh', 'hahahahhahahahahhahababi', 'hahahhahahah', 'hahahihi', 'hahhahhha', 'hahshaha', 'hail', 'hair', 'haiyuu', 'hajar', 'haji', 'hak', 'haka', 'hakimwow', 'halal', 'halaman', 'halang', 'halapenyo', 'haleem', 'half', 'halilintar', 'halim', 'hall', 'halloween', 'haloe', 'haloooo', 'halu', 'halus', 'hamba', 'hambat', 'hamdallah', 'hamil', 'han', 'hanas', 'hanbyeol', 'hancur', 'handle', 'handling', 'handphone', 'handsome', 'hangat', 'hantu', 'hapibidiii', 'happen', 'happened', 'happens', 'happiest', 'happiness', 'happy', 'happybirthday', 'hapus', 'haram', 'harap', 'hard', 'hardest', 'hardware', 'harga', 'hari', 'harmony', 'harness', 'harom', 'harry', 'haru', 'harus', 'harusnyaa', 'haryono', 'hasflag', 'hasil', 'hasut', 'hate', 'hated', 'hater', 'hati', 'hatiii', 'hatiq', 'have', 'haven', 'having', 'hawane', 'hawkins', 'hax', 'hayabusa', 'hayoloo', 'hayuk', 'hayuukk', 'hbdddd', 'hbo', 'hbrp', 'hc', 'hdeh', 'hdehhh', 'hdhhhh', 'head', 'header', 'headline', 'headlinenya', 'headset', 'headshot', 'heal', 'healing', 'healthy', 'heard', 'heardle', 'hearing', 'hearsay', 'heart', 'heaven', 'heavy', 'hebat', 'heboh', 'hebring', 'hectic', 'hedset', 'heeey', 'heeh', 'heehnya', 'heem', 'heheheeee', 'hehehehehehehhehehehehe', 'heheheya', 'hehhhh', 'hehw', 'heist', 'heker', 'hela', 'helikopter', 'hell', 'helm', 'help', 'helped', 'hem', 'hematcargo', 'hen', 'hendak', 'hendery', 'henhen', 'hening', 'henpon', 'henteu', 'henti', 'heran', 'heres', 'hereuynya', 'heri', 'herin', 'herli', 'herny', 'heroes', 'hes', 'heunteu', 'hewan', 'hewani', 'hfftt', 'hft', 'hhhhh', 'hhu', 'hi', 'hias', 'hiatus', 'hibur', 'hideung', 'hiduik', 'hidung', 'hidup', 'highlight', 'hihi', 'hihii', 'hihiw', 'hiih', 'hijab', 'hijau', 'hikd', 'hiks', 'hikssssssssssssssss', 'hilal', 'hilang', 'hill', 'hilman', 'hilmannya', 'him', 'hima', 'himawari', 'himpun', 'himslef', 'hina', 'hindar', 'hindia', 'hindu', 'hip', 'hired', 'hiring', 'hiruk', 'hirup', 'his', 'hisab', 'histori', 'hit', 'hitam', 'hitung', 'hiu', 'hiyah', 'hkt', 'hla', 'hlp', 'hmj', 'hmmmmm', 'hmmmmmmm', 'hmz', 'hnes', 'hoalah', 'hobi', 'hoho', 'hohohoho', 'hokben', 'hold', 'holds', 'holidae', 'holiday', 'holostars', 'holywings', 'homashnya', 'home', 'homesick', 'honda', 'honest', 'hongjoong', 'hoodie', 'hooman', 'hope', 'hore', 'hoream', 'horizon', 'hormat', 'horor', 'hororr', 'hot', 'hotel', 'hotwil', 'hour', 'hours', 'hpku', 'hpny', 'hpunteun', 'hrhehe', 'hrv', 'hsfkjhfsjhsk', 'hsgzhanzjjsk', 'htdocs', 'httpsnimroood', 'huaaa', 'huaaaa', 'huahhh', 'hubung', 'hueee', 'hueeeee', 'hufftttt', 'huftt', 'hufttt', 'hufttttt', 'hug', 'huhuhuhuhu', 'huhuuu', 'hujaannn', 'hujan', 'hujann', 'hujannn', 'hukum', 'hulu', 'human', 'humane', 'humas', 'humor', 'humoris', 'humorkuu', 'humperdinck', 'hun', 'huney', 'hunger', 'hungkul', 'hunter', 'hunting', 'huntu', 'hurt', 'hurts', 'huruf', 'huruharahuruharahuruharahuruhara', 'husband', 'husnul', 'hustling', 'hutan', 'huuhhh', 'huuummmmm', 'huwaaaahh', 'huweheee', 'hw', 'hwang', 'hwhahaha', 'hyep', 'hyesuu', 'hyeyoon', 'hyg', 'hymn', 'hype', 'hyun', 'hyung', 'hyunjin', 'iam', 'iba', 'ibadah', 'iblis', 'ibra', 'ibrm', 'ibu', 'ibuk', 'ice', 'ichi', 'ichii', 'ichiii', 'ichiiii', 'icon', 'id', 'idam', 'ide', 'idealis', 'identitas', 'idep', 'idfc', 'idiots', 'idiw', 'idkwtg', 'idlix', 'idol', 'idola', 'idris', 'idul', 'idv', 'ign', 'igs', 'igstory', 'iis', 'iisma', 'iismavo', 'ijoo', 'ijtihad', 'ijum', 'ikan', 'ikannnn', 'ikannnnnnnn', 'ikat', 'ikhlas', 'ikhsan', 'ikilo', 'iklan', 'iklim', 'ikut', 'ikz', 'ilaihi', 'iler', 'ilfeel', 'ilfill', 'ili', 'ilihhh', 'illegal', 'illichilensiti', 'illness', 'illustration', 'ilmu', 'ilmuwan', 'ilusioner', 'ilysm', 'im', 'ima', 'imajinasi', 'imam', 'imamin', 'iman', 'imanuell', 'imanya', 'imbang', 'imei', 'imeinyaaa', 'immateril', 'imnateriil', 'impi', 'impossible', 'impresi', 'impressive', 'imud', 'imut', 'ina', 'inap', 'inbes', 'inbox', 'incest', 'incil', 'incorporate', 'indah', 'indekos', 'indeks', 'india', 'indihome', 'indihomecard', 'indihouse', 'indikator', 'indirumah', 'inditna', 'individu', 'individualis', 'individugtgtgtgtgtgtgtgtgt', 'indoapril', 'indomaret', 'indomart', 'indomie', 'indomrt', 'indonesia', 'indoxxi', 'info', 'infoneee', 'infoo', 'informal', 'informasi', 'information', 'infp', 'infus', 'ingat', 'ingetnya', 'ingett', 'inggris', 'ingin', 'inginnontonjannabi', 'inguh', 'iniiii', 'inisial', 'initial', 'injak', 'injekan', 'inna', 'innailaihi', 'innalilahi', 'innalillaahi', 'innalillahi', 'ino', 'inplan', 'inpo', 'inquiries', 'insane', 'inse', 'insecure', 'insert', 'inset', 'inside', 'insidious', 'insightful', 'insomnia', 'inspirasi', 'inspirasine', 'inspired', 'insta', 'instagram', 'install', 'instalment', 'instan', 'instastories', 'institut', 'insya', 'inten', 'intens', 'intensifies', 'inter', 'interaksi', 'interesting', 'intern', 'interna', 'international', 'internet', 'intervew', 'interviewee', 'interviewer', 'inti', 'into', 'introvert', 'inuyasha', 'investasi', 'investment', 'investorrrr', 'invisible', 'invitation', 'invite', 'io', 'ioi', 'ios', 'ip', 'ipad', 'iphone', 'ipl', 'ipull', 'iqbal', 'ira', 'iri', 'iring', 'irit', 'iritasi', 'irl', 'irreg', 'irung', 'isekai', 'iseng', 'isengiseng', 'isi', 'isiny', 'iskardardinata', 'islam', 'isnt', 'isokey', 'isolasiiiboseeeennnnnn', 'isoman', 'issa', 'issss', 'issues', 'istana', 'istigfar', 'istighfar', 'istigpar', 'istimewa', 'istirahat', 'istora', 'istri', 'isu', 'isurance', 'isya', 'it', 'ita', 'italia', 'italian', 'italic', 'itc', 'iteemge', 'itikaf', 'itok', 'ituitu', 'itusii', 'itute', 'ivan', 'ive', 'iwan', 'iwh', 'iwi', 'iya', 'iyaaap', 'iyadeh', 'iyadongg', 'iyajugaa', 'iyapsss', 'iyaya', 'iyeee', 'iyesss', 'iyeu', 'iyyh', 'izin', 'izumi', 'izuru', 'izusei', 'jaa', 'jabar', 'jabat', 'jack', 'jackkk', 'jackpot', 'jadi', 'jadiii', 'jadwal', 'jaehyun', 'jaehyunaaa', 'jaehyunnn', 'jaehyunnyaaa', 'jaemin', 'jaesuk', 'jaeyong', 'jaga', 'jagat', 'jagooo', 'jagung', 'jahat', 'jahe', 'jahit', 'jail', 'jaim', 'jajah', 'jajan', 'jajanane', 'jajanin', 'jajar', 'jakarta', 'jaket', 'jakmania', 'jakselan', 'jakun', 'jal', 'jalan', 'jalaninnya', 'jalur', 'jam', 'jamal', 'jaman', 'jamblang', 'jambu', 'james', 'jamet', 'jamhari', 'jamil', 'jamin', 'jammmmmm', 'jamu', 'jamur', 'janani', 'jancuk', 'janda', 'jangar', 'janggut', 'jangka', 'jangkau', 'janjangaaaannn', 'janji', 'janjiin', 'janlup', 'jannah', 'jantung', 'januari', 'jany', 'japanese', 'japri', 'jarak', 'jarang', 'jarawab', 'jare', 'jared', 'jari', 'jaring', 'jarull', 'jas', 'jasa', 'jason', 'jastip', 'jatah', 'jathilan', 'jati', 'jatinangor', 'jatinegara', 'jatinegarajakarta', 'jatuh', 'jauh', 'jauhkeun', 'java', 'javascript', 'jawa', 'jaya', 'jayb', 'jazz', 'jbjb', 'jco', 'jdwal', 'jdwlnya', 'jeans', 'jebak', 'jebol', 'jeda', 'jedag', 'jeddah', 'jeder', 'jeding', 'jedug', 'jeff', 'jejak', 'jeje', 'jelang', 'jelas', 'jelasinnya', 'jelek', 'jelimet', 'jelly', 'jellyfish', 'jelma', 'jempol', 'jemput', 'jemur', 'jen', 'jenazah', 'jendela', 'jeneng', 'jeng', 'jenggot', 'jengukin', 'jenis', 'jenjang', 'jennie', 'jeno', 'jenoooo', 'jenos', 'jenuh', 'jeojang', 'jeon', 'jepang', 'jepit', 'jerawat', 'jerman', 'jernih', 'jerome', 'jersey', 'jeruk', 'jess', 'jessica', 'jessie', 'jeung', 'jewel', 'jgnla', 'jh', 'ji', 'jia', 'jiaaaqh', 'jiahk', 'jiakhh', 'jiakhhh', 'jian', 'jicungie', 'jiel', 'jigana', 'jigong', 'jigum', 'jihoon', 'jihyo', 'jiji', 'jijik', 'jilbab', 'jilid', 'jimbaran', 'jimin', 'jin', 'jinggggggg', 'jinki', 'jipyeong', 'jipyeongtetapp', 'jir', 'jirv', 'jisung', 'jiung', 'jiwa', 'jiwaraga', 'jiwoong', 'jjigae', 'jjk', 'jlbraga', 'jlnotista', 'joblist', 'jockey', 'jodoh', 'jodoin', 'joged', 'jogging', 'jogjaaaa', 'jogs', 'jogsss', 'johee', 'john', 'johnny', 'johny', 'join', 'joinan', 'joinnnnn', 'joji', 'jojis', 'jojo', 'jok', 'joke', 'jokes', 'joki', 'jokowi', 'joll', 'jomlo', 'jones', 'jong', 'jongin', 'jongkok', 'jongkook', 'joni', 'joohyuk', 'joon', 'joongil', 'jooo', 'josan', 'joshua', 'josss', 'joy', 'jp', 'jrengjrengg', 'jsd', 'jsjsgsjsgsush', 'jual', 'juang', 'juara', 'juaraa', 'judge', 'judi', 'judul', 'juga', 'jugaaaa', 'jugaaaaa', 'jujur', 'jujurly', 'jul', 'juli', 'julid', 'jumat', 'jump', 'juneee', 'jung', 'jungkook', 'jungle', 'jungwoo', 'jungwooo', 'jungyeol', 'junho', 'juni', 'juniii', 'junipero', 'junkyu', 'junrin', 'jupiter', 'juplek', 'juragan', 'jurang', 'jurnal', 'jurnalis', 'juru', 'jurus', 'juruss', 'jus', 'justin', 'jut', 'juta', 'juventus', 'juz', 'juzten', 'jyujur', 'kabar', 'kabare', 'kabaret', 'kabel', 'kabem', 'kabupaten', 'kabur', 'kaca', 'kacamata', 'kacang', 'kacapai', 'kacau', 'kacauu', 'kacauuuuu', 'kacaw', 'kaco', 'kacooo', 'kadang', 'kade', 'kadep', 'kadeptkadiv', 'kader', 'kadie', 'kado', 'kadua', 'kafan', 'kafe', 'kagaaaa', 'kagakk', 'kage', 'kaget', 'kagettt', 'kagum', 'kahanane', 'kahehe', 'kahirupan', 'kain', 'kajadian', 'kajeun', 'kaji', 'kakaen', 'kakak', 'kakek', 'kakel', 'kakhehe', 'kaki', 'kaku', 'kala', 'kalah', 'kalakuan', 'kalang', 'kalap', 'kalenderr', 'kali', 'kaliannnn', 'kalimat', 'kalori', 'kamana', 'kamar', 'kambuh', 'kamera', 'kamis', 'kamojang', 'kampanye', 'kampung', 'kampus', 'kamsudnya', 'kamumah', 'kamuuu', 'kamuuuuu', 'kanan', 'kandang', 'kangen', 'kanjt', 'kannnn', 'kantek', 'kanti', 'kantin', 'kantong', 'kantor', 'kantortemen', 'kanu', 'kanv', 'kanyataan', 'kaooooooo', 'kaos', 'kapal', 'kapasitas', 'kapencet', 'kapitalis', 'kapitalisme', 'kapok', 'kapten', 'kar', 'kara', 'karak', 'karakter', 'karantina', 'karasa', 'karat', 'karbitan', 'kardus', 'karek', 'karet', 'karetanya', 'karir', 'karisma', 'karismatik', 'karma', 'kartu', 'kartun', 'karung', 'karya', 'karyakaryamu', 'karyawan', 'kasar', 'kasih', 'kasihan', 'kasihmasih', 'kasihsdh', 'kasir', 'kasss', 'kasta', 'kasubbag', 'kasur', 'kasus', 'katampi', 'katanta', 'katanyamah', 'kate', 'kathmandu', 'katie', 'katla', 'katolik', 'kaum', 'kawah', 'kawaluyaan', 'kawan', 'kawand', 'kawankawan', 'kawann', 'kawannn', 'kawasa', 'kawin', 'kawung', 'kaya', 'kayak', 'kayake', 'kayang', 'kayanyaa', 'kayinn', 'kayla', 'kayo', 'kayoon', 'kba', 'kda', 'kdb', 'kdm', 'kduu', 'kebanykan', 'kebel', 'kebelet', 'kebiasaaan', 'kebo', 'kebun', 'keburu', 'kebut', 'kecap', 'kecewa', 'kecil', 'keciliken', 'keciputat', 'kecoanya', 'kecoh', 'kedai', 'kedap', 'kedeng', 'kedengerannya', 'kedip', 'keduluan', 'kee', 'keeping', 'keepsmile', 'keepyousafe', 'kegabutan', 'kegatelan', 'kehectican', 'kei', 'keilangan', 'keingetan', 'kejadain', 'kejam', 'kejar', 'kejedug', 'keju', 'kejut', 'kekeh', 'kekeyi', 'kelabu', 'kelah', 'kelana', 'kelapa', 'kelarin', 'kelarrr', 'kelas', 'kelelahanmasalah', 'keliling', 'kelola', 'kelompok', 'keluar', 'keluarga', 'keluh', 'kelupas', 'keluwen', 'keluyur', 'kemageranku', 'kemarenkemaren', 'kemarennya', 'kemarin', 'kemas', 'kembali', 'kembang', 'kembar', 'kempes', 'kemungkiman', 'kena', 'kenal', 'kenan', 'kenang', 'kenapaaa', 'kenapahhh', 'kencang', 'kendala', 'kendali', 'kendara', 'kendor', 'keneh', 'kentaki', 'kentang', 'kentut', 'kentuttt', 'kenyang', 'kenyanggg', 'kenyot', 'keong', 'keos', 'kepala', 'kepang', 'kepede', 'kepercayaantrust', 'kepincut', 'keping', 'kepiting', 'kepler', 'kepsyen', 'kera', 'keramas', 'kerangkeng', 'keranjang', 'keras', 'kerasss', 'kere', 'keren', 'kerepot', 'kereta', 'keri', 'keringat', 'keringetan', 'keriting', 'kerja', 'kerjaa', 'kerjaaan', 'kertas', 'kerudung', 'kerumun', 'kerut', 'kes', 'kesah', 'kesal', 'kesan', 'kesana', 'kesang', 'kesederhaan', 'kesel', 'kesengsem', 'kesini', 'kesitu', 'kesuen', 'ketang', 'ketar', 'ketarketir', 'ketaw', 'ketek', 'ketel', 'ketelisut', 'ketemu', 'ketemukenapa', 'ketep', 'keti', 'ketidurannyamah', 'ketik', 'ketok', 'ketoprak', 'ketu', 'ketua', 'ketuk', 'ketuplak', 'keun', 'keur', 'kewalahan', 'keyboard', 'keyboardnya', 'keyword', 'kfans', 'khappp', 'khatam', 'khawatir', 'khey', 'khianat', 'khilaf', 'khotimah', 'khusus', 'khwatir', 'kiamat', 'kiano', 'kiat', 'kibord', 'kiceplah', 'kick', 'kid', 'kidding', 'kiddo', 'kids', 'kik', 'kikan', 'kikis', 'kikyo', 'kilas', 'kill', 'kills', 'kilo', 'kilogram', 'kilometer', 'kim', 'kimcil', 'kimia', 'kimmi', 'kinclong', 'kinda', 'kinder', 'kindly', 'kingdom', 'kingsman', 'kipas', 'kipli', 'kira', 'kirei', 'kiri', 'kirim', 'kiro', 'kisah', 'kisar', 'kispray', 'kiss', 'kiw', 'kiwil', 'kiwww', 'kiyowo', 'kiyowok', 'kiyowokk', 'kkn', 'kkpk', 'klaim', 'klamaan', 'klarinet', 'klarisifikasi', 'klasemen', 'klathak', 'klausul', 'klik', 'klinik', 'klop', 'klub', 'kmudian', 'knalpot', 'knees', 'knew', 'knh', 'knight', 'knights', 'knowing', 'knpsi', 'kntrk', 'knyank', 'koar', 'koas', 'kobe', 'koc', 'kocak', 'kocengku', 'kodak', 'kode', 'kodil', 'kodin', 'kodok', 'koin', 'koki', 'koko', 'kokooo', 'kolaborasi', 'kolam', 'kolek', 'kolom', 'kolot', 'kolu', 'kombinasi', 'komedi', 'komen', 'komentar', 'komik', 'komisi', 'komorbid', 'komparasi', 'kompas', 'kompetitor', 'komplain', 'komponen', 'komposisi', 'kompromi', 'komunikasi', 'komunitas', 'kon', 'konco', 'koncone', 'kondangan', 'kondektur', 'kondisi', 'koneksi', 'konfirm', 'konfirmasi', 'konflik', 'kong', 'kongchu', 'kono', 'konsep', 'konser', 'konservasi', 'konsisten', 'konsu', 'konsultasi', 'konsumen', 'konsumsi', 'kontak', 'kontan', 'konteks', 'konten', 'konter', 'konti', 'kontol', 'kontolero', 'kontra', 'kontrak', 'kontribusi', 'kontrol', 'konyol', 'koo', 'koordinasi', 'kopi', 'kopilemonsoda', 'koplofy', 'kor', 'koramrik', 'korban', 'korea', 'korean', 'korep', 'koret', 'kortoa', 'korup', 'korwil', 'kos', 'kosannya', 'kosku', 'kosong', 'kosple', 'kossan', 'kostan', 'kostmu', 'kota', 'kotak', 'kotla', 'kotler', 'kotor', 'kp', 'kpopers', 'krabby', 'kram', 'krb', 'krecek', 'kresek', 'kreseknya', 'kretek', 'kribo', 'krim', 'kripca', 'kris', 'krisna', 'kriteria', 'kritik', 'kroasia', 'kroma', 'krs', 'ktm', 'ktownu', 'kuah', 'kuahh', 'kualitas', 'kuas', 'kuasa', 'kuasain', 'kuat', 'kuatt', 'kuattt', 'kubernetes', 'kubu', 'kuch', 'kucing', 'kucir', 'kuda', 'kudu', 'kue', 'kuesioner', 'kuis', 'kuissszzz', 'kuker', 'kukiss', 'kuku', 'kukuk', 'kuliah', 'kulinyaa', 'kulit', 'kulkas', 'kulon', 'kumakun', 'kumaneh', 'kumbang', 'kumha', 'kumis', 'kumkum', 'kumpul', 'kumulatif', 'kun', 'kunad', 'kunaonn', 'kunci', 'kungkingkang', 'kuning', 'kunjung', 'kunto', 'kunyah', 'kunyit', 'kuota', 'kuotawifi', 'kupa', 'kupat', 'kuping', 'kupon', 'kupukupu', 'kuputihin', 'kur', 'kurang', 'kuras', 'kurban', 'kurbanin', 'kurikulum', 'kurleb', 'kuro', 'kursi', 'kursus', 'kurt', 'kurung', 'kurus', 'kusuma', 'kusut', 'kutip', 'kutu', 'kuurng', 'kw', 'kwangsooooo', 'kwetiau', 'kwkwkwkwkwkkwkwkw', 'kwnya', 'kwwkkwkwkw', 'ky', 'kyaaa', 'kygo', 'kyh', 'kynya', 'kyok', 'kyokan', 'kyoungchal', 'laaa', 'laaah', 'laapeerr', 'lab', 'labelin', 'labil', 'laboratorium', 'labrak', 'labuahan', 'labuh', 'lacak', 'laces', 'lafar', 'laga', 'lagak', 'lagu', 'lagunyamah', 'lahan', 'lahir', 'laik', 'lailatul', 'lainboleh', 'laip', 'laiyo', 'lak', 'laka', 'lakaka', 'laki', 'lakilaki', 'lakon', 'laksana', 'laku', 'lakulaku', 'lala', 'lali', 'lalu', 'lam', 'lamaaaa', 'lamar', 'lambai', 'lambat', 'lambe', 'lambeyy', 'lambung', 'lambut', 'lamping', 'lampir', 'lampirin', 'lampu', 'lancar', 'lancome', 'land', 'landa', 'landas', 'landing', 'lane', 'lang', 'langdung', 'langgan', 'langgar', 'langgeng', 'langit', 'langittt', 'langka', 'langkah', 'langkahlangkah', 'langsung', 'language', 'lanjur', 'lanjut', 'lantai', 'lantas', 'lao', 'lapang', 'lapangaaaann', 'lapar', 'lapis', 'lapor', 'laprak', 'laptop', 'laptopkuuu', 'laq', 'larang', 'lari', 'larilari', 'laris', 'lasceremo', 'lasut', 'lata', 'later', 'latih', 'latsol', 'laugh', 'laughed', 'laughing', 'laughs', 'laut', 'law', 'lawak', 'lawan', 'lawless', 'lawu', 'layak', 'layan', 'layang', 'layar', 'layout', 'lazy', 'ldii', 'ldr', 'lead', 'leader', 'league', 'learning', 'least', 'leave', 'lebam', 'lebaran', 'lebarlebar', 'lebayyy', 'lebih', 'leci', 'leda', 'ledak', 'lee', 'leekbong', 'leeknow', 'leenaly', 'leg', 'lega', 'legenda', 'leggo', 'leggoo', 'leha', 'leher', 'lekas', 'lekat', 'lekk', 'lelah', 'lele', 'lem', 'lemah', 'lemari', 'lemas', 'lembab', 'lembang', 'lembar', 'lembaranlembaran', 'lembur', 'lembut', 'lemon', 'lempar', 'lempeng', 'len', 'lena', 'lengkap', 'lennnn', 'lensa', 'leochii', 'leot', 'lepas', 'les', 'lesmacet', 'less', 'lessgooooooo', 'lestari', 'lesu', 'letak', 'leto', 'letter', 'letus', 'leungit', 'leuwih', 'level', 'leveled', 'leveling', 'lewat', 'lewek', 'lewekannya', 'lewekin', 'lewih', 'lewis', 'lezgooo', 'lfb', 'lfg', 'lgbt', 'lgggg', 'lgii', 'lhuk', 'liar', 'liat', 'liatliat', 'liatlr', 'liatnyaaaa', 'liberalisasi', 'libur', 'liburr', 'licik', 'lidah', 'lidel', 'lidi', 'life', 'lifecause', 'lifecycle', 'lifes', 'liga', 'light', 'lightroom', 'lights', 'lightstick', 'lihat', 'like', 'liked', 'likely', 'likes', 'lil', 'lilin', 'lilit', 'lille', 'limbad', 'limits', 'lin', 'lindung', 'line', 'linean', 'linenya', 'lingkar', 'lingkung', 'lini', 'link', 'linkedin', 'linkin', 'linknya', 'lintas', 'linux', 'lion', 'lipat', 'lipbalm', 'lippo', 'lirik', 'lisan', 'listening', 'listrik', 'lit', 'liter', 'literally', 'litterally', 'little', 'live', 'liven', 'liverpool', 'livin', 'liyane', 'lizzo', 'lkh', 'lmaooo', 'lmfao', 'lo', 'loa', 'load', 'loafff', 'lob', 'loba', 'lobe', 'lockdown', 'logam', 'logika', 'login', 'logistik', 'logo', 'loheh', 'lohnapa', 'lokal', 'lokasi', 'loki', 'lolos', 'lomb', 'lomba', 'lombok', 'lompat', 'loneliness', 'lonewolf', 'long', 'longer', 'lontar', 'lontong', 'look', 'looking', 'looknya', 'looks', 'lop', 'lor', 'lord', 'loreal', 'los', 'lose', 'losing', 'loss', 'lost', 'lot', 'lotion', 'lotta', 'lotte', 'louis', 'loved', 'lovely', 'loves', 'lovin', 'loving', 'lovyu', 'low', 'lowbatt', 'lowest', 'lowong', 'loyal', 'loyalitas', 'lpnya', 'lptop', 'lt', 'luang', 'luar', 'lubang', 'luck', 'luckk', 'lucky', 'lucu', 'luhur', 'luis', 'luk', 'luka', 'lukain', 'lulus', 'lumayan', 'lumintu', 'lummm', 'lumpia', 'lumut', 'luna', 'lunak', 'lunglai', 'lungo', 'lungs', 'lupa', 'lupaa', 'lupaaa', 'luring', 'lurr', 'lurrr', 'lurus', 'lusa', 'lusyyy', 'lutjyuukuuu', 'luv', 'lvlnya', 'lyfe', 'lying', 'lyk', 'maaak', 'maaap', 'maaf', 'maag', 'mabaa', 'mabuk', 'mac', 'macan', 'macbook', 'macchiato', 'macet', 'mad', 'madaa', 'madam', 'madara', 'made', 'madep', 'madras', 'madrid', 'madu', 'madura', 'maeen', 'maem', 'mafren', 'magang', 'mageran', 'maghrib', 'maguire', 'mahaal', 'mahal', 'mahasiswa', 'mahasiswi', 'mahmudii', 'mahsyar', 'maima', 'main', 'mainmain', 'maira', 'majalah', 'majalengka', 'maju', 'mak', 'makan', 'makanmakan', 'makantidur', 'makanyaaa', 'makanyah', 'makarim', 'makaroni', 'makasihh', 'makasihhhh', 'makasii', 'makasiih', 'make', 'makes', 'makeup', 'maki', 'making', 'makji', 'makkah', 'maklum', 'maknae', 'makpyar', 'maksi', 'maksiat', 'maksimal', 'maksimum', 'maksud', 'maksudna', 'maksudnyateh', 'mal', 'malahhh', 'malaikat', 'malam', 'malang', 'malas', 'malaysia', 'maldini', 'maleman', 'malesan', 'maling', 'malioboro', 'malmingan', 'maloe', 'malu', 'maludulu', 'mam', 'mama', 'mamaciw', 'mamah', 'mamak', 'mamang', 'mampat', 'mampir', 'mampirr', 'mampranng', 'mampu', 'mampus', 'mana', 'manaa', 'manah', 'manajemen', 'manajer', 'mancing', 'mandalika', 'mandeko', 'mandet', 'mandi', 'mandiri', 'manfaat', 'mang', 'mangan', 'mangap', 'mangattt', 'mangg', 'mangga', 'manggaa', 'manggis', 'manggo', 'manggung', 'mango', 'mangsa', 'mangstaaappss', 'mangstap', 'mangstappp', 'manifesting', 'manis', 'manja', 'manjur', 'mannnnn', 'manohara', 'manonjaya', 'manor', 'manta', 'mantaaaaap', 'mantan', 'mantap', 'mantappu', 'mantappuu', 'mantau', 'mantay', 'manten', 'mantengin', 'mantra', 'mantu', 'manusia', 'manusiawi', 'manusya', 'manusye', 'many', 'mara', 'marah', 'marahmarah', 'marake', 'marane', 'maraneh', 'march', 'maret', 'marga', 'margin', 'mari', 'maria', 'marie', 'marina', 'marjan', 'mark', 'market', 'marketing', 'markeu', 'marks', 'marlboro', 'marley', 'married', 'mars', 'martabak', 'martin', 'maruk', 'marvel', 'mas', 'masa', 'masak', 'masakan', 'masama', 'masamaa', 'masdul', 'masingmasing', 'masjid', 'masker', 'masmas', 'masquerade', 'massage', 'master', 'mastersep', 'masuk', 'masukk', 'masya', 'masyaallah', 'masyarakat', 'maszeeeeh', 'maszeh', 'mata', 'matahari', 'matain', 'match', 'matcha', 'matching', 'matematika', 'materai', 'materi', 'material', 'mati', 'matkul', 'matkupil', 'matos', 'matot', 'matpel', 'matras', 'mau', 'maudy', 'maula', 'maulid', 'mauwwwwww', 'maww', 'max', 'maya', 'mayannlahh', 'maybe', 'maybeee', 'mayo', 'mayones', 'mazzeh', 'mb', 'mbabu', 'mbae', 'mbah', 'mbanking', 'mbanyaa', 'mbul', 'mbulet', 'mc', 'mclaren', 'mdnya', 'mean', 'meanly', 'means', 'meanwhile', 'meat', 'mebalih', 'mecela', 'mechanic', 'medalist', 'medan', 'media', 'medical', 'medium', 'medley', 'meee', 'meet', 'meeting', 'mega', 'mei', 'meika', 'meira', 'meja', 'mek', 'mekanik', 'mekanisme', 'mekar', 'mekdi', 'mel', 'melakukanya', 'melambang', 'melati', 'meled', 'meledug', 'melindungin', 'mellow', 'melnceng', 'melon', 'melting', 'memang', 'memanggg', 'memar', 'member', 'membership', 'membuladdd', 'meme', 'memori', 'memories', 'mempan', 'menang', 'menanges', 'menangiss', 'menantea', 'menantu', 'menarique', 'mencet', 'mendem', 'mendes', 'mending', 'mendung', 'menenggg', 'menerimany', 'menfess', 'mengaamiinkannya', 'mengadingadi', 'mengakhiriny', 'mengakomodir', 'mengganggumengusik', 'menghadeuhh', 'mengko', 'menglelah', 'mengmong', 'mengngeri', 'mengsalting', 'mengsedih', 'mengsedihh', 'meni', 'meninggoy', 'meningsoy', 'menit', 'menjadiesbatu', 'menjawabb', 'mennnn', 'menta', 'mental', 'mentallly', 'mentang', 'menteri', 'mentingin', 'mentok', 'mentor', 'mentwit', 'menu', 'menung', 'menyame', 'meo', 'mepet', 'mepettt', 'merah', 'merchant', 'mercon', 'merdeka', 'merek', 'merekaaa', 'meren', 'merenn', 'mereunmun', 'mergane', 'meriam', 'merinding', 'merjuangin', 'mermaid', 'merosottt', 'mertua', 'meru', 'mes', 'mesjid', 'meskipunakuanakculuncepudikacangintapiakuakanberusahamembuatdoitersenyum', 'mesra', 'message', 'mesti', 'metal', 'metaverse', 'metawar', 'metlit', 'metode', 'metropolitan', 'meuli', 'meunang', 'meuni', 'mfal', 'mgg', 'mgmp', 'mi', 'miawaug', 'miayam', 'mic', 'micellar', 'micin', 'microneedle', 'midi', 'mie', 'miftah', 'might', 'miii', 'miiko', 'mikiran', 'mikro', 'mil', 'milahasep', 'milanisti', 'mild', 'miliar', 'milihnya', 'milik', 'militan', 'milk', 'milking', 'milkita', 'milkuat', 'milky', 'millenial', 'milo', 'milodancow', 'milos', 'milu', 'milyader', 'milyarrrr', 'mimi', 'miminnn', 'mimosa', 'mimpi', 'mimpimimpi', 'min', 'minat', 'minchae', 'mind', 'minder', 'mingdep', 'minggu', 'mingi', 'mingyu', 'mini', 'minim', 'minimal', 'minimarket', 'minjemin', 'minjemnya', 'minkai', 'minn', 'minoritas', 'minta', 'minte', 'minum', 'minus', 'minutes', 'minyak', 'miracle', 'miringimpaksi', 'mirip', 'miripmirip', 'mirror', 'miscommunication', 'miskin', 'miss', 'misscom', 'missed', 'missing', 'mission', 'missunderstanding', 'mister', 'misterius', 'mitchells', 'mithril', 'mitra', 'mix', 'mixed', 'miyo', 'miyoo', 'mjb', 'mkr', 'ml', 'mlenyot', 'mleyot', 'mlyt', 'mmmmmmmm', 'mneh', 'mnhnya', 'mniezz', 'mnjwb', 'mntap', 'mobil', 'mocca', 'mochafrio', 'mochi', 'mocktail', 'modal', 'modar', 'mode', 'modua', 'modul', 'modus', 'moga', 'mogadi', 'mogimana', 'mohon', 'moist', 'moistnya', 'mokapot', 'moketawa', 'mola', 'molanjut', 'mom', 'momen', 'moms', 'mon', 'monaco', 'moncer', 'monday', 'mondok', 'monggo', 'monokurobo', 'monopoli', 'monsters', 'montessori', 'month', 'monyet', 'moo', 'moodbreaker', 'moonwatch', 'morad', 'moral', 'moria', 'morin', 'morninggg', 'mosing', 'moso', 'motherfker', 'motherlode', 'motif', 'motivasi', 'moto', 'motor', 'motorny', 'motorsport', 'mou', 'moved', 'movies', 'moving', 'mowrning', 'mps', 'mpus', 'mren', 'mrhn', 'mrt', 'mrtan', 'mt', 'mtc', 'mth', 'mu', 'muabis', 'muak', 'mual', 'muarahh', 'muchhhh', 'muda', 'mudah', 'mudahn', 'mudik', 'muffins', 'mugen', 'muhammad', 'muhammadiyah', 'mujarap', 'muji', 'mujigae', 'muk', 'muka', 'mukena', 'muktamar', 'mukul', 'mukulin', 'mula', 'mulang', 'muler', 'mules', 'mulfand', 'mullet', 'multimedia', 'mulu', 'muluk', 'mulus', 'mulut', 'muluu', 'mumet', 'mumpung', 'mun', 'munafik', 'muncak', 'munchen', 'muncis', 'muncul', 'mundur', 'mundurr', 'mung', 'muntah', 'murah', 'murid', 'murni', 'murottal', 'murtad', 'musafirr', 'musik', 'musim', 'muslim', 'musnah', 'must', 'mustahil', 'mustering', 'muterin', 'mutermuter', 'mutiaraa', 'mutualan', 'mutualnya', 'mvaka', 'mw', 'mwah', 'myself', 'mythia', 'mzz', 'naaa', 'naay', 'nab', 'nabi', 'naboeng', 'nabok', 'nad', 'nada', 'nadiem', 'nadin', 'nae', 'nafas', 'nag', 'naha', 'nahaa', 'nahannahan', 'nahanya', 'nahas', 'nahel', 'nahkan', 'nahlooooo', 'naik', 'nail', 'najiieez', 'najis', 'nak', 'nakal', 'nakk', 'nama', 'namatin', 'nami', 'namja', 'namjoon', 'nampaknya', 'nan', 'nanaonan', 'nancy', 'nang', 'nangesss', 'nangisboleh', 'nangishaduh', 'nangisin', 'nangkring', 'nangor', 'nangos', 'nano', 'nanti', 'nantiiinantii', 'nanyaaa', 'naonn', 'narapidana', 'narima', 'naro', 'naruto', 'nasa', 'nasabah', 'nasi', 'nasib', 'nasiiii', 'nasional', 'nasionalisme', 'nasreng', 'nastar', 'natal', 'nation', 'nature', 'naudzubillah', 'nauu', 'naver', 'nay', 'nazar', 'ncaa', 'ncit', 'ncity', 'nctzen', 'ndalan', 'ndekor', 'nderrr', 'nderrrr', 'ndisek', 'ndredeg', 'ndu', 'nduu', 'nduwe', 'nearly', 'nebak', 'neck', 'needed', 'negara', 'negatif', 'negative', 'negeri', 'negosiasi', 'negurnya', 'neil', 'nekat', 'nektar', 'nelll', 'nempelin', 'nemunya', 'nencet', 'nenek', 'neng', 'neocity', 'neraka', 'nerbener', 'nerjain', 'ners', 'nes', 'nesu', 'net', 'netflix', 'netflixan', 'neurology', 'neva', 'new', 'newgen', 'news', 'next', 'nft', 'ngaa', 'ngab', 'ngabagi', 'ngabb', 'ngabeletrak', 'ngabers', 'ngabisin', 'ngabisinnua', 'ngabret', 'ngacakcaskacakkk', 'ngadem', 'ngader', 'ngadi', 'ngadii', 'ngaduin', 'ngagaplok', 'ngahuleng', 'ngajol', 'ngajolnya', 'ngakakkk', 'ngaleeut', 'ngambilnya', 'ngambis', 'ngampus', 'ngangenin', 'nganggap', 'ngangguk', 'ngangon', 'ngantoek', 'ngantor', 'ngapadah', 'ngapangapain', 'ngaran', 'ngaranna', 'ngartiin', 'ngartis', 'ngaruhh', 'ngasprak', 'ngatau', 'ngatauu', 'ngateg', 'ngaturnya', 'ngbls', 'ngebaca', 'ngebadut', 'ngebatin', 'ngebet', 'ngebiasain', 'ngebikin', 'ngeblur', 'ngebocorin', 'ngebosenin', 'ngebrainrot', 'ngebucin', 'ngebug', 'ngebuka', 'ngebus', 'ngebut', 'ngecas', 'ngecharge', 'ngechat', 'ngecover', 'ngecrush', 'ngecrushin', 'ngedadak', 'ngedahuluin', 'ngedate', 'ngedenger', 'ngedoain', 'ngefangirl', 'ngegambar', 'ngegame', 'ngegaris', 'ngegpud', 'ngehalu', 'ngehasilin', 'ngehate', 'ngehek', 'ngehibur', 'ngehost', 'ngehubungin', 'ngeiyain', 'ngejamin', 'ngejawab', 'ngejemput', 'ngejilatnya', 'ngejilid', 'ngejokes', 'ngejombs', 'ngelak', 'ngelaksanain', 'ngelamar', 'ngelanjutin', 'ngelempar', 'ngelewatin', 'ngeliatliat', 'ngelos', 'ngeludic', 'ngeluhin', 'ngelunjak', 'ngemata', 'ngembangin', 'ngemc', 'ngemetal', 'ngemil', 'ngemotivasi', 'ngempesin', 'ngen', 'ngenaaa', 'ngenalin', 'ngenggg', 'ngent', 'ngenteni', 'ngentit', 'ngentot', 'ngepacking', 'ngepel', 'ngepet', 'ngeprank', 'ngeproud', 'ngerakeun', 'ngereply', 'ngerepotinnya', 'ngeretas', 'ngereview', 'ngeri', 'ngeriii', 'ngerjainnya', 'ngerobohin', 'ngeronda', 'ngesave', 'ngeshift', 'ngeten', 'ngetreat', 'ngetrip', 'ngetzberasa', 'ngewar', 'ngewaro', 'ngewip', 'ngeyume', 'nggaaa', 'nggaboleh', 'nggambar', 'nggar', 'ngge', 'nggg', 'nggolek', 'ngiang', 'ngilangnya', 'ngilu', 'ngindarin', 'ngintelnya', 'ngke', 'ngl', 'ngode', 'ngoding', 'ngolesin', 'ngomel', 'ngomonginmah', 'ngontrog', 'ngopekin', 'ngorok', 'ngoroyok', 'ngos', 'ngrasa', 'ngrasake', 'ngrepotin', 'ngtag', 'ngubah', 'ngudud', 'ngudut', 'ngueng', 'ngulek', 'ngulur', 'ngunnn', 'ngupil', 'ngurangin', 'ngurek', 'nguyel', 'niat', 'nic', 'nicch', 'nice', 'nick', 'nickel', 'night', 'nightmare', 'nightmares', 'niii', 'nik', 'nikah', 'nikahh', 'nikel', 'niken', 'nikk', 'nikmat', 'nilai', 'nilang', 'nils', 'nimba', 'nimbang', 'nina', 'ning', 'ninggali', 'nirmana', 'nirvana', 'nisbahijarah', 'niscaya', 'nisfu', 'nista', 'nitiip', 'niyy', 'njaluk', 'njegleg', 'nji', 'njies', 'njowoni', 'nkota', 'nmax', 'nnnnnnnana', 'nntinya', 'noah', 'nobody', 'nodejs', 'nojutsu', 'nolep', 'nolin', 'nomer', 'nominal', 'nomo', 'nomojowo', 'nomor', 'nomplok', 'nomu', 'non', 'nongkrong', 'nongol', 'noni', 'nontn', 'nontonin', 'nontonna', 'nontonnya', 'noooooooo', 'noor', 'nor', 'norek', 'noremma', 'normal', 'normalisasi', 'normalize', 'norman', 'not', 'note', 'noted', 'notes', 'notifikasi', 'notip', 'novel', 'novelny', 'november', 'now', 'nowhere', 'np', 'npf', 'npure', 'ntahla', 'ntapss', 'ntarr', 'ntarrr', 'nu', 'nud', 'nugas', 'nugasnya', 'nugget', 'nuhunss', 'nukeran', 'numb', 'number', 'numbuh', 'numbuhnya', 'nunda', 'nurdin', 'nuru', 'nurul', 'nuruuu', 'nusa', 'nusantara', 'nutty', 'nya', 'nyaaaaa', 'nyabut', 'nyala', 'nyalaa', 'nyalainnya', 'nyali', 'nyalse', 'nyaman', 'nyampeur', 'nyamukkk', 'nyangu', 'nyanyi', 'nyapo', 'nyarinya', 'nyata', 'nyatet', 'nyawa', 'nyayi', 'nyebeliiiin', 'nyebelinnn', 'nyediain', 'nyeeee', 'nyelam', 'nyelametin', 'nyelsain', 'nyemangatin', 'nyemek', 'nyemilin', 'nyemilrebahanindominontonfilmnonton', 'nyemir', 'nyenyak', 'nyepelein', 'nyeremin', 'nyermin', 'nyeruduk', 'nyes', 'nyeseknya', 'nyessss', 'nyetrikanya', 'nyieun', 'nyinyir', 'nyiram', 'nyium', 'nyobaa', 'nyolek', 'nyorosod', 'nyuntikin', 'nyut', 'nyuu', 'nzlyaafcom', 'oaja', 'obat', 'obiwan', 'objection', 'oblong', 'obrol', 'obs', 'obv', 'obviously', 'ocean', 'oceans', 'oceee', 'oceh', 'oden', 'odeng', 'oe', 'oemje', 'oemji', 'offer', 'offering', 'offernya', 'official', 'offline', 'offlinestore', 'oghey', 'ohooooo', 'oink', 'ojek', 'okayyy', 'okee', 'okeey', 'okeeyy', 'okellah', 'oknum', 'olahmata', 'olahraga', 'olahraha', 'old', 'ole', 'oleng', 'olga', 'olih', 'olilieeeeee', 'olimpiade', 'olivia', 'ollie', 'olshop', 'omah', 'omahan', 'omahmu', 'omat', 'ombak', 'omega', 'omeje', 'omelin', 'omggg', 'omggggg', 'oml', 'omnibus', 'omong', 'omoo', 'ompol', 'one', 'oneng', 'ongkirfee', 'ongkirnya', 'ongkos', 'oni', 'online', 'onlinee', 'onlineku', 'onlineoff', 'only', 'onn', 'ono', 'onok', 'ons', 'onta', 'ooke', 'oops', 'ootod', 'open', 'opening', 'operasi', 'opini', 'opor', 'oporketupat', 'oppa', 'opportunity', 'opres', 'opslot', 'optimis', 'optimistic', 'orang', 'orasi', 'order', 'orei', 'oren', 'oreo', 'organisasi', 'original', 'orisinal', 'orma', 'orok', 'osce', 'oshi', 'otak', 'otakna', 'others', 'otidaaakk', 'otot', 'otsustars', 'otto', 'otww', 'our', 'outdoor', 'outfit', 'overall', 'overpopulasi', 'oversharer', 'oversize', 'oversized', 'overwhelmed', 'ovo', 'ovrthnkg', 'ovt', 'owari', 'owkeeey', 'owl', 'owning', 'owo', 'owshiiitttt', 'oy', 'oyaan', 'oyy', 'pabrik', 'pac', 'pacar', 'pacarann', 'pack', 'packing', 'packingnya', 'pada', 'padal', 'padam', 'padamuu', 'padang', 'padat', 'padi', 'padjadjaran', 'page', 'pagi', 'pagiii', 'pagipaga', 'pagipagi', 'pah', 'paha', 'paham', 'pahit', 'pain', 'pajak', 'pakacipuww', 'pakai', 'pakan', 'pakein', 'paket', 'paksa', 'pala', 'palak', 'palakau', 'palih', 'paling', 'palmerah', 'palpasi', 'palsu', 'palu', 'paman', 'pamer', 'pamit', 'pamungkas', 'panah', 'panas', 'pancal', 'pancet', 'pandaa', 'pandang', 'pandemi', 'pandu', 'panel', 'panen', 'pang', 'pangan', 'pangeran', 'panggang', 'panggil', 'pangkal', 'panik', 'panikk', 'panit', 'panitia', 'panjang', 'pantai', 'pantang', 'pantar', 'pantau', 'panteee', 'pantek', 'pantesaaan', 'pantex', 'pantexzzxzxz', 'pantura', 'panutan', 'panyateh', 'panyileukan', 'pap', 'papa', 'papaa', 'papah', 'par', 'paraaaah', 'paraaah', 'parab', 'parade', 'paradise', 'paragraf', 'parah', 'parasit', 'pardi', 'parents', 'parfum', 'parfume', 'park', 'parkir', 'parlor', 'parno', 'parson', 'part', 'partai', 'participating', 'partner', 'party', 'paruguh', 'parung', 'paruparu', 'pasang', 'pasar', 'pasca', 'paskah', 'pasrah', 'passed', 'passing', 'passion', 'passive', 'passport', 'passspecial', 'passwall', 'paste', 'pasti', 'pastor', 'pastry', 'pasu', 'pasuk', 'patah', 'patas', 'patch', 'paten', 'path', 'pati', 'patok', 'patrol', 'patty', 'patung', 'patutna', 'paus', 'paw', 'pawang', 'payah', 'payahhhh', 'payahhhhh', 'paylater', 'payneliii', 'paypal', 'payung', 'pb', 'pcrkuuuu', 'pdf', 'peaceful', 'peacefully', 'peaches', 'peakys', 'pean', 'peang', 'peb', 'pecah', 'pecat', 'pecel', 'ped', 'pedas', 'pedessss', 'pedet', 'pedofilia', 'pedot', 'peduli', 'pegal', 'pegang', 'pegawai', 'peka', 'pekan', 'pekanbaru', 'pekinggg', 'pelamin', 'pelet', 'pelihara', 'pelit', 'peluang', 'peluk', 'peluuuuk', 'pembalutkondom', 'pemberitahuan', 'pembuktianya', 'pemgen', 'pempek', 'pemuda', 'penak', 'penalti', 'penalty', 'penasaran', 'penat', 'pencet', 'pendam', 'pendek', 'pendingannn', 'pengap', 'pengaruh', 'pengesahannn', 'penggal', 'penggar', 'penghianat', 'pengkol', 'pengkor', 'penguinkujaga', 'peniti', 'penjuru', 'penontonya', 'pens', 'pensa', 'pensiun', 'penthouse', 'penting', 'pentol', 'penuh', 'penuntutterus', 'people', 'pep', 'pepek', 'peperangan', 'per', 'peran', 'perban', 'perbucinan', 'percaya', 'perdana', 'perdanakusuma', 'perempuan', 'perfect', 'perfectly', 'performance', 'performence', 'perfume', 'pergi', 'pergihadeh', 'perhaps', 'perhati', 'perihal', 'periksa', 'perilaku', 'peringkat', 'perintah', 'perintilan', 'perkara', 'perkosa', 'perlahan', 'perlu', 'permen', 'permendikbud', 'permisi', 'pernah', 'peronlinean', 'perpinjolan', 'persen', 'persentasi', 'persetan', 'persib', 'persis', 'persneleng', 'person', 'pertamax', 'pertamina', 'perth', 'pertiwi', 'perut', 'perutnyaaa', 'pesan', 'pesawat', 'pesbukers', 'pesimis', 'pet', 'peta', 'petai', 'petinggi', 'petir', 'petisi', 'petite', 'pewe', 'peyek', 'pfizer', 'phd', 'phobia', 'phone', 'photo', 'photocard', 'photonya', 'photopack', 'phuket', 'piat', 'pibesdey', 'pic', 'pick', 'picky', 'picture', 'pictures', 'pid', 'pie', 'piece', 'piee', 'pihak', 'pijar', 'pijat', 'pijit', 'pikachu', 'pikir', 'piknik', 'piko', 'pikuk', 'pilek', 'pilih', 'pim', 'pimpin', 'pin', 'pina', 'pinaf', 'pinak', 'pincang', 'pindah', 'pindahin', 'pinggang', 'pinggir', 'pingsan', 'pinjam', 'pinjol', 'pinned', 'pintar', 'pintu', 'pipis', 'piraku', 'piruk', 'pis', 'pisah', 'pisanan', 'pisang', 'pisau', 'piso', 'pixy', 'pkhlp', 'pkknya', 'pl', 'place', 'plagiat', 'plan', 'planhehe', 'plankton', 'plastic', 'plat', 'player', 'playlist', 'playoff', 'plb', 'pleasant', 'please', 'pleased', 'pleaseee', 'plekkk', 'pleno', 'plin', 'plinplan', 'plong', 'plot', 'plotwistnya', 'plsss', 'plssssss', 'plugins', 'plus', 'pmngkunya', 'pocong', 'podaran', 'pogback', 'pohon', 'poin', 'point', 'pojok', 'pokok', 'pokokna', 'pol', 'pola', 'polah', 'polbannya', 'pole', 'police', 'poligami', 'polisi', 'politik', 'pollll', 'polos', 'polow', 'ponakan', 'pondok', 'poni', 'poop', 'poor', 'pop', 'poppy', 'populasi', 'popup', 'porat', 'porchenya', 'poris', 'pororo', 'pororooo', 'porridge', 'porsi', 'porsil', 'porto', 'portray', 'pose', 'posinfonya', 'posisi', 'positif', 'positip', 'poso', 'possible', 'postannya', 'poster', 'posthink', 'posting', 'postingan', 'potek', 'pothograph', 'potomu', 'potong', 'potoo', 'power', 'ppd', 'ppj', 'ppk', 'ppkm', 'ppks', 'ppsmb', 'pra', 'practicing', 'prakarya', 'prakira', 'praktek', 'praktik', 'praktikum', 'prank', 'prasetya', 'pray', 'prayer', 'prayers', 'prediksi', 'prefer', 'preman', 'prematur', 'premier', 'premiere', 'prenagen', 'prepared', 'prequelnya', 'presence', 'present', 'presentasi', 'presiden', 'prestasi', 'prestise', 'pretty', 'preview', 'prezi', 'prg', 'pria', 'pribadi', 'price', 'pricenya', 'pride', 'prima', 'primary', 'prime', 'primitif', 'prinsipny', 'prioritas', 'priority', 'pristine', 'privasi', 'private', 'privilege', 'privku', 'prize', 'problem', 'problematik', 'problems', 'processing', 'produk', 'produktif', 'produktip', 'produktivitas', 'profesi', 'profesional', 'profil', 'profiler', 'profit', 'program', 'progress', 'progressnya', 'projects', 'projek', 'prolly', 'promo', 'promosi', 'promotin', 'promotion', 'proof', 'proplayer', 'proposal', 'prosa', 'proses', 'prot', 'protect', 'protes', 'protokol', 'proud', 'proudly', 'prove', 'provinsi', 'proyek', 'prustrasi', 'prutqu', 'psdm', 'psikater', 'psikolog', 'psikopat', 'pspk', 'ptm', 'ptn', 'puanjangg', 'puas', 'puasa', 'puasaa', 'pubg', 'pubgm', 'publik', 'publish', 'pucetlemes', 'puisi', 'puji', 'pukimak', 'pulang', 'pulau', 'pulih', 'pulkam', 'pulsa', 'puluh', 'puncakbandung', 'pundak', 'pundung', 'punggung', 'pungut', 'punk', 'punten', 'puny', 'pup', 'pupu', 'pupuk', 'puput', 'pura', 'purbalingga', 'pure', 'puri', 'purna', 'purudulkeun', 'purwokerto', 'pus', 'pusar', 'pusat', 'pusengpuseng', 'push', 'pushinknya', 'pusing', 'put', 'putar', 'putboltrapeler', 'puter', 'puterputer', 'puth', 'putih', 'putting', 'putus', 'putuss', 'puyol', 'pvmbg', 'pw', 'pwettyyy', 'python', 'qi', 'qkwkwkwk', 'qlc', 'qodar', 'qor', 'qotd', 'qrt', 'qrtnya', 'quadruple', 'quali', 'quality', 'queen', 'question', 'questioning', 'questions', 'quetvell', 'quickly', 'quite', 'quiziz', 'quotes', 'raajiuun', 'rabi', 'race', 'racing', 'racist', 'racun', 'radang', 'radio', 'rafatar', 'raff', 'raffle', 'rafli', 'raflii', 'raga', 'ragazzi', 'raghs', 'ragi', 'ragu', 'rahasia', 'rahasiarahasia', 'rahim', 'rahman', 'raih', 'rail', 'rain', 'raisa', 'raja', 'rajawali', 'rajin', 'rajutttt', 'rakaat', 'rakim', 'rakyat', 'ralat', 'ramadan', 'ramadhani', 'ramah', 'ramai', 'ramairamai', 'rambut', 'ramean', 'ramen', 'ramli', 'rampung', 'ramsdale', 'ran', 'rancang', 'random', 'randomly', 'rang', 'rangin', 'rangka', 'rangkak', 'rank', 'rann', 'ransel', 'rantau', 'ranti', 'raos', 'rapat', 'rapi', 'rapotann', 'rara', 'raray', 'rare', 'raruhh', 'rarungsing', 'rasa', 'rasanyaaaa', 'rasyid', 'rasyids', 'rata', 'ratap', 'ratenyaa', 'rather', 'rating', 'ratus', 'rawan', 'rawat', 'rawit', 'raya', 'rban', 're', 'react', 'reaction', 'read', 'reader', 'reading', 'ready', 'real', 'realita', 'reallll', 'really', 'reason', 'reasonable', 'reasons', 'rebah', 'rebut', 'receh', 'receive', 'recognition', 'recommend', 'recommended', 'recook', 'record', 'recovery', 'recruitment', 'red', 'redup', 'reeee', 'ref', 'refal', 'refleks', 'reflexology', 'reg', 'regirreg', 'regulater', 'reguler', 'rehak', 'rehan', 'rehat', 'reii', 'reiiiii', 'reject', 'rejection', 'rejeki', 'rek', 'rekam', 'rekan', 'rekening', 'rekomen', 'rekomendasi', 'rekrutmen', 'reksa', 'reksadana', 'rel', 'rela', 'relasi', 'relate', 'relateable', 'related', 'relates', 'relationship', 'release', 'relevan', 'relief', 'reliever', 'relife', 'rellll', 'rem', 'remain', 'remaja', 'rematch', 'remedial', 'remember', 'remind', 'reminder', 'remjet', 'remot', 'renang', 'rencana', 'rencang', 'rendah', 'rendang', 'renee', 'renhyuck', 'renjun', 'reno', 'reog', 'rep', 'repackage', 'repal', 'repeat', 'repliesnya', 'replyannya', 'replydm', 'replynya', 'repot', 'reptile', 'republik', 'request', 'requestku', 'requiem', 'rereee', 'resah', 'resap', 'reschedule', 'resek', 'resep', 'resi', 'residen', 'resign', 'resik', 'resiko', 'resikoo', 'resmi', 'resonance', 'resor', 'resources', 'respect', 'respon', 'responnya', 'response', 'restart', 'resto', 'restoran', 'restrict', 'restu', 'ret', 'reta', 'retail', 'retak', 'retake', 'retno', 'retrace', 'return', 'retweet', 'reuni', 'revelation', 'review', 'revisi', 'revolusi', 'reward', 'rewrite', 'rey', 'rezeki', 'rhafly', 'ri', 'riak', 'rias', 'riau', 'riba', 'ribet', 'ribu', 'ribut', 'ricebox', 'rich', 'rid', 'rida', 'ride', 'rider', 'rieke', 'right', 'rii', 'riii', 'riil', 'ril', 'rileks', 'rin', 'rinding', 'rindu', 'ring', 'ringan', 'ringanin', 'ringin', 'ringkas', 'rinnn', 'rinnnn', 'rio', 'rip', 'ripet', 'ris', 'risan', 'rise', 'riset', 'risih', 'risiko', 'risk', 'risna', 'ritme', 'rival', 'rivan', 'riwa', 'riweh', 'riweuh', 'riwi', 'rixton', 'riya', 'riyoyo', 'rizky', 'rkgk', 'rn', 'rnb', 'roa', 'roanoke', 'roberu', 'rock', 'roda', 'rodi', 'rodo', 'rodrigo', 'roja', 'rojiun', 'rok', 'rokok', 'rola', 'rolando', 'rollback', 'roller', 'romance', 'romantic', 'rome', 'ronald', 'ronaldo', 'ronda', 'rongel', 'rongsok', 'rons', 'rontgen', 'rose', 'rosie', 'roti', 'round', 'rousey', 'routine', 'routinity', 'rover', 'rowoon', 'royal', 'ruang', 'rubah', 'rubik', 'rudal', 'rudy', 'rugi', 'rujak', 'rukyat', 'rules', 'rulesnyaaa', 'rum', 'rumah', 'rumahh', 'rumahkuu', 'rumit', 'rumor', 'rumpun', 'rumput', 'run', 'rundownnya', 'runtah', 'runtuh', 'rupiah', 'ruqyah', 'rusa', 'rusak', 'rust', 'rusuh', 'rusuhny', 'rute', 'rutin', 'rutinitas', 'rutuk', 'ruwet', 'rv', 'sa', 'saama', 'saar', 'sabab', 'sabar', 'sabaraha', 'sabtu', 'sad', 'sadar', 'sadboy', 'sadly', 'sadness', 'saeron', 'safa', 'safeeee', 'sagittarius', 'sahabat', 'sahajaaa', 'saham', 'sahur', 'said', 'saiful', 'saing', 'sajeu', 'sakaaaa', 'sakal', 'saking', 'sakit', 'sakitin', 'sakpenakmu', 'saksi', 'sakti', 'sakura', 'salah', 'salam', 'salat', 'salatri', 'saldo', 'salem', 'sales', 'salin', 'sally', 'saloka', 'salur', 'salut', 'sama', 'samaaa', 'samah', 'samantha', 'samar', 'samasama', 'sambal', 'sambar', 'sambara', 'sambat', 'sambelnya', 'sambi', 'sambung', 'sameeee', 'samgat', 'sami', 'sampah', 'sampali', 'sampean', 'sampee', 'samper', 'samping', 'sampurna', 'samsat', 'samyang', 'sandar', 'sandra', 'sanegnabrykoman', 'sang', 'sangar', 'sanggul', 'sanggup', 'sangka', 'sangkilang', 'sangkut', 'sangsara', 'sans', 'santa', 'santai', 'santet', 'santuy', 'saotik', 'sapa', 'sapaa', 'sapedahanna', 'sapi', 'sapu', 'sar', 'saran', 'sarang', 'sarap', 'sarden', 'saria', 'sariawan', 'sarinah', 'sarjana', 'sarkas', 'saroleh', 'sarung', 'sasaha', 'sasahadijalan', 'sasar', 'sat', 'satanic', 'satarikna', 'sate', 'sateee', 'satisfying', 'satispaying', 'satsetsatset', 'satt', 'satttt', 'satu', 'satusatu', 'satusatunya', 'satwa', 'sauce', 'saudadr', 'saudara', 'saudari', 'saukur', 'sava', 'savage', 'save', 'savean', 'sawit', 'sayang', 'sayap', 'sayat', 'saye', 'says', 'sbaar', 'sbenere', 'sbm', 'sbwjdbwbbhhwh', 'sc', 'scam', 'scared', 'scary', 'scene', 'scenenya', 'schedule', 'school', 'science', 'score', 'scores', 'scratch', 'scream', 'screams', 'screen', 'screening', 'screennya', 'screenshoot', 'screenshot', 'scroll', 'scrolled', 'scumbag', 'sdihh', 'sea', 'seabra', 'seafood', 'sealed', 'season', 'sebab', 'sebal', 'sebar', 'sebats', 'sebelas', 'sebelumny', 'sebeneci', 'sebenere', 'sebenernga', 'sebentar', 'seberang', 'seberatberatnya', 'seblak', 'sebut', 'secingkir', 'second', 'secondary', 'secondhand', 'seconds', 'sedap', 'sedekah', 'sederhana', 'sedia', 'sedih', 'sedihhhhh', 'sedihnyaaa', 'sediy', 'sedot', 'seecul', 'seeder', 'seeing', 'seems', 'seen', 'seengganya', 'sefucked', 'segani', 'segar', 'segera', 'seggs', 'segi', 'seginii', 'sehat', 'sei', 'seilfeel', 'seimezu', 'seismograf', 'seiso', 'sejarah', 'sejati', 'sek', 'sekadarny', 'sekaleee', 'sekalikali', 'sekalin', 'sekalyy', 'sekarangmah', 'sekarat', 'sekepo', 'sekian', 'sekolah', 'sekostan', 'sekre', 'sekretariat', 'seksual', 'seksualitas', 'sekuyy', 'selagi', 'selai', 'selak', 'selalways', 'selam', 'selamaatt', 'selamat', 'selangkahselangkah', 'selasa', 'selatan', 'selawat', 'selca', 'sele', 'selebrasi', 'selebriti', 'seleksi', 'selenggara', 'selengkih', 'selera', 'selesai', 'selesaiiii', 'selesaiselesai', 'selese', 'selesein', 'self', 'selfdiagnose', 'selimut', 'seling', 'selingkuh', 'sell', 'sellkor', 'sells', 'selo', 'seluru', 'semager', 'semamgattt', 'semangaaaat', 'semangat', 'semangatin', 'semangatna', 'semangattt', 'semangatttt', 'semangatttttt', 'semangka', 'semangttt', 'semarang', 'sembari', 'sembelih', 'sembilan', 'sembuh', 'sembuhh', 'sembunyi', 'semen', 'semenjak', 'semesta', 'semester', 'semhas', 'semikolon', 'seminar', 'semnakin', 'semngattt', 'semogaaa', 'sempat', 'sempettt', 'sempit', 'sempro', 'semprot', 'sempur', 'sempurna', 'semruawut', 'semua', 'semuaa', 'semuaaaaa', 'semuanyahh', 'semvak', 'sen', 'senah', 'senang', 'senat', 'send', 'sendal', 'sendalsepatu', 'sendat', 'sender', 'senderna', 'sending', 'sendiri', 'senga', 'sengaja', 'senggol', 'sengir', 'sengojo', 'sengsara', 'seni', 'senin', 'senior', 'senja', 'senji', 'sensitif', 'sensitive', 'sensitivitas', 'sensor', 'senter', 'sentimental', 'sentosa', 'sentuh', 'sentul', 'senut', 'senyum', 'senyumn', 'seo', 'seolaholah', 'seongcheol', 'seonghwa', 'seongyeong', 'seonho', 'seoul', 'sep', 'sepak', 'sepatu', 'sepeda', 'sepele', 'seperilkoman', 'seperti', 'sepertinyaaa', 'sepi', 'september', 'sepupu', 'sequel', 'seraaa', 'seragam', 'serah', 'seram', 'serang', 'serangggggg', 'seraph', 'serasa', 'serba', 'serbaserbi', 'seremm', 'seremmm', 'seremmmm', 'seri', 'serial', 'series', 'sering', 'seringai', 'seringg', 'serious', 'serit', 'serius', 'seriusin', 'serpih', 'serta', 'sertif', 'seru', 'seruduk', 'serum', 'server', 'service', 'servixe', 'sesah', 'sesak', 'sesal', 'sesat', 'sesuai', 'sesuatuu', 'set', 'setan', 'setel', 'setelahe', 'setia', 'setir', 'setor', 'setress', 'setujuuuu', 'seulgi', 'seunbaenim', 'seungkwan', 'seungmin', 'seungyoon', 'seven', 'sevibe', 'sex', 'sexualitas', 'sf', 'sg', 'sh', 'shaaan', 'shab', 'shades', 'shadow', 'shaka', 'shaking', 'shampoonya', 'shan', 'shannninnn', 'shareloc', 'sharing', 'shaumm', 'shawn', 'shd', 'she', 'sheila', 'shekyaa', 'shelf', 'shes', 'shibaal', 'shied', 'shien', 'shift', 'shiftan', 'shine', 'shining', 'shinu', 'ship', 'shirt', 'shkjgfrvjhskfx', 'shock', 'shockkkkk', 'shoe', 'shooo', 'shooting', 'shopee', 'shopeepay', 'should', 'shouldnt', 'show', 'shud', 'shy', 'sia', 'siaapppp', 'sial', 'siamah', 'siang', 'siangsore', 'siap', 'siapa', 'siapaaa', 'siapaaaatuu', 'siar', 'siblings', 'sibuk', 'sibukin', 'sica', 'sick', 'sidane', 'sidang', 'side', 'sidik', 'sido', 'sienen', 'sieta', 'sieun', 'sifat', 'sig', 'siganamah', 'signature', 'signed', 'sigobss', 'sih', 'siii', 'siiiiiiii', 'sikap', 'siklus', 'sikonnya', 'siksa', 'sila', 'silaturrahmi', 'silent', 'silet', 'siluman', 'sim', 'simak', 'simbol', 'simi', 'similar', 'simkuring', 'simon', 'simpan', 'simple', 'simpul', 'sims', 'simulasi', 'sin', 'sinar', 'sinau', 'sinden', 'sindir', 'sindoro', 'sinetron', 'singa', 'singapura', 'singer', 'singgah', 'singgung', 'singing', 'singkat', 'singkawang', 'single', 'sini', 'siniii', 'siniiiii', 'sinyal', 'siomay', 'sip', 'sipad', 'siper', 'sipil', 'sipu', 'sir', 'sirah', 'sirine', 'siroh', 'sis', 'sisa', 'sisfo', 'sisi', 'sisirikan', 'sist', 'sistar', 'sistem', 'sistur', 'sisturrr', 'siswa', 'sitasi', 'site', 'siti', 'situ', 'situasi', 'situesyenship', 'siunya', 'size', 'sjnis', 'skala', 'skaliii', 'skateboard', 'skdhdhsjjdbdbxhsj', 'skena', 'sketsa', 'skill', 'skin', 'skincare', 'skinheads', 'skinsena', 'skom', 'skripsi', 'sks', 'skskdjcgsjbsudl', 'sksksk', 'skskskksk', 'skskskksks', 'sksksks', 'sksnyaa', 'skuy', 'sky', 'skyrim', 'skywalker', 'skz', 'slawww', 'slay', 'slayer', 'sleep', 'sleepin', 'sleketep', 'sleman', 'slice', 'slide', 'slip', 'slipknot', 'slot', 'slwsndkelwpw', 'smarttt', 'smell', 'smi', 'smile', 'smiths', 'smol', 'smooth', 'smoothies', 'smsmskwkskwk', 'smt', 'smth', 'smtown', 'smwa', 'sn', 'snacknya', 'snake', 'sngnya', 'snm', 'snmptn', 'snob', 'snsd', 'soal', 'soalna', 'soalnyaa', 'sobat', 'sobathape', 'sobekin', 'sobs', 'socio', 'sofia', 'softlens', 'software', 'sokin', 'sokinnn', 'soko', 'solatin', 'sold', 'solid', 'solo', 'solusi', 'solving', 'somay', 'sombong', 'sombrero', 'some', 'somebody', 'someday', 'someone', 'sometimes', 'somthing', 'sonang', 'sone', 'song', 'sontak', 'sontek', 'soooo', 'sopan', 'sopi', 'sopir', 'soq', 'sore', 'soreang', 'sori', 'sort', 'sortitoutsi', 'soshi', 'sosial', 'sosok', 'sosweet', 'sotauu', 'soto', 'soul', 'sound', 'sour', 'source', 'sowwww', 'sp', 'spam', 'spanyol', 'spasi', 'spaso', 'spay', 'speadbootnya', 'speak', 'specialties', 'speech', 'speedy', 'spending', 'sperm', 'spes', 'spesial', 'spesialis', 'spesialist', 'spesies', 'spesnya', 'spess', 'spider', 'spidol', 'spill', 'spin', 'spirit', 'split', 'splitbill', 'spo', 'spoiler', 'spolier', 'sponge', 'sponsor', 'sponsorin', 'spontan', 'spontanitas', 'sport', 'spot', 'spotify', 'spotting', 'spring', 'spupu', 'spyer', 'square', 'squid', 'ssan', 'ssg', 'sssttt', 'ssstttt', 'stabil', 'staf', 'stalker', 'stalking', 'stand', 'standar', 'standart', 'standby', 'standee', 'standing', 'starfield', 'stars', 'start', 'starter', 'starting', 'startup', 'stase', 'stasiun', 'state', 'statham', 'station', 'status', 'stay', 'staycation', 'staying', 'steal', 'stefanus', 'stelan', 'step', 'steps', 'steve', 'stew', 'sticker', 'stig', 'stiil', 'stiker', 'still', 'stnk', 'stole', 'stomp', 'stone', 'stop', 'store', 'straight', 'strategi', 'strategy', 'strawberry', 'straykids', 'streaming', 'streammmmm', 'streetrace', 'stres', 'stressed', 'stresss', 'stressss', 'string', 'strip', 'strong', 'strongest', 'struggle', 'struggling', 'stuck', 'student', 'studi', 'study', 'stuffs', 'stum', 'stun', 'stuntman', 'sty', 'styles', 'suami', 'suang', 'suara', 'suasana', 'sub', 'subhanahu', 'subret', 'subtittle', 'subuh', 'subuhsubuh', 'subur', 'successful', 'such', 'suckid', 'suda', 'sudaaah', 'suddenly', 'sudut', 'sueee', 'suffering', 'suggest', 'sugokatta', 'suh', 'suhu', 'suisei', 'sujud', 'suka', 'sukaakkk', 'sukabumi', 'sukabumiciputatsukabumi', 'sukakk', 'sukasuka', 'sukoyomi', 'sukses', 'sulit', 'sultan', 'sulung', 'sum', 'sumatra', 'sumedang', 'sumitomo', 'summer', 'summernya', 'sumpaaaaah', 'sumpah', 'sumpil', 'sunda', 'sundae', 'sungchan', 'sunggug', 'sungguh', 'sungguhakn', 'sungjin', 'sungkemm', 'sungut', 'sunnyday', 'sunrise', 'sunscreen', 'sunset', 'sunshine', 'sunti', 'suntuk', 'supardi', 'super', 'support', 'supporting', 'supremacy', 'surabaya', 'suram', 'surat', 'surga', 'surken', 'surprise', 'surprisee', 'surprisein', 'suruh', 'surya', 'sus', 'susah', 'susahh', 'sushi', 'suspend', 'suster', 'susu', 'susun', 'sut', 'sutra', 'sutradara', 'suuzan', 'svt', 'swab', 'swafoto', 'swallow', 'swasta', 'swatch', 'swedia', 'sweet', 'swing', 'swinggg', 'sworn', 'swot', 'syaban', 'syafiq', 'syalann', 'syarat', 'syariat', 'syariyah', 'symbian', 'syopi', 'syudaaa', 'syukur', 'syuting', 'taala', 'tabah', 'tabarakallah', 'tabrak', 'tabtab', 'tabu', 'tabung', 'tad', 'taehyung', 'taeil', 'taekkk', 'taemo', 'taeyong', 'tafsir', 'tag', 'tagih', 'tagnyaaa', 'tahajjud', 'tahajud', 'tahajuddd', 'tahan', 'tahantahan', 'tahh', 'tahu', 'tahun', 'taichan', 'taichannya', 'taiiikkk', 'taipei', 'tajam', 'tak', 'takapaa', 'takbir', 'takdir', 'take', 'takehiro', 'taker', 'taking', 'takisss', 'takit', 'takjil', 'takjub', 'taksaka', 'taksi', 'taksir', 'taktik', 'taktinya', 'takut', 'takutt', 'takuuuut', 'talent', 'tali', 'talk', 'talks', 'tamak', 'taman', 'tamat', 'tambah', 'tambang', 'tameng', 'tamini', 'tampan', 'tampang', 'tampar', 'tampil', 'tampung', 'tamvan', 'tan', 'tanah', 'tanam', 'tanda', 'tandane', 'tanding', 'taneman', 'tang', 'tangan', 'tangerang', 'tanggal', 'tanggap', 'tangguh', 'tanggung', 'tangis', 'tangkap', 'tangkis', 'tani', 'tanjak', 'tank', 'tanktop', 'tann', 'tantang', 'tantelala', 'tanya', 'tanyaa', 'tanyrl', 'taonnya', 'tapiii', 'tapiiii', 'tapping', 'tapteng', 'taqlid', 'taqy', 'tar', 'tara', 'taraweh', 'tarawih', 'target', 'tari', 'tarik', 'tarima', 'taring', 'taro', 'tarok', 'taruh', 'tarung', 'tarutung', 'tas', 'tasik', 'task', 'taste', 'tasya', 'tasyatasyi', 'tata', 'tatadado', 'tatakaee', 'tatap', 'tato', 'tau', 'taun', 'tawa', 'tawaaaaa', 'tawar', 'taya', 'tayamum', 'tayang', 'taylor', 'tb', 'tbl', 'tbltbltbl', 'tds', 'tea', 'teacher', 'teacherthe', 'teams', 'tear', 'tears', 'teasernyaa', 'tebak', 'tebal', 'tebar', 'technically', 'ted', 'teduh', 'teee', 'teflon', 'tega', 'tegak', 'tegal', 'tegang', 'teguh', 'tegur', 'teh', 'teing', 'tekan', 'tekkim', 'teknik', 'teknikalnya', 'teknikk', 'teknologi', 'teko', 'tektek', 'tektel', 'tektonik', 'tektonikvulkanik', 'tekun', 'telah', 'telat', 'telatt', 'tele', 'telegram', 'telekung', 'telepati', 'telepon', 'televisi', 'telfon', 'telinga', 'teliti', 'telkom', 'telkomsel', 'tell', 'teller', 'tells', 'telpon', 'telu', 'telur', 'telyufess', 'tem', 'tema', 'teman', 'tembus', 'temenq', 'tementemen', 'temlenkuh', 'tempat', 'tempe', 'tempel', 'tempelin', 'template', 'tempo', 'temu', 'temuin', 'ten', 'tenagapikiran', 'tenanan', 'tenang', 'tencuu', 'tencuuwww', 'tender', 'teneb', 'tengah', 'tenggelam', 'tengger', 'tenggorok', 'tengkar', 'tengkies', 'tengkyu', 'tengkyuu', 'tengok', 'tengoktengok', 'tensi', 'tentatif', 'tentram', 'tentu', 'tenyang', 'tenyata', 'teori', 'tepangna', 'tepar', 'teppan', 'tepung', 'terang', 'terap', 'teras', 'teraweh', 'terbaek', 'terbang', 'terbit', 'terdalamterparah', 'terdeket', 'tergesagesa', 'terhadeh', 'teriak', 'teriimakasih', 'terika', 'terima', 'terjang', 'terjunho', 'terkadang', 'terkejutt', 'terminal', 'terngaco', 'terngaret', 'terngukuk', 'ternyataaa', 'terobatii', 'teroooos', 'terooosas', 'teror', 'teroris', 'teross', 'terosss', 'terpecaya', 'tersedusedu', 'terserahaloy', 'terseyeng', 'tersyndyr', 'tertawa', 'tertypu', 'terus', 'teruuus', 'tes', 'testimoni', 'tetangga', 'tetap', 'tete', 'tetehhhh', 'tetes', 'teuhh', 'teuing', 'teuku', 'tfan', 'tg', 'tgel', 'tgif', 'tglnya', 'tgr', 'thailand', 'thalassophobia', 'thankk', 'thankss', 'thanksss', 'thankyou', 'thankyouu', 'thankyouuu', 'thankyouuuu', 'thankyouuuuuuuuuuu', 'theft', 'their', 'them', 'theory', 'theres', 'therobswanson', 'theyre', 'thi', 'thian', 'thiefs', 'thiiis', 'thing', 'thingking', 'think', 'thinking', 'this', 'thiscakep', 'thisss', 'thomas', 'thought', 'three', 'thrift', 'through', 'thru', 'tht', 'tiang', 'tiara', 'tiaraaa', 'tiasa', 'tibake', 'tidak', 'tidaktau', 'tidur', 'tiduuuuur', 'tie', 'tieksti', 'tifourtinnaintin', 'tiga', 'tiger', 'tihh', 'tije', 'tika', 'tikacemplung', 'tikar', 'tiket', 'tikhtokh', 'tiktok', 'tiktokan', 'tikung', 'tikus', 'tilam', 'tilang', 'tilil', 'till', 'tim', 'timaaci', 'timbang', 'time', 'timeee', 'timeflies', 'timer', 'times', 'timpa', 'timur', 'tindak', 'tindas', 'ting', 'tinggal', 'tinggi', 'tingkah', 'tingkat', 'tinju', 'tipe', 'tipes', 'tipis', 'tips', 'tipu', 'tir', 'tirai', 'tiramisunya', 'tired', 'tiren', 'tiro', 'tis', 'tissue', 'titik', 'titip', 'title', 'tiup', 'tix', 'tjakeeep', 'tktk', 'tlgggg', 'tlkm', 'tmbhan', 'toba', 'today', 'todays', 'todayyy', 'todd', 'toeic', 'toel', 'toga', 'toge', 'together', 'toilet', 'tok', 'token', 'toko', 'tokotokopcovered', 'tokped', 'toksik', 'tol', 'tolak', 'told', 'toleransi', 'tolol', 'tololll', 'tolong', 'tolonggg', 'tolonk', 'toloooonnggg', 'tom', 'tomat', 'tomatoes', 'tombol', 'tomiyasu', 'tomorrow', 'toner', 'tong', 'tongkat', 'tonjok', 'tonjol', 'tonton', 'tontowi', 'tonyok', 'toomuch', 'toothless', 'top', 'topeng', 'topi', 'topik', 'torrent', 'total', 'totally', 'totebagnya', 'toto', 'touchdown', 'tour', 'touring', 'tournament', 'towards', 'toxic', 'tpa', 'tpp', 'track', 'tracklist', 'trading', 'tradisi', 'traffic', 'traitor', 'trakteer', 'transaksi', 'transfer', 'transit', 'transkrip', 'translate', 'translation', 'transtv', 'trauma', 'travel', 'travelling', 'tread', 'treasure', 'treatment', 'tremble', 'tremor', 'tren', 'trening', 'trex', 'trial', 'tried', 'trigger', 'trilogy', 'trimagaji', 'tring', 'trio', 'triple', 'trippier', 'trivial', 'trsera', 'trshaloy', 'tru', 'trua', 'true', 'trueeee', 'trust', 'trusted', 'trusting', 'truth', 'truthfully', 'try', 'trying', 'trz', 'tsabitha', 'tsadesssst', 'tt', 'ttttaaaapppiii', 'tua', 'tuai', 'tuan', 'tubagus', 'tuban', 'tubi', 'tubuh', 'tudei', 'tudey', 'tuduh', 'tudur', 'tugas', 'tugur', 'tuhan', 'tuhnya', 'tuju', 'tujuh', 'tukang', 'tukar', 'tukartukaran', 'tukok', 'tuku', 'tulang', 'tular', 'tulis', 'tulisantulisannya', 'tulung', 'tulus', 'tuluunnggg', 'tum', 'tuman', 'tumbaassss', 'tumbang', 'tumben', 'tumblr', 'tumbuh', 'tumit', 'tumpah', 'tumpang', 'tumpuk', 'tun', 'tunai', 'tunang', 'tunda', 'tunggal', 'tunggu', 'tungguin', 'tunik', 'tunjang', 'tunjuk', 'tuntas', 'tuntut', 'tup', 'tupperware', 'turbo', 'turing', 'turn', 'turning', 'turnitin', 'turu', 'turun', 'turut', 'tus', 'tusuk', 'tutup', 'tuul', 'tuw', 'tuy', 'tuyul', 'tweetsmu', 'twenties', 'twenty', 'twist', 'twisted', 'twitnya', 'twitter', 'tws', 'twtny', 'txtdarionlineshop', 'tyler', 'typonya', 'uaa', 'uak', 'uang', 'uangpendapatan', 'uap', 'ubah', 'uber', 'ucap', 'ucl', 'ucpkan', 'ucup', 'ucuuul', 'udah', 'udahhh', 'udahnya', 'udahpernah', 'udang', 'udann', 'udara', 'udhh', 'udu', 'udud', 'ueueue', 'ugly', 'ugm', 'uh', 'uhuuyy', 'uhuy', 'ujang', 'ujannya', 'uji', 'uju', 'ujung', 'uka', 'ukah', 'ukt', 'uktmu', 'ukur', 'ulah', 'ulang', 'uler', 'ulin', 'ult', 'ultahh', 'ultahmu', 'umak', 'umat', 'umay', 'umi', 'umpama', 'umpet', 'umrah', 'umuh', 'umum', 'umur', 'unair', 'unbw', 'uncchhh', 'uncencored', 'uncharted', 'uncleeeee', 'unconditionally', 'uncrush', 'undang', 'under', 'undergraduate', 'underprice', 'understands', 'undervalue', 'undip', 'unduh', 'undur', 'uner', 'unfaedah', 'unfollow', 'unfollowed', 'unforgettable', 'unfortunately', 'unfren', 'ung', 'unggah', 'unggul', 'ungsi', 'unhappy', 'unhealt', 'unin', 'uningamah', 'uninstall', 'unisba', 'unisex', 'unit', 'united', 'universal', 'universe', 'universitas', 'unjuk', 'unjung', 'unless', 'unlocking', 'unmood', 'unmute', 'unmuteee', 'unreal', 'unsee', 'unsur', 'until', 'untu', 'untuk', 'untung', 'unyil', 'unyu', 'unyuuu', 'uo', 'upacara', 'upamecano', 'upaya', 'upee', 'upi', 'upsize', 'urai', 'urang', 'uras', 'ure', 'urgent', 'urgenttt', 'uri', 'urng', 'urun', 'urung', 'urus', 'urusann', 'urut', 'urwelkom', 'urwelll', 'usaha', 'usahain', 'usak', 'usd', 'use', 'used', 'useful', 'usg', 'usia', 'usik', 'usman', 'usn', 'ustadasa', 'ustadzah', 'usum', 'usume', 'usut', 'utah', 'utama', 'utara', 'utarariau', 'utbk', 'utbknya', 'utee', 'uthe', 'uti', 'utube', 'utututututu', 'uul', 'uuuuu', 'uwadiduh', 'uwang', 'uwuan', 'uwuu', 'uwuuuu', 'uwuwuwuuww', 'uwuwuwuwu', 'uy', 'uyah', 'uyut', 'vaksin', 'vaksinkesehatan', 'vakum', 'valdi', 'vale', 'valid', 'validd', 'valo', 'valorant', 'vandunh', 'vanyak', 'varian', 'vario', 'vavl', 'vcan', 'vegan', 'velg', 'velvet', 'ven', 'vendor', 'versi', 'versionnya', 'versys', 'vertigo', 'vesmet', 'vespa', 'vest', 'vet', 'veteran', 'vibe', 'vibenya', 'vibes', 'vibesnya', 'vice', 'vickhuman', 'video', 'videografis', 'videography', 'videovoice', 'view', 'villain', 'vin', 'vincerai', 'vip', 'viral', 'virtual', 'virus', 'visibility', 'vision', 'vitamin', 'viu', 'vl', 'vlado', 'vlive', 'vlog', 'vm', 'voc', 'voices', 'vokal', 'vokasi', 'vol', 'voli', 'volume', 'volunteer', 'vow', 'vuitton', 'vulkanik', 'vvd', 'vvip', 'waaah', 'waahh', 'waalaikumsalam', 'wabarakatuuu', 'wacana', 'wadaww', 'wade', 'wadoh', 'waduch', 'waduchhh', 'waduhhh', 'wahahahahahaha', 'waist', 'waiting', 'waitt', 'waittt', 'wajah', 'wajar', 'wajib', 'waka', 'wakakakk', 'wake', 'wakes', 'wakil', 'waktu', 'wakwau', 'walah', 'wali', 'walks', 'wallahi', 'wallahu', 'walletpc', 'walo', 'walt', 'wan', 'wang', 'wangi', 'wani', 'wanita', 'wanjas', 'wanjasssss', 'wanjay', 'wannaone', 'wanted', 'wanti', 'wanting', 'wants', 'wantuseven', 'war', 'warahmatulahi', 'waras', 'warga', 'warganet', 'warm', 'warmest', 'warmindo', 'warna', 'warnanyaaa', 'warnawarni', 'warning', 'warriors', 'warta', 'warung', 'was', 'wasi', 'wasit', 'wassalam', 'wasweswos', 'watch', 'water', 'watford', 'wati', 'watt', 'wattpad', 'wattpas', 'watur', 'wawancara', 'wawas', 'way', 'we', 'weak', 'wearing', 'weather', 'webex', 'wedding', 'wedi', 'wednesdayy', 'wee', 'weekeeend', 'weeks', 'weh', 'wehhh', 'weipe', 'weishennies', 'welcome', 'wellcome', 'wendy', 'wendyyyyyy', 'were', 'werpek', 'west', 'western', 'wetv', 'wfh', 'wfo', 'wha', 'whaatt', 'whatcha', 'wheeze', 'where', 'which', 'whiny', 'white', 'whitelab', 'wholesome', 'whooof', 'whos', 'whut', 'whyy', 'wibuu', 'wicak', 'wid', 'widi', 'widiih', 'widodo', 'wifi', 'wih', 'wihhhh', 'wiihh', 'wiiii', 'wiiiiiih', 'wikan', 'wilayah', 'wilson', 'winderella', 'wine', 'winehouse', 'wing', 'winner', 'winners', 'winning', 'winter', 'winterr', 'winterrr', 'winwin', 'wipe', 'wipped', 'wisata', 'wise', 'wish', 'wisuda', 'wit', 'witintot', 'witir', 'witnessed', 'wkakaak', 'wkakaka', 'wkakwkakwkwk', 'wkkwk', 'wkkwkwwk', 'wkwkkwkwkk', 'wkwkkwkwkwkkwkww', 'wkwkkwkwkwkwkw', 'wkwkkwkwkwkwkwkwk', 'wkwkpokonyaa', 'wkwkwkada', 'wkwkwkkwkwkwkwk', 'wkwkwkkwwkk', 'wkwkwkkwwwkkwkwkwk', 'wkwkwkwkkwkw', 'wkwkwkwkkwwk', 'wkwkwkwkoh', 'wkwkwkwkwkwkwkkw', 'wkwkwkwkwlwkkw', 'wkwkww', 'wkwkwwkk', 'wkwkwwkwkwkwk', 'wkwwkkwkwkwkwkwk', 'wkwwkwk', 'wlee', 'wm', 'wmll', 'woaaa', 'woaaaa', 'woag', 'woah', 'wohoho', 'wohoooo', 'woiii', 'wokaiii', 'wokeh', 'wokehh', 'wolff', 'woman', 'won', 'wonderful', 'wondering', 'wonderland', 'wonpil', 'wont', 'woohh', 'wook', 'woon', 'woowi', 'word', 'worked', 'workout', 'world', 'worldwide', 'worn', 'worse', 'worst', 'worth', 'worthy', 'would', 'wp', 'wpu', 'write', 'written', 'wss', 'wth', 'wts', 'wtsan', 'wuaaah', 'wucu', 'wudhu', 'wuff', 'wujud', 'wujudin', 'ww', 'wwawaduh', 'wwkkwk', 'wwkwkkwkswkskwksk', 'wwkwkwkkwkwkk', 'xbsjskdk', 'xchange', 'xenia', 'xi', 'xiaojun', 'xibiru', 'ximm', 'xix', 'xixixi', 'xixixiixixixixixxi', 'xlnya', 'xrthcix', 'xxi', 'xxx', 'yaaaaa', 'yaampoon', 'yaampoonnnn', 'yadah', 'yaelah', 'yaga', 'yagayagaaa', 'yahehe', 'yahuuu', 'yahya', 'yaiya', 'yakaaannnnn', 'yakann', 'yakeles', 'yakult', 'yamaaap', 'yamet', 'yami', 'yamin', 'yan', 'yanglain', 'yangyang', 'yankees', 'yaps', 'yapss', 'yaris', 'yasin', 'yassss', 'yasudah', 'yasudahlah', 'yattaa', 'yatuhan', 'yatuhannnn', 'yaudala', 'yaudasi', 'yauds', 'yaudss', 'yawda', 'yawez', 'yay', 'yayayayayayayayaya', 'yayy', 'yayyy', 'ydh', 'yeahh', 'yeahhhh', 'years', 'yeay', 'yeeaaahhhhh', 'yeillah', 'yel', 'yensen', 'yeorobun', 'yerim', 'yess', 'yesshhh', 'yessss', 'yesung', 'yesus', 'yet', 'yeuu', 'yeyen', 'yeyyy', 'ygbisa', 'ygy', 'yhaa', 'yi', 'yieldnya', 'yijin', 'yijinheedo', 'yntkts', 'yoan', 'yodah', 'yogs', 'yogyakarta', 'yokla', 'yong', 'yoobi', 'yoojung', 'yoongi', 'yoow', 'york', 'yoshi', 'yoshioka', 'youll', 'young', 'youngk', 'younya', 'your', 'yours', 'yourself', 'youtube', 'youve', 'yoweslahyo', 'yuba', 'yuckkk', 'yuli', 'yume', 'yumicells', 'yumm', 'yun', 'yuna', 'yunho', 'yupi', 'yupsss', 'yurim', 'yusana', 'yuuuu', 'yuwa', 'yuyur', 'yyy', 'zaa', 'zalnando', 'zaman', 'zan', 'zarmose', 'zealand', 'zidane', 'zigvolt', 'zii', 'zipper', 'ziyi', 'zlatan', 'zodiak', 'zoom', 'zul', 'zuzur']\n",
            "[1 3 5 ... 4 1 1]\n"
          ]
        }
      ]
    },
    {
      "cell_type": "code",
      "source": [
        "# Train\n",
        "df_jumlah_kata = pd.DataFrame(list(jumlah_kata.items()), columns=['Kata', 'Jumlah'])\n",
        "df_jumlah_kata.sort_values(by='Jumlah', ascending=False)\n",
        "#df_jumlah_kata.to_csv(\"Bobot.csv\", index = False)"
      ],
      "metadata": {
        "id": "mxTWCdIEl8rH",
        "colab": {
          "base_uri": "https://localhost:8080/",
          "height": 424
        },
        "outputId": "da25333d-93df-473a-d3f4-5ef98dfee7bb"
      },
      "execution_count": null,
      "outputs": [
        {
          "output_type": "execute_result",
          "data": {
            "text/plain": [
              "         Kata  Jumlah\n",
              "1986      gue     432\n",
              "5015    orang     314\n",
              "3010    kasih     149\n",
              "7127    teman     135\n",
              "5084    pakai     127\n",
              "...       ...     ...\n",
              "3538  lambung       1\n",
              "3537  lambeyy       1\n",
              "3536    lambe       1\n",
              "3534   lambai       1\n",
              "8141    zuzur       1\n",
              "\n",
              "[8142 rows x 2 columns]"
            ],
            "text/html": [
              "\n",
              "  <div id=\"df-303cc36b-0eb3-47e6-92af-fda4984269fa\">\n",
              "    <div class=\"colab-df-container\">\n",
              "      <div>\n",
              "<style scoped>\n",
              "    .dataframe tbody tr th:only-of-type {\n",
              "        vertical-align: middle;\n",
              "    }\n",
              "\n",
              "    .dataframe tbody tr th {\n",
              "        vertical-align: top;\n",
              "    }\n",
              "\n",
              "    .dataframe thead th {\n",
              "        text-align: right;\n",
              "    }\n",
              "</style>\n",
              "<table border=\"1\" class=\"dataframe\">\n",
              "  <thead>\n",
              "    <tr style=\"text-align: right;\">\n",
              "      <th></th>\n",
              "      <th>Kata</th>\n",
              "      <th>Jumlah</th>\n",
              "    </tr>\n",
              "  </thead>\n",
              "  <tbody>\n",
              "    <tr>\n",
              "      <th>1986</th>\n",
              "      <td>gue</td>\n",
              "      <td>432</td>\n",
              "    </tr>\n",
              "    <tr>\n",
              "      <th>5015</th>\n",
              "      <td>orang</td>\n",
              "      <td>314</td>\n",
              "    </tr>\n",
              "    <tr>\n",
              "      <th>3010</th>\n",
              "      <td>kasih</td>\n",
              "      <td>149</td>\n",
              "    </tr>\n",
              "    <tr>\n",
              "      <th>7127</th>\n",
              "      <td>teman</td>\n",
              "      <td>135</td>\n",
              "    </tr>\n",
              "    <tr>\n",
              "      <th>5084</th>\n",
              "      <td>pakai</td>\n",
              "      <td>127</td>\n",
              "    </tr>\n",
              "    <tr>\n",
              "      <th>...</th>\n",
              "      <td>...</td>\n",
              "      <td>...</td>\n",
              "    </tr>\n",
              "    <tr>\n",
              "      <th>3538</th>\n",
              "      <td>lambung</td>\n",
              "      <td>1</td>\n",
              "    </tr>\n",
              "    <tr>\n",
              "      <th>3537</th>\n",
              "      <td>lambeyy</td>\n",
              "      <td>1</td>\n",
              "    </tr>\n",
              "    <tr>\n",
              "      <th>3536</th>\n",
              "      <td>lambe</td>\n",
              "      <td>1</td>\n",
              "    </tr>\n",
              "    <tr>\n",
              "      <th>3534</th>\n",
              "      <td>lambai</td>\n",
              "      <td>1</td>\n",
              "    </tr>\n",
              "    <tr>\n",
              "      <th>8141</th>\n",
              "      <td>zuzur</td>\n",
              "      <td>1</td>\n",
              "    </tr>\n",
              "  </tbody>\n",
              "</table>\n",
              "<p>8142 rows × 2 columns</p>\n",
              "</div>\n",
              "      <button class=\"colab-df-convert\" onclick=\"convertToInteractive('df-303cc36b-0eb3-47e6-92af-fda4984269fa')\"\n",
              "              title=\"Convert this dataframe to an interactive table.\"\n",
              "              style=\"display:none;\">\n",
              "        \n",
              "  <svg xmlns=\"http://www.w3.org/2000/svg\" height=\"24px\"viewBox=\"0 0 24 24\"\n",
              "       width=\"24px\">\n",
              "    <path d=\"M0 0h24v24H0V0z\" fill=\"none\"/>\n",
              "    <path d=\"M18.56 5.44l.94 2.06.94-2.06 2.06-.94-2.06-.94-.94-2.06-.94 2.06-2.06.94zm-11 1L8.5 8.5l.94-2.06 2.06-.94-2.06-.94L8.5 2.5l-.94 2.06-2.06.94zm10 10l.94 2.06.94-2.06 2.06-.94-2.06-.94-.94-2.06-.94 2.06-2.06.94z\"/><path d=\"M17.41 7.96l-1.37-1.37c-.4-.4-.92-.59-1.43-.59-.52 0-1.04.2-1.43.59L10.3 9.45l-7.72 7.72c-.78.78-.78 2.05 0 2.83L4 21.41c.39.39.9.59 1.41.59.51 0 1.02-.2 1.41-.59l7.78-7.78 2.81-2.81c.8-.78.8-2.07 0-2.86zM5.41 20L4 18.59l7.72-7.72 1.47 1.35L5.41 20z\"/>\n",
              "  </svg>\n",
              "      </button>\n",
              "      \n",
              "  <style>\n",
              "    .colab-df-container {\n",
              "      display:flex;\n",
              "      flex-wrap:wrap;\n",
              "      gap: 12px;\n",
              "    }\n",
              "\n",
              "    .colab-df-convert {\n",
              "      background-color: #E8F0FE;\n",
              "      border: none;\n",
              "      border-radius: 50%;\n",
              "      cursor: pointer;\n",
              "      display: none;\n",
              "      fill: #1967D2;\n",
              "      height: 32px;\n",
              "      padding: 0 0 0 0;\n",
              "      width: 32px;\n",
              "    }\n",
              "\n",
              "    .colab-df-convert:hover {\n",
              "      background-color: #E2EBFA;\n",
              "      box-shadow: 0px 1px 2px rgba(60, 64, 67, 0.3), 0px 1px 3px 1px rgba(60, 64, 67, 0.15);\n",
              "      fill: #174EA6;\n",
              "    }\n",
              "\n",
              "    [theme=dark] .colab-df-convert {\n",
              "      background-color: #3B4455;\n",
              "      fill: #D2E3FC;\n",
              "    }\n",
              "\n",
              "    [theme=dark] .colab-df-convert:hover {\n",
              "      background-color: #434B5C;\n",
              "      box-shadow: 0px 1px 3px 1px rgba(0, 0, 0, 0.15);\n",
              "      filter: drop-shadow(0px 1px 2px rgba(0, 0, 0, 0.3));\n",
              "      fill: #FFFFFF;\n",
              "    }\n",
              "  </style>\n",
              "\n",
              "      <script>\n",
              "        const buttonEl =\n",
              "          document.querySelector('#df-303cc36b-0eb3-47e6-92af-fda4984269fa button.colab-df-convert');\n",
              "        buttonEl.style.display =\n",
              "          google.colab.kernel.accessAllowed ? 'block' : 'none';\n",
              "\n",
              "        async function convertToInteractive(key) {\n",
              "          const element = document.querySelector('#df-303cc36b-0eb3-47e6-92af-fda4984269fa');\n",
              "          const dataTable =\n",
              "            await google.colab.kernel.invokeFunction('convertToInteractive',\n",
              "                                                     [key], {});\n",
              "          if (!dataTable) return;\n",
              "\n",
              "          const docLinkHtml = 'Like what you see? Visit the ' +\n",
              "            '<a target=\"_blank\" href=https://colab.research.google.com/notebooks/data_table.ipynb>data table notebook</a>'\n",
              "            + ' to learn more about interactive tables.';\n",
              "          element.innerHTML = '';\n",
              "          dataTable['output_type'] = 'display_data';\n",
              "          await google.colab.output.renderOutput(dataTable, element);\n",
              "          const docLink = document.createElement('div');\n",
              "          docLink.innerHTML = docLinkHtml;\n",
              "          element.appendChild(docLink);\n",
              "        }\n",
              "      </script>\n",
              "    </div>\n",
              "  </div>\n",
              "  "
            ]
          },
          "metadata": {},
          "execution_count": 10
        }
      ]
    },
    {
      "cell_type": "code",
      "source": [
        "term_matrix_jumlah = pd.DataFrame(word_count_vector.toarray(),\n",
        "                   columns=cv.get_feature_names())\n",
        "term_matrix_jumlah.head()"
      ],
      "metadata": {
        "id": "6LXyWjetqgcr",
        "colab": {
          "base_uri": "https://localhost:8080/",
          "height": 300
        },
        "outputId": "78763e15-b665-4f12-f28c-166debf1e98e"
      },
      "execution_count": null,
      "outputs": [
        {
          "output_type": "execute_result",
          "data": {
            "text/plain": [
              "   abad  abadi  abai  abang  abbalove  abdi  abi  abie  abimana  abis  ...  \\\n",
              "0     0      0     0      0         0     0    0     0        0     0  ...   \n",
              "1     0      0     0      1         0     0    0     0        0     0  ...   \n",
              "2     0      0     0      0         0     0    0     0        0     0  ...   \n",
              "3     0      0     0      0         0     0    2     0        0     0  ...   \n",
              "4     0      0     0      0         0     0    0     0        0     0  ...   \n",
              "\n",
              "   zidane  zigvolt  zii  zipper  ziyi  zlatan  zodiak  zoom  zul  zuzur  \n",
              "0       0        0    0       0     0       0       0     0    0      0  \n",
              "1       0        0    0       0     0       0       0     0    0      0  \n",
              "2       0        0    0       0     0       0       0     0    0      0  \n",
              "3       0        0    0       0     0       0       0     0    0      0  \n",
              "4       0        0    0       0     0       0       0     0    0      0  \n",
              "\n",
              "[5 rows x 8142 columns]"
            ],
            "text/html": [
              "\n",
              "  <div id=\"df-420ff094-b673-4aff-ab26-f658b2a2167b\">\n",
              "    <div class=\"colab-df-container\">\n",
              "      <div>\n",
              "<style scoped>\n",
              "    .dataframe tbody tr th:only-of-type {\n",
              "        vertical-align: middle;\n",
              "    }\n",
              "\n",
              "    .dataframe tbody tr th {\n",
              "        vertical-align: top;\n",
              "    }\n",
              "\n",
              "    .dataframe thead th {\n",
              "        text-align: right;\n",
              "    }\n",
              "</style>\n",
              "<table border=\"1\" class=\"dataframe\">\n",
              "  <thead>\n",
              "    <tr style=\"text-align: right;\">\n",
              "      <th></th>\n",
              "      <th>abad</th>\n",
              "      <th>abadi</th>\n",
              "      <th>abai</th>\n",
              "      <th>abang</th>\n",
              "      <th>abbalove</th>\n",
              "      <th>abdi</th>\n",
              "      <th>abi</th>\n",
              "      <th>abie</th>\n",
              "      <th>abimana</th>\n",
              "      <th>abis</th>\n",
              "      <th>...</th>\n",
              "      <th>zidane</th>\n",
              "      <th>zigvolt</th>\n",
              "      <th>zii</th>\n",
              "      <th>zipper</th>\n",
              "      <th>ziyi</th>\n",
              "      <th>zlatan</th>\n",
              "      <th>zodiak</th>\n",
              "      <th>zoom</th>\n",
              "      <th>zul</th>\n",
              "      <th>zuzur</th>\n",
              "    </tr>\n",
              "  </thead>\n",
              "  <tbody>\n",
              "    <tr>\n",
              "      <th>0</th>\n",
              "      <td>0</td>\n",
              "      <td>0</td>\n",
              "      <td>0</td>\n",
              "      <td>0</td>\n",
              "      <td>0</td>\n",
              "      <td>0</td>\n",
              "      <td>0</td>\n",
              "      <td>0</td>\n",
              "      <td>0</td>\n",
              "      <td>0</td>\n",
              "      <td>...</td>\n",
              "      <td>0</td>\n",
              "      <td>0</td>\n",
              "      <td>0</td>\n",
              "      <td>0</td>\n",
              "      <td>0</td>\n",
              "      <td>0</td>\n",
              "      <td>0</td>\n",
              "      <td>0</td>\n",
              "      <td>0</td>\n",
              "      <td>0</td>\n",
              "    </tr>\n",
              "    <tr>\n",
              "      <th>1</th>\n",
              "      <td>0</td>\n",
              "      <td>0</td>\n",
              "      <td>0</td>\n",
              "      <td>1</td>\n",
              "      <td>0</td>\n",
              "      <td>0</td>\n",
              "      <td>0</td>\n",
              "      <td>0</td>\n",
              "      <td>0</td>\n",
              "      <td>0</td>\n",
              "      <td>...</td>\n",
              "      <td>0</td>\n",
              "      <td>0</td>\n",
              "      <td>0</td>\n",
              "      <td>0</td>\n",
              "      <td>0</td>\n",
              "      <td>0</td>\n",
              "      <td>0</td>\n",
              "      <td>0</td>\n",
              "      <td>0</td>\n",
              "      <td>0</td>\n",
              "    </tr>\n",
              "    <tr>\n",
              "      <th>2</th>\n",
              "      <td>0</td>\n",
              "      <td>0</td>\n",
              "      <td>0</td>\n",
              "      <td>0</td>\n",
              "      <td>0</td>\n",
              "      <td>0</td>\n",
              "      <td>0</td>\n",
              "      <td>0</td>\n",
              "      <td>0</td>\n",
              "      <td>0</td>\n",
              "      <td>...</td>\n",
              "      <td>0</td>\n",
              "      <td>0</td>\n",
              "      <td>0</td>\n",
              "      <td>0</td>\n",
              "      <td>0</td>\n",
              "      <td>0</td>\n",
              "      <td>0</td>\n",
              "      <td>0</td>\n",
              "      <td>0</td>\n",
              "      <td>0</td>\n",
              "    </tr>\n",
              "    <tr>\n",
              "      <th>3</th>\n",
              "      <td>0</td>\n",
              "      <td>0</td>\n",
              "      <td>0</td>\n",
              "      <td>0</td>\n",
              "      <td>0</td>\n",
              "      <td>0</td>\n",
              "      <td>2</td>\n",
              "      <td>0</td>\n",
              "      <td>0</td>\n",
              "      <td>0</td>\n",
              "      <td>...</td>\n",
              "      <td>0</td>\n",
              "      <td>0</td>\n",
              "      <td>0</td>\n",
              "      <td>0</td>\n",
              "      <td>0</td>\n",
              "      <td>0</td>\n",
              "      <td>0</td>\n",
              "      <td>0</td>\n",
              "      <td>0</td>\n",
              "      <td>0</td>\n",
              "    </tr>\n",
              "    <tr>\n",
              "      <th>4</th>\n",
              "      <td>0</td>\n",
              "      <td>0</td>\n",
              "      <td>0</td>\n",
              "      <td>0</td>\n",
              "      <td>0</td>\n",
              "      <td>0</td>\n",
              "      <td>0</td>\n",
              "      <td>0</td>\n",
              "      <td>0</td>\n",
              "      <td>0</td>\n",
              "      <td>...</td>\n",
              "      <td>0</td>\n",
              "      <td>0</td>\n",
              "      <td>0</td>\n",
              "      <td>0</td>\n",
              "      <td>0</td>\n",
              "      <td>0</td>\n",
              "      <td>0</td>\n",
              "      <td>0</td>\n",
              "      <td>0</td>\n",
              "      <td>0</td>\n",
              "    </tr>\n",
              "  </tbody>\n",
              "</table>\n",
              "<p>5 rows × 8142 columns</p>\n",
              "</div>\n",
              "      <button class=\"colab-df-convert\" onclick=\"convertToInteractive('df-420ff094-b673-4aff-ab26-f658b2a2167b')\"\n",
              "              title=\"Convert this dataframe to an interactive table.\"\n",
              "              style=\"display:none;\">\n",
              "        \n",
              "  <svg xmlns=\"http://www.w3.org/2000/svg\" height=\"24px\"viewBox=\"0 0 24 24\"\n",
              "       width=\"24px\">\n",
              "    <path d=\"M0 0h24v24H0V0z\" fill=\"none\"/>\n",
              "    <path d=\"M18.56 5.44l.94 2.06.94-2.06 2.06-.94-2.06-.94-.94-2.06-.94 2.06-2.06.94zm-11 1L8.5 8.5l.94-2.06 2.06-.94-2.06-.94L8.5 2.5l-.94 2.06-2.06.94zm10 10l.94 2.06.94-2.06 2.06-.94-2.06-.94-.94-2.06-.94 2.06-2.06.94z\"/><path d=\"M17.41 7.96l-1.37-1.37c-.4-.4-.92-.59-1.43-.59-.52 0-1.04.2-1.43.59L10.3 9.45l-7.72 7.72c-.78.78-.78 2.05 0 2.83L4 21.41c.39.39.9.59 1.41.59.51 0 1.02-.2 1.41-.59l7.78-7.78 2.81-2.81c.8-.78.8-2.07 0-2.86zM5.41 20L4 18.59l7.72-7.72 1.47 1.35L5.41 20z\"/>\n",
              "  </svg>\n",
              "      </button>\n",
              "      \n",
              "  <style>\n",
              "    .colab-df-container {\n",
              "      display:flex;\n",
              "      flex-wrap:wrap;\n",
              "      gap: 12px;\n",
              "    }\n",
              "\n",
              "    .colab-df-convert {\n",
              "      background-color: #E8F0FE;\n",
              "      border: none;\n",
              "      border-radius: 50%;\n",
              "      cursor: pointer;\n",
              "      display: none;\n",
              "      fill: #1967D2;\n",
              "      height: 32px;\n",
              "      padding: 0 0 0 0;\n",
              "      width: 32px;\n",
              "    }\n",
              "\n",
              "    .colab-df-convert:hover {\n",
              "      background-color: #E2EBFA;\n",
              "      box-shadow: 0px 1px 2px rgba(60, 64, 67, 0.3), 0px 1px 3px 1px rgba(60, 64, 67, 0.15);\n",
              "      fill: #174EA6;\n",
              "    }\n",
              "\n",
              "    [theme=dark] .colab-df-convert {\n",
              "      background-color: #3B4455;\n",
              "      fill: #D2E3FC;\n",
              "    }\n",
              "\n",
              "    [theme=dark] .colab-df-convert:hover {\n",
              "      background-color: #434B5C;\n",
              "      box-shadow: 0px 1px 3px 1px rgba(0, 0, 0, 0.15);\n",
              "      filter: drop-shadow(0px 1px 2px rgba(0, 0, 0, 0.3));\n",
              "      fill: #FFFFFF;\n",
              "    }\n",
              "  </style>\n",
              "\n",
              "      <script>\n",
              "        const buttonEl =\n",
              "          document.querySelector('#df-420ff094-b673-4aff-ab26-f658b2a2167b button.colab-df-convert');\n",
              "        buttonEl.style.display =\n",
              "          google.colab.kernel.accessAllowed ? 'block' : 'none';\n",
              "\n",
              "        async function convertToInteractive(key) {\n",
              "          const element = document.querySelector('#df-420ff094-b673-4aff-ab26-f658b2a2167b');\n",
              "          const dataTable =\n",
              "            await google.colab.kernel.invokeFunction('convertToInteractive',\n",
              "                                                     [key], {});\n",
              "          if (!dataTable) return;\n",
              "\n",
              "          const docLinkHtml = 'Like what you see? Visit the ' +\n",
              "            '<a target=\"_blank\" href=https://colab.research.google.com/notebooks/data_table.ipynb>data table notebook</a>'\n",
              "            + ' to learn more about interactive tables.';\n",
              "          element.innerHTML = '';\n",
              "          dataTable['output_type'] = 'display_data';\n",
              "          await google.colab.output.renderOutput(dataTable, element);\n",
              "          const docLink = document.createElement('div');\n",
              "          docLink.innerHTML = docLinkHtml;\n",
              "          element.appendChild(docLink);\n",
              "        }\n",
              "      </script>\n",
              "    </div>\n",
              "  </div>\n",
              "  "
            ]
          },
          "metadata": {},
          "execution_count": 11
        }
      ]
    },
    {
      "cell_type": "markdown",
      "source": [
        "IDF"
      ],
      "metadata": {
        "id": "dNnOP2FkveAw"
      }
    },
    {
      "cell_type": "code",
      "source": [
        "def dummy(doc):\n",
        "    return doc"
      ],
      "metadata": {
        "id": "iegIk9XC0PVo"
      },
      "execution_count": null,
      "outputs": []
    },
    {
      "cell_type": "code",
      "source": [
        "# TF-IDF\n",
        "tf_idf_1a = TfidfVectorizer(preprocessor=dummy,max_features=5000)\n",
        "tf_idf_1a.fit(x_train_1a)\n",
        "x_train_1a = tf_idf_1a.transform(x_train_1a) \n",
        "x_test_1a = tf_idf_1a.transform(x_test_1a)"
      ],
      "metadata": {
        "id": "dokVYAKn0fvn"
      },
      "execution_count": null,
      "outputs": []
    },
    {
      "cell_type": "code",
      "source": [
        "# Train\n",
        "word_list_tf = tf_idf_1a.get_feature_names() \n",
        "weight_list_tf = x_train_1a.toarray().sum(axis=0)"
      ],
      "metadata": {
        "id": "rBuw9vNFca7I"
      },
      "execution_count": null,
      "outputs": []
    },
    {
      "cell_type": "code",
      "source": [
        "# Train\n",
        "print(word_list_tf)\n",
        "print(weight_list_tf)\n",
        "bobot_kata =  dict(zip(word_list_tf,weight_list_tf))"
      ],
      "metadata": {
        "colab": {
          "base_uri": "https://localhost:8080/"
        },
        "id": "Y_LGZN5-cpru",
        "outputId": "fe2a500d-9d67-4759-ca69-0e528b29775a"
      },
      "execution_count": null,
      "outputs": [
        {
          "output_type": "stream",
          "name": "stdout",
          "text": [
            "['abad', 'abadi', 'abai', 'abang', 'abi', 'abot', 'absen', 'abu', 'ac', 'acara', 'accept', 'account', 'acho', 'acting', 'actual', 'ada', 'adab', 'adam', 'adele', 'adem', 'adi', 'adik', 'adil', 'admin', 'adnan', 'adu', 'adus', 'afk', 'after', 'again', 'agama', 'agen', 'agenda', 'aging', 'agung', 'ahmad', 'aice', 'aidzin', 'air', 'aja', 'ajaib', 'ajak', 'ajar', 'aju', 'aka', 'akademik', 'akal', 'akan', 'akar', 'akbar', 'akh', 'akhirat', 'akhlak', 'akibat', 'akrab', 'aktif', 'aktivitas', 'aktor', 'aku', 'akun', 'alah', 'alam', 'alami', 'alarm', 'alas', 'alat', 'album', 'ale', 'alergi', 'alhamdulillah', 'alhasil', 'alias', 'alien', 'alih', 'alive', 'alki', 'allah', 'allahu', 'allahuakbar', 'alone', 'along', 'alquran', 'already', 'alumni', 'amal', 'aman', 'amang', 'ambil', 'ambyar', 'americano', 'amin', 'ampuh', 'ampun', 'ampunnn', 'amuk', 'anak', 'analis', 'analisis', 'analyst', 'and', 'andai', 'andal', 'android', 'aneh', 'anggap', 'anggar', 'anggota', 'anggur', 'angin', 'angkat', 'angkring', 'angkut', 'angle', 'anime', 'anjing', 'anjir', 'anjrit', 'anniversary', 'antagonis', 'antar', 'anteng', 'antisipasi', 'antri', 'antuk', 'anybody', 'anyone', 'anything', 'anyway', 'aowkaowkaowk', 'apa', 'api', 'apik', 'aplikasi', 'apply', 'approve', 'apresiasi', 'april', 'arah', 'arak', 'area', 'arek', 'arief', 'arin', 'armor', 'army', 'around', 'arsenal', 'arsip', 'art', 'artis', 'asa', 'asal', 'asam', 'asik', 'asing', 'asisten', 'asli', 'aso', 'aspek', 'asrama', 'assalamualaikum', 'astaga', 'astagfirullah', 'astro', 'asumsi', 'asyik', 'atlet', 'atm', 'atur', 'audiens', 'aula', 'automatic', 'avatar', 'aw', 'awal', 'awas', 'awat', 'away', 'awesome', 'awewe', 'ayah', 'ayam', 'ayu', 'ayun', 'ayunda', 'azarine', 'bab', 'babi', 'bablas', 'baby', 'baca', 'back', 'backingan', 'bacot', 'bad', 'badai', 'badan', 'badminton', 'badmood', 'badut', 'bagasi', 'bagi', 'bagong', 'bagus', 'bahagia', 'bahan', 'bahas', 'bahasa', 'bahaya', 'baik', 'baja', 'bajilak', 'baju', 'bakar', 'bakpia', 'bakso', 'bakwan', 'bal', 'bala', 'balada', 'balap', 'balas', 'balik', 'baling', 'balon', 'bam', 'ban', 'band', 'banding', 'bandung', 'bangga', 'bangkai', 'bangkit', 'bangsa', 'bangsat', 'bangun', 'banjir', 'bank', 'bantai', 'bantal', 'bantu', 'banyak', 'bapak', 'bar', 'barakallah', 'barakat', 'barang', 'barat', 'bareng', 'bari', 'barista', 'bartender', 'baru', 'barudak', 'barusan', 'bas', 'basah', 'base', 'basi', 'batak', 'batal', 'batang', 'batas', 'batin', 'batuk', 'batur', 'bau', 'baur', 'bawa', 'bawang', 'bayang', 'bayar', 'bayi', 'bea', 'bean', 'bear', 'beasiswa', 'beat', 'beban', 'bebas', 'bebeladagan', 'become', 'beda', 'begadang', 'begitu', 'bego', 'behind', 'bek', 'bekas', 'beku', 'bela', 'belah', 'belanja', 'beli', 'beliau', 'believe', 'belikan', 'belimbing', 'benar', 'benci', 'benefit', 'bengong', 'benhil', 'bentak', 'bentar', 'bentrok', 'bentuk', 'bentur', 'berak', 'berangkat', 'berani', 'berapa', 'berat', 'beres', 'berisik', 'berita', 'berkah', 'berkas', 'bersih', 'bersin', 'beruang', 'besar', 'besok', 'best', 'bestie', 'betis', 'better', 'beyond', 'biar', 'biasa', 'biaya', 'bibit', 'bicara', 'bidang', 'bieber', 'biggie', 'bijak', 'bilang', 'bimbing', 'binatang', 'bing', 'bingung', 'bintang', 'biodata', 'bioskop', 'birthday', 'biru', 'bis', 'bisa', 'bisik', 'bismillah', 'bismillahirrahmanirrahim', 'bisnis', 'bitch', 'black', 'blak', 'blame', 'blast', 'bless', 'blokir', 'blue', 'bm', 'boba', 'bobrok', 'bocah', 'bocor', 'bodoh', 'body', 'boga', 'bogor', 'bohong', 'boi', 'bola', 'bolong', 'bon', 'boncos', 'boneka', 'book', 'booking', 'boost', 'booster', 'borang', 'born', 'boros', 'bosan', 'botak', 'bou', 'boy', 'brader', 'brain', 'break', 'breakdown', 'breath', 'bring', 'brodi', 'broken', 'brother', 'bruno', 'btc', 'buah', 'buang', 'buat', 'bubar', 'bubur', 'budak', 'budaya', 'build', 'buka', 'bukti', 'buku', 'bulan', 'bulat', 'bully', 'bulu', 'bumble', 'bumi', 'bunda', 'bunga', 'bungkus', 'buntu', 'bunuh', 'buram', 'burn', 'buron', 'buru', 'buruh', 'buruk', 'bus', 'buset', 'business', 'buta', 'butuh', 'butut', 'buy', 'bye', 'cabang', 'cabe', 'cahaya', 'cair', 'cakap', 'cakar', 'call', 'calm', 'calon', 'campur', 'can', 'cancel', 'canda', 'candu', 'canin', 'cant', 'cantik', 'cantum', 'cap', 'capai', 'cape', 'capek', 'caption', 'cara', 'caramel', 'card', 'care', 'cari', 'carousel', 'case', 'cash', 'cashless', 'cassie', 'cat', 'cause', 'cebur', 'cegah', 'cek', 'cekrek', 'celana', 'cepak', 'cepat', 'cepu', 'cerah', 'cerai', 'cerita', 'cet', 'cetak', 'ceunah', 'cewek', 'chance', 'change', 'chaos', 'character', 'charles', 'check', 'chef', 'cherry', 'chip', 'choco', 'choice', 'choose', 'churros', 'cianjur', 'cibi', 'cicing', 'cik', 'cikole', 'cilik', 'cimahi', 'cing', 'cinta', 'cipta', 'ciputat', 'circle', 'cirebon', 'cita', 'citra', 'city', 'cium', 'cl', 'class', 'classic', 'closer', 'closing', 'club', 'co', 'coba', 'coco', 'cocok', 'coffee', 'cok', 'coklat', 'coldplay', 'color', 'come', 'comeback', 'company', 'complete', 'confirm', 'contact', 'contoh', 'cookie', 'copot', 'copyright', 'coret', 'correct', 'could', 'couldnt', 'couple', 'course', 'covid', 'cowok', 'cream', 'cry', 'cuaca', 'cuci', 'cuek', 'cukai', 'culik', 'cup', 'cupang', 'cupu', 'curhat', 'curi', 'curiga', 'custom', 'cute', 'cuti', 'cv', 'dada', 'dadah', 'dadak', 'daddys', 'daerah', 'daftar', 'dag', 'dagang', 'dagdigdug', 'daging', 'daily', 'dajjal', 'dak', 'dakwah', 'dalam', 'damage', 'damai', 'damn', 'dampak', 'dan', 'dana', 'danau', 'dang', 'dapat', 'dapur', 'dara', 'darah', 'dark', 'darling', 'dasar', 'dasi', 'data', 'date', 'dating', 'david', 'day', 'daya', 'deadline', 'dear', 'debat', 'debut', 'deep', 'definisi', 'deg', 'degan', 'degann', 'dejun', 'dekat', 'demi', 'demo', 'demokrat', 'deng', 'dengar', 'denial', 'depan', 'departement', 'depok', 'deposit', 'depresi', 'deras', 'derita', 'desain', 'desember', 'deserve', 'desk', 'deskripsi', 'detail', 'detect', 'detik', 'dewa', 'dewan', 'dewasa', 'diagnosis', 'diam', 'dibere', 'did', 'didik', 'didnt', 'diecast', 'different', 'dig', 'digital', 'dikabulin', 'dinas', 'dinda', 'dinding', 'dingin', 'diri', 'disabilitas', 'diskon', 'diskualifikasi', 'diskus', 'diskusi', 'disney', 'disorder', 'divisi', 'doa', 'doanx', 'dodol', 'doesnt', 'dokter', 'dolan', 'dom', 'domba', 'dompet', 'donghae', 'door', 'dorong', 'dosa', 'dosen', 'double', 'down', 'doyoung', 'drama', 'dress', 'dua', 'duduk', 'dug', 'duga', 'dugem', 'duit', 'duka', 'dukung', 'dunia', 'duniawi', 'durasi', 'durian', 'each', 'easily', 'eat', 'ecek', 'edit', 'education', 'efek', 'ege', 'ego', 'egois', 'ehe', 'eiy', 'ekonomi', 'eks', 'ekspedisi', 'el', 'electric', 'elite', 'em', 'email', 'emak', 'embel', 'emergency', 'emil', 'emis', 'emosi', 'emosional', 'emot', 'enak', 'end', 'enek', 'energi', 'england', 'english', 'enjoy', 'enough', 'enteng', 'epic', 'episode', 'era', 'eropa', 'error', 'erti', 'es', 'esp', 'estetik', 'eta', 'etik', 'etika', 'euro', 'even', 'event', 'ever', 'everybody', 'everyday', 'everyone', 'everything', 'everytime', 'ewh', 'ex', 'excited', 'exo', 'exol', 'expectation', 'experience', 'expired', 'eyel', 'eyes', 'fact', 'fagh', 'fajar', 'fake', 'fakta', 'fall', 'fan', 'fandom', 'fangirl', 'fase', 'fast', 'favorit', 'fc', 'februari', 'feel', 'feeling', 'feels', 'festival', 'fight', 'fighter', 'fiksi', 'file', 'film', 'filosofi', 'filter', 'final', 'finansial', 'fine', 'fire', 'first', 'fisik', 'fisika', 'fitri', 'fitur', 'fkb', 'flashback', 'flight', 'flow', 'fly', 'fm', 'fokus', 'follow', 'forget', 'forgotten', 'formula', 'foto', 'found', 'four', 'free', 'frekuensi', 'fresh', 'freshgraduate', 'friend', 'friendly', 'friends', 'full', 'fun', 'future', 'gabaik', 'gabung', 'gacape', 'gaco', 'gagal', 'gaji', 'gakenal', 'gakya', 'galak', 'galau', 'galeri', 'galon', 'gambar', 'game', 'gamer', 'gamis', 'gampang', 'gandeng', 'gang', 'ganggu', 'ganteng', 'ganti', 'gantung', 'gapyear', 'gara', 'garam', 'gari', 'garpu', 'gas', 'gasiii', 'gasken', 'gatal', 'gaul', 'gaya', 'gebetan', 'gede', 'gedek', 'gegabah', 'gejala', 'gelap', 'gelombang', 'gemas', 'gembok', 'gemetar', 'gemini', 'gempa', 'gen', 'gendong', 'gendut', 'geng', 'genggam', 'gerah', 'geraham', 'gerak', 'gerangan', 'gerbang', 'gereja', 'gering', 'get', 'ghosting', 'giat', 'gibah', 'gigi', 'gigit', 'gila', 'gilir', 'gilss', 'gim', 'ginih', 'giring', 'git', 'giveaway', 'gku', 'glad', 'gladi', 'gloves', 'gmt', 'go', 'goal', 'goblok', 'god', 'goda', 'godspeed', 'goes', 'gofar', 'gojek', 'golden', 'golong', 'gon', 'gondrong', 'good', 'goodbye', 'goodluckkk', 'google', 'googling', 'gopay', 'gopud', 'goreng', 'gosip', 'gosok', 'gosting', 'gow', 'gp', 'grand', 'gratis', 'great', 'greget', 'grenden', 'grogi', 'grup', 'gtlt', 'gua', 'gue', 'gugat', 'guling', 'guna', 'guru', 'guys', 'gyewon', 'haaa', 'habede', 'habib', 'habis', 'hacker', 'had', 'hadap', 'hadiah', 'hadir', 'haechan', 'haechann', 'hafal', 'hahhahhha', 'hahhh', 'hair', 'hajar', 'haji', 'hak', 'halal', 'halang', 'half', 'halilintar', 'halu', 'halus', 'hamba', 'hambat', 'hamil', 'han', 'hancur', 'handphone', 'hangat', 'hantu', 'happen', 'happens', 'happiness', 'happy', 'hapus', 'haram', 'harap', 'hard', 'harga', 'hari', 'harta', 'haru', 'harus', 'hasil', 'hate', 'hati', 'have', 'having', 'hayuk', 'hc', 'headset', 'healing', 'heardle', 'heart', 'heaven', 'hebat', 'heboh', 'hectic', 'heeh', 'heem', 'heeuh', 'heheheeee', 'heheheya', 'hela', 'helm', 'hem', 'henti', 'heran', 'heri', 'hes', 'hewan', 'hft', 'hhhhh', 'hi', 'hiatus', 'hibur', 'hideung', 'hidung', 'hidup', 'hihi', 'hijau', 'hiks', 'hilal', 'hilang', 'hilman', 'him', 'hima', 'hina', 'hindar', 'hirup', 'hisab', 'hit', 'hitam', 'hito', 'hitung', 'hiu', 'hla', 'hobi', 'hoho', 'hohohoho', 'hokben', 'hold', 'holdernya', 'home', 'honda', 'hope', 'hore', 'hoream', 'hormat', 'horor', 'hot', 'hotel', 'hpny', 'huaaa', 'huahhh', 'hubung', 'huftt', 'hug', 'huhuuu', 'hujan', 'hukum', 'human', 'humor', 'huni', 'hunting', 'hurt', 'hutan', 'hyep', 'hyg', 'hype', 'hyun', 'hyung', 'hyunjin', 'ibadah', 'ibu', 'ibuk', 'ice', 'ichsan', 'icung', 'ide', 'identitas', 'idlix', 'idol', 'igs', 'iisma', 'iismavo', 'ikan', 'ikat', 'ikhlas', 'iklan', 'ikut', 'ilaihi', 'illness', 'ilmu', 'iluminati', 'im', 'imam', 'iman', 'impi', 'impressive', 'imut', 'inap', 'indah', 'indekos', 'indeks', 'indihome', 'individu', 'indoapril', 'indomaret', 'indomie', 'indonesia', 'induk', 'info', 'informasi', 'informatika', 'ingat', 'inggris', 'ingin', 'injak', 'inna', 'innalilahi', 'innalillahi', 'inpo', 'insecure', 'inset', 'insidious', 'inspirasi', 'instagram', 'insya', 'inter', 'internet', 'inti', 'into', 'investasi', 'invite', 'ip', 'ipl', 'ipul', 'iqbal', 'iri', 'irit', 'iritasi', 'iseng', 'isi', 'islah', 'islam', 'isnt', 'istana', 'istighfar', 'istimewa', 'istirahat', 'istri', 'isu', 'it', 'ita', 'italia', 'ive', 'iwi', 'iyeee', 'iyeu', 'izin', 'jaa', 'jadi', 'jadwal', 'jaehyun', 'jaga', 'jahat', 'jahit', 'jaim', 'jajah', 'jajan', 'jajanin', 'jakarta', 'jaket', 'jalan', 'jalhaesso', 'jalur', 'jam', 'jaman', 'jamet', 'jamhari', 'jampe', 'janani', 'jancuk', 'jangka', 'janji', 'jantung', 'jarak', 'jarang', 'jare', 'jari', 'jaring', 'jasa', 'jason', 'jatah', 'jatuh', 'jauh', 'jawa', 'jayb', 'jbjb', 'jco', 'jebak', 'jeddah', 'jejak', 'jelas', 'jelek', 'jemur', 'jen', 'jenazah', 'jendela', 'jeng', 'jenis', 'jennie', 'jennifer', 'jeno', 'jenuh', 'jepit', 'jerawat', 'jernih', 'jess', 'jeung', 'jh', 'ji', 'jiel', 'jijik', 'jimin', 'jin', 'jir', 'jisung', 'jiwa', 'jiwoong', 'jjk', 'jodoh', 'jogging', 'jogsss', 'john', 'johnny', 'join', 'joke', 'jokes', 'jokowi', 'jomlo', 'jongin', 'joohyuk', 'joongil', 'jrengjrengg', 'jual', 'juang', 'juara', 'judge', 'judi', 'judul', 'juga', 'jujur', 'jujurly', 'jul', 'juli', 'julid', 'jumat', 'jump', 'jung', 'jungkook', 'jungle', 'junho', 'juni', 'junkyu', 'juragan', 'jurnal', 'jurus', 'justin', 'jut', 'juta', 'juventus', 'jyujur', 'kabar', 'kabel', 'kabur', 'kaca', 'kacamata', 'kacang', 'kacau', 'kacooo', 'kadang', 'kade', 'kadeptkadiv', 'kadie', 'kado', 'kafe', 'kaget', 'kain', 'kaji', 'kakaen', 'kakak', 'kakek', 'kakhehe', 'kaki', 'kaku', 'kala', 'kalah', 'kalem', 'kali', 'kalibrr', 'kalimat', 'kamana', 'kamar', 'kambing', 'kambuh', 'kamera', 'kamis', 'kampus', 'kamu', 'kanan', 'kandang', 'kangen', 'kantin', 'kantong', 'kantor', 'kaos', 'kapitalis', 'kapok', 'kar', 'karakter', 'karasa', 'karek', 'karetanya', 'karir', 'karma', 'kartu', 'karya', 'kasar', 'kasih', 'kasihan', 'kasir', 'kasubbag', 'kasur', 'katla', 'kaum', 'kawan', 'kawin', 'kayak', 'kebel', 'kebelet', 'keburu', 'kecap', 'kece', 'kecewa', 'keeping', 'keilangan', 'keingetan', 'kejam', 'kejar', 'keju', 'kejut', 'kelabu', 'kelarin', 'kelarrr', 'kelas', 'keliling', 'kelompok', 'keluar', 'keluarga', 'keluh', 'kemarin', 'kemas', 'kembang', 'kembar', 'kena', 'kenal', 'kenang', 'kencang', 'kendala', 'kendali', 'kendara', 'keneh', 'kentut', 'kenyang', 'kenyot', 'keong', 'kepala', 'keping', 'keras', 'keren', 'kereta', 'keri', 'keriting', 'kerja', 'kerop', 'kertas', 'kesal', 'kesan', 'kesana', 'kesang', 'kesini', 'ketang', 'ketaw', 'ketek', 'ketemu', 'ketik', 'ketuk', 'keun', 'keur', 'keurmah', 'keyboard', 'khail', 'khilaf', 'kiat', 'kick', 'kikan', 'kilogram', 'kilometer', 'kim', 'kimcil', 'kimia', 'kinda', 'kira', 'kiri', 'kirim', 'kisah', 'kiss', 'kkn', 'klausul', 'klik', 'klub', 'koas', 'kobe', 'kocak', 'kode', 'kodil', 'kolaborasi', 'kolom', 'kolot', 'kombinasi', 'komedi', 'komen', 'komik', 'kompas', 'komputer', 'komunikasi', 'kon', 'kondisi', 'konflik', 'kong', 'konsep', 'konser', 'konsisten', 'konsultasi', 'kontak', 'kontol', 'kontra', 'kontrak', 'kontrol', 'kopi', 'koplofy', 'korban', 'korea', 'korean', 'kos', 'kosku', 'kosong', 'kota', 'kotor', 'kp', 'kpopers', 'krim', 'kritik', 'kroasia', 'ktm', 'kualitas', 'kuasa', 'kuat', 'kuatt', 'kucing', 'kuda', 'kue', 'kuleyah', 'kuliah', 'kulit', 'kulon', 'kumpul', 'kumulatif', 'kun', 'kunad', 'kunci', 'kuning', 'kunjung', 'kuota', 'kupat', 'kuping', 'kupukupu', 'kura', 'kurang', 'kurus', 'kutip', 'ky', 'lab', 'labil', 'labuh', 'lagu', 'lahir', 'laik', 'lak', 'laki', 'lakilaki', 'lakon', 'laku', 'lamar', 'lambat', 'lamongan', 'lampir', 'lampu', 'lamun', 'lancar', 'landing', 'lang', 'langgan', 'langgar', 'langit', 'langka', 'langsung', 'language', 'lanjut', 'lantai', 'lantas', 'lapang', 'lapar', 'lapor', 'laprak', 'laptop', 'larang', 'lari', 'latar', 'latih', 'laugh', 'laut', 'law', 'lawak', 'lawan', 'lay', 'layak', 'layan', 'layout', 'ldr', 'lead', 'leader', 'league', 'leave', 'leaving', 'lebam', 'lebaran', 'lebih', 'ledak', 'lee', 'leenaly', 'leg', 'legenda', 'leha', 'leher', 'lekas', 'lekat', 'lelah', 'lem', 'lemah', 'lemas', 'lembang', 'lembar', 'lembur', 'lengkap', 'lepas', 'les', 'letak', 'level', 'lewat', 'lewek', 'lewis', 'leyot', 'lhuk', 'lia', 'liar', 'libat', 'liberalisasi', 'libur', 'licik', 'life', 'liga', 'lightstick', 'lihat', 'like', 'limit', 'lindung', 'line', 'lingkung', 'lini', 'link', 'linkedin', 'linknya', 'lion', 'lipat', 'lirik', 'listrik', 'liter', 'literally', 'little', 'live', 'liverpool', 'liyane', 'loba', 'login', 'lokal', 'lokasi', 'loki', 'lolos', 'long', 'lontong', 'look', 'lop', 'lord', 'lose', 'losing', 'loss', 'lost', 'lot', 'low', 'lowong', 'lt', 'luck', 'lucky', 'lucu', 'luka', 'lulus', 'lumayan', 'lumba', 'luna', 'lungo', 'lupa', 'lupaaa', 'luring', 'lurr', 'lusa', 'luv', 'lyfe', 'maaf', 'mabuk', 'macchiato', 'macet', 'mad', 'made', 'madrid', 'maem', 'magang', 'maguire', 'mahal', 'mahasiswa', 'mahsyar', 'main', 'majalengka', 'maju', 'mak', 'makan', 'makaroni', 'makasihh', 'makasii', 'make', 'makes', 'makeup', 'makji', 'maksimal', 'maksud', 'mal', 'malam', 'malas', 'malmingan', 'malu', 'mam', 'mama', 'mamak', 'mamang', 'mampir', 'mampu', 'mampus', 'mana', 'manah', 'manajemen', 'manajer', 'mancing', 'mandalika', 'mandi', 'manfaat', 'mang', 'mangga', 'manifesting', 'manis', 'manjur', 'manohara', 'mantan', 'mantap', 'mantengin', 'mantra', 'mantu', 'manusia', 'manusiawi', 'many', 'marah', 'marake', 'maret', 'mari', 'mark', 'market', 'marketing', 'martabak', 'masa', 'masak', 'masama', 'masjid', 'masker', 'masuk', 'masukk', 'masyaallah', 'masyarakat', 'mat', 'mata', 'matahari', 'matain', 'matcha', 'materai', 'materi', 'material', 'mati', 'matkul', 'mau', 'maudy', 'max', 'maybe', 'mb', 'mbabu', 'mbae', 'mbah', 'mbanking', 'mbul', 'mc', 'mean', 'medan', 'media', 'meee', 'meet', 'meeting', 'mega', 'megap', 'mei', 'mek', 'melon', 'memang', 'memar', 'member', 'membership', 'meme', 'memori', 'memories', 'menang', 'menangiss', 'mencet', 'mending', 'mendung', 'menfess', 'meni', 'menit', 'mental', 'mentang', 'menteri', 'mentingin', 'mentok', 'mentwit', 'menu', 'mepet', 'merah', 'merdeka', 'meren', 'meriang', 'mertua', 'mes', 'message', 'metaverse', 'metode', 'midi', 'mie', 'might', 'mil', 'miliar', 'milik', 'militan', 'milk', 'mimpi', 'min', 'minat', 'mind', 'minder', 'mingdep', 'minggu', 'minimal', 'minn', 'minta', 'minum', 'minyak', 'mirip', 'mirror', 'miskin', 'miss', 'missed', 'mix', 'mjb', 'mleyot', 'mmmmmmmm', 'mnhnya', 'mobil', 'mochi', 'modal', 'mode', 'model', 'modus', 'moga', 'mohon', 'moist', 'mola', 'momen', 'moms', 'moncer', 'monday', 'montessori', 'monyet', 'moo', 'moodyan', 'motivasi', 'moto', 'motor', 'motorna', 'mou', 'moving', 'mu', 'mual', 'muda', 'mudah', 'mudik', 'muhammad', 'muka', 'mukena', 'mukulin', 'mulang', 'mullet', 'multiple', 'mulu', 'mulut', 'muluu', 'mumet', 'mumpung', 'mun', 'muncul', 'mundur', 'mung', 'murah', 'murid', 'musik', 'musim', 'muslim', 'must', 'muterin', 'mutualan', 'mw', 'mwah', 'myself', 'nada', 'nafas', 'naha', 'naik', 'nak', 'nakal', 'nama', 'namatin', 'nambru', 'nan', 'nancy', 'nang', 'nangisin', 'nangor', 'nano', 'narasi', 'nasabah', 'nasehat', 'nasi', 'nasib', 'nasihat', 'nasional', 'nasionalisme', 'nato', 'naufal', 'nay', 'nazar', 'ncity', 'nderrr', 'nduwe', 'negara', 'negatif', 'negative', 'negeri', 'neng', 'nepi', 'neraka', 'nerbener', 'nerf', 'nes', 'net', 'netflix', 'new', 'news', 'next', 'ngab', 'ngabers', 'ngabisin', 'ngadi', 'ngajol', 'ngajolnya', 'ngakakkk', 'ngambis', 'ngangong', 'ngapangapain', 'ngawur', 'ngebatin', 'ngebut', 'ngechat', 'ngecover', 'ngegambar', 'ngegame', 'ngehalu', 'ngeiyain', 'ngelak', 'ngelamun', 'ngelanjutin', 'ngelewatin', 'ngemil', 'ngenggg', 'ngepet', 'ngeprank', 'ngerakeun', 'ngeri', 'ngerjainnya', 'ngesave', 'ngetreat', 'ngiang', 'ngos', 'niat', 'nic', 'nice', 'night', 'niii', 'nik', 'nikah', 'nikahh', 'niken', 'nikmat', 'nilai', 'nils', 'nisbahijarah', 'niscaya', 'njembrung', 'nkota', 'nobody', 'nomer', 'nomor', 'non', 'nongkrong', 'noni', 'nontn', 'nontonin', 'nontonnya', 'normal', 'normalisasi', 'not', 'noted', 'notes', 'notifikasi', 'november', 'now', 'npf', 'nu', 'nugas', 'numbuhnya', 'nunda', 'nuru', 'nuruuu', 'nya', 'nyala', 'nyaman', 'nyanyi', 'nyarinya', 'nyata', 'nyatet', 'nyawa', 'nyelow', 'nyemangatin', 'nyenyak', 'nyien', 'nyinyir', 'nyium', 'obat', 'obrol', 'obs', 'obviously', 'oceh', 'oden', 'oe', 'offer', 'offline', 'ojek', 'okee', 'oknum', 'olahraga', 'old', 'oleng', 'olimpiade', 'omah', 'omat', 'omega', 'omeje', 'omnibus', 'omong', 'one', 'ongkirnya', 'ongkoh', 'ongkos', 'online', 'only', 'ono', 'oot', 'open', 'opening', 'operasi', 'opini', 'optimis', 'orang', 'order', 'oren', 'organisasi', 'osjur', 'otak', 'others', 'otot', 'our', 'outdoor', 'outfit', 'ovt', 'pabrik', 'pac', 'pacar', 'pack', 'packing', 'packingnya', 'pada', 'padal', 'padang', 'pagi', 'pagipagi', 'paha', 'pahala', 'paham', 'pahili', 'pahit', 'pai', 'pain', 'pajak', 'pakai', 'pakan', 'pakar', 'pakein', 'paket', 'paksa', 'paku', 'pala', 'palak', 'palakau', 'palih', 'paling', 'palpasi', 'palu', 'paman', 'pamer', 'pamit', 'pamungkas', 'panah', 'panas', 'panass', 'pancal', 'pancet', 'pandai', 'pandang', 'pandemi', 'pandemic', 'pandu', 'panel', 'panen', 'pang', 'pangan', 'pange', 'pangeran', 'panggang', 'panggil', 'pangkal', 'panik', 'panikk', 'panit', 'panitia', 'panjang', 'pantai', 'pantang', 'pantar', 'pantas', 'pantau', 'panteee', 'pantek', 'pantesaaan', 'pantesla', 'pantex', 'pantexzzxzxz', 'pantura', 'panutan', 'panyileukan', 'pap', 'papa', 'papah', 'papanggih', 'par', 'paraaah', 'parab', 'parade', 'paradigma', 'paradise', 'paragon', 'paragraf', 'parah', 'parahsi', 'parallel', 'pardi', 'parents', 'pareum', 'parfum', 'parfume', 'pargoy', 'paripurna', 'park', 'parkir', 'parlor', 'parno', 'parodiin', 'parodina', 'part', 'partai', 'partner', 'paruguh', 'paruparu', 'pasang', 'pasar', 'pasca', 'paskah', 'pasrah', 'passed', 'passing', 'passion', 'passive', 'passport', 'paste', 'pasti', 'pastor', 'pastry', 'pasu', 'pasuk', 'pat', 'patah', 'paten', 'path', 'pati', 'patkar', 'patok', 'patung', 'paus', 'paw', 'pawang', 'payah', 'payahhhh', 'payahhhhh', 'payneliii', 'paypal', 'payung', 'pci', 'pcrkuuuu', 'pdf', 'peaceful', 'peaches', 'peakys', 'pean', 'peang', 'peb', 'pecah', 'pecat', 'pecel', 'ped', 'pedas', 'pedessss', 'pedet', 'pedih', 'pedofilia', 'pedot', 'peduli', 'peezy', 'pegal', 'pegang', 'pegawai', 'peka', 'pekan', 'pekanbaru', 'pekinggg', 'pelan', 'pelet', 'pelihara', 'pelit', 'peluang', 'peluangna', 'peluk', 'pelukk', 'pembalutkondom', 'pemberitahuan', 'pembuktianya', 'pemerintahnegara', 'pemgen', 'pemrograman', 'pemuda', 'penak', 'penalti', 'penalty', 'penasaran', 'penat', 'pencet', 'pendam', 'pendek', 'pengaruh', 'pengesahannn', 'penggal', 'penggar', 'penghianat', 'pengkol', 'pengkor', 'penguinkujaga', 'peniti', 'penjara', 'penjuru', 'penontonya', 'pens', 'pensiun', 'penthouse', 'penting', 'pentol', 'penuh', 'penuntutterus', 'people', 'pep', 'pepe', 'pepek', 'pepeng', 'peperangan', 'per', 'peran', 'perban', 'perbucinan', 'percaya', 'perempuan', 'perfect', 'perfectly', 'performance', 'performence', 'perfume', 'pergi', 'pergihadeh', 'perhaps', 'perhati', 'perihal', 'perilaku', 'perintah', 'perkara', 'perkosa', 'perlahan', 'perlu', 'permen', 'permendikbud', 'permisi', 'pernah', 'pernahh', 'peronlinean', 'perpinjolan', 'persen', 'persentasi', 'persib', 'persis', 'persneleng', 'person', 'pertamax', 'pertamina', 'pertanggungjawaban', 'perut', 'perutnyaaa', 'pesan', 'pesawat', 'pesbukers', 'pesimis', 'pet', 'peta', 'petai', 'petal', 'petinggi', 'petir', 'petisi', 'petite', 'peyek', 'pfizer', 'phase', 'phd', 'phobia', 'phone', 'photo', 'photocard', 'photograph', 'photonya', 'piara', 'piat', 'pic', 'pick', 'picky', 'pictures', 'pid', 'pie', 'piece', 'piee', 'pihak', 'pijar', 'pijat', 'pijit', 'pikachu', 'pikir', 'piknik', 'piko', 'piks', 'pilih', 'pim', 'pimpin', 'pin', 'pina', 'pinak', 'pincang', 'pindah', 'pindahin', 'pinggang', 'pinggir', 'pingsan', 'pinjam', 'pinjol', 'pinkk', 'pinned', 'pintar', 'pintu', 'pipi', 'pipilih', 'pipis', 'piraku', 'pirlo', 'pis', 'pisah', 'pisanan', 'pisannn', 'pisau', 'piso', 'pixy', 'pjf', 'pjok', 'pkknya', 'pkwu', 'place', 'plagiat', 'plan', 'planhehe', 'plastic', 'plat', 'player', 'playlist', 'playoff', 'pleasant', 'please', 'pleased', 'pleaseee', 'plekkk', 'plesbol', 'plin', 'plinplan', 'plisss', 'plong', 'plot', 'plotwistnya', 'plugins', 'plus', 'pocong', 'podaran', 'podcast', 'pohon', 'poin', 'point', 'pojok', 'poker', 'pokok', 'pokokna', 'pokoknyaaa', 'pol', 'pola', 'polah', 'polbannya', 'pole', 'police', 'poligami', 'polisi', 'politic', 'politik', 'politis', 'pollll', 'polos', 'polow', 'ponakan', 'poni', 'poop', 'poor', 'pop', 'poppy', 'populasi', 'popup', 'porat', 'porchenya', 'pororo', 'pororooo', 'porridge', 'porsi', 'porsil', 'porto', 'portray', 'pose', 'posinfonya', 'posisi', 'positif', 'positip', 'posko', 'poso', 'postannya', 'poster', 'posthink', 'posting', 'postingan', 'potek', 'potensi', 'pothograph', 'potomu', 'potong', 'potoo', 'power', 'ppk', 'ppkm', 'ppks', 'ppsmb', 'pptippbp', 'pra', 'practice', 'practicing', 'prakarya', 'prakira', 'praktek', 'praktik', 'praktikum', 'pramadi', 'prambanan', 'prank', 'pray', 'prayer', 'prediksi', 'prefer', 'preman', 'prematur', 'premier', 'premiere', 'prenagen', 'prepared', 'presence', 'presentasi', 'presiden', 'prestasi', 'prestise', 'pretty', 'preview', 'prezi', 'prg', 'pria', 'pribadi', 'price', 'pricenya', 'pride', 'prik', 'prikk', 'prima', 'primary', 'prime', 'primitif', 'prinsip', 'prinsipny', 'print', 'prioritas', 'priority', 'privasi', 'privat', 'private', 'privilege', 'prnahh', 'problem', 'problematik', 'problems', 'processing', 'produk', 'produktif', 'produktip', 'produktivitas', 'profesi', 'profesional', 'profil', 'profiler', 'profit', 'program', 'progress', 'projek', 'prolly', 'promo', 'promosi', 'promotin', 'promotion', 'pron', 'pronounce', 'proof', 'propaganda', 'proplayer', 'proposal', 'prosa', 'proses', 'prot', 'protagonis', 'protect', 'protes', 'protokol', 'proud', 'prove', 'provinsi', 'proyek', 'proyektor', 'prtanyaannya', 'prustrasi', 'prutqu', 'psdm', 'psikater', 'psiko', 'psikolog', 'psikologi', 'psikopat', 'pspk', 'psychological', 'ptm', 'ptn', 'puanjangg', 'puas', 'puasa', 'puasaa', 'pubg', 'pubgm', 'publik', 'pucetlemes', 'puisi', 'puji', 'pukimak', 'pukis', 'pulang', 'pulanggg', 'pulau', 'pulih', 'pulkam', 'pull', 'pulsa', 'puluh', 'puncak', 'puncakbandung', 'pundak', 'pundung', 'punggung', 'pungut', 'punk', 'punp', 'punten', 'punteun', 'puny', 'pup', 'pupuk', 'pura', 'purapura', 'purbalingga', 'pure', 'purna', 'puruk', 'pus', 'pusar', 'pusat', 'pusengpuseng', 'push', 'pushinknya', 'pusing', 'put', 'putar', 'putboltrapeler', 'puter', 'puterputer', 'putih', 'putri', 'putting', 'putus', 'putuss', 'puyol', 'qi', 'qkwkwkwk', 'qodar', 'qor', 'qotd', 'qpr', 'qrt', 'qrtnya', 'quadruple', 'quali', 'quality', 'queen', 'question', 'questions', 'quetvell', 'quickly', 'quiziz', 'quotes', 'quotesnya', 'raajiuun', 'rabi', 'race', 'racing', 'racist', 'racun', 'radang', 'radio', 'rafatar', 'raff', 'rafli', 'raflii', 'raga', 'ragazzi', 'raghs', 'ragi', 'ragil', 'ragu', 'rahasia', 'rahasiarahasia', 'rahim', 'rahman', 'rahmat', 'raih', 'rain', 'raisa', 'raja', 'rajamantrisme', 'rajawali', 'rajin', 'raka', 'rakaat', 'rakhiel', 'rakyat', 'rally', 'rama', 'ramadan', 'ramadhani', 'ramah', 'ramai', 'ramairamai', 'ramal', 'rambut', 'ramean', 'ramee', 'ramen', 'ramli', 'rampok', 'rampung', 'ramsdale', 'ran', 'rancang', 'random', 'randomly', 'rang', 'rangin', 'rangka', 'rangkak', 'rank', 'rann', 'ransel', 'rantau', 'raos', 'rap', 'rapat', 'rapi', 'rara', 'rare', 'rariweh', 'raruhh', 'rarungsing', 'rasa', 'rasah', 'rasanyaaaa', 'rasulullah', 'rasyid', 'rasyids', 'rata', 'ratap', 'ratenyaa', 'rather', 'rating', 'ratus', 'rawan', 'rawat', 'raya', 'rban', 're', 'react', 'reaction', 'read', 'reader', 'reading', 'ready', 'real', 'realita', 'reallll', 'really', 'reason', 'reasonable', 'reasons', 'rebah', 'rebus', 'rebut', 'receh', 'receive', 'recognition', 'recommend', 'recook', 'record', 'recovery', 'recruitment', 'red', 'redup', 'ref', 'refal', 'referensi', 'refleks', 'reflexology', 'reg', 'regulater', 'reguler', 'rehak', 'rehan', 'rehat', 'reject', 'rejection', 'rejeki', 'rekam', 'rekan', 'rekomendasi', 'rekrutmen', 'reksa', 'reksadana', 'rel', 'rela', 'relasi', 'relate', 'related', 'relates', 'relationship', 'relax', 'release', 'relevan', 'reliever', 'relife', 'rem', 'remain', 'remaja', 'remed', 'remedial', 'remember', 'remind', 'reminder', 'remjet', 'remot', 'ren', 'renachi', 'renachiiiii', 'renang', 'rencana', 'rendah', 'rendang', 'render', 'renee', 'renhyuck', 'renjun', 'reno', 'renung', 'reog', 'rep', 'repackage', 'repair', 'repal', 'repeat', 'repeating', 'replay', 'repliesnya', 'replyannya', 'replydm', 'replynya', 'repot', 'reps', 'republik', 'request', 'requestku', 'rereee', 'resah', 'resap', 'reschedule', 'resek', 'resep', 'resign', 'resik', 'resiko', 'resikoo', 'resmi', 'resonance', 'resor', 'resources', 'respect', 'respon', 'responnya', 'response', 'restart', 'resto', 'restoran', 'restrict', 'restu', 'ret', 'reta', 'retail', 'retak', 'retake', 'retno', 'retrace', 'return', 'retweet', 'review', 'revisi', 'revolusi', 'reward', 'rewrite', 'rey', 'reyen', 'rezeki', 'rhafly', 'rhythm', 'ri', 'riak', 'rias', 'riau', 'riba', 'ribet', 'ribu', 'ribut', 'ricebox', 'rich', 'rida', 'ride', 'rider', 'ridha', 'ridhonya', 'right', 'rihanna', 'rii', 'riii', 'riil', 'ril', 'rileks', 'rinding', 'rindu', 'ringan', 'ringanin', 'ringin', 'ringkas', 'rip', 'ris', 'risan', 'risau', 'riset', 'risih', 'risiko', 'risk', 'ritme', 'rival', 'riweh', 'riweuh', 'rixton', 'riya', 'riyoyo', 'rizky', 'rn', 'rnb', 'roa', 'rock', 'rocky', 'roda', 'rodi', 'rodo', 'roja', 'rojiun', 'rok', 'rokok', 'rollback', 'roller', 'rom', 'roma', 'romance', 'romantic', 'rome', 'ronaldinho', 'ronaldo', 'rongel', 'rongsok', 'rons', 'ronta', 'rontgen', 'rontok', 'rooney', 'rop', 'rose', 'rosie', 'roti', 'round', 'routine', 'routinity', 'rover', 'rowoon', 'royal', 'rthdfg', 'ruah', 'ruang', 'rubah', 'rubik', 'rugi', 'ruined', 'rujak', 'rukhp', 'rul', 'rules', 'rulesnyaaa', 'rum', 'rumah', 'rumit', 'rumor', 'rumpun', 'rumput', 'run', 'rundownnya', 'runtah', 'runtuh', 'rupiah', 'ruqyah', 'rusa', 'rusak', 'ruslan', 'rusuh', 'rusuhny', 'rutin', 'rutinitas', 'rutuk', 'ruwet', 'rv', 'rwepot', 'ryder', 'sa', 'saama', 'saar', 'sabar', 'sabaraha', 'sabtu', 'sabun', 'sabunn', 'sad', 'sadar', 'sadboy', 'sadly', 'sadness', 'saeron', 'saestu', 'sagittarius', 'sahabat', 'sahabatkuhh', 'sahajaaa', 'saham', 'sahur', 'saia', 'said', 'saiful', 'saintek', 'sajeu', 'sakaaaa', 'sakieu', 'saking', 'sakit', 'saksi', 'sakura', 'salah', 'salam', 'salat', 'salatri', 'saldo', 'saleh', 'salem', 'sales', 'sali', 'salin', 'sally', 'saloka', 'salur', 'salut', 'sama', 'samaaa', 'samampcatsumpah', 'samantha', 'samar', 'samasama', 'sambal', 'sambar', 'sambara', 'sambat', 'sambelnya', 'sambi', 'sambil', 'sambung', 'sameeee', 'samgat', 'sami', 'sampah', 'sampali', 'sampean', 'sampee', 'samper', 'samping', 'sampun', 'sampurna', 'samsat', 'samsung', 'samyang', 'sandra', 'sangar', 'sanggup', 'sangka', 'sangkut', 'sankyuu', 'sans', 'sansss', 'santa', 'santai', 'santet', 'santuy', 'saotik', 'sapa', 'sapaa', 'sapi', 'sapu', 'sar', 'saran', 'sarang', 'sarap', 'saria', 'sariawan', 'sarjana', 'sarminah', 'saroleh', 'sarung', 'sasaeng', 'sasaha', 'sasahadijalan', 'sasar', 'sasirkel', 'sastra', 'sasukereup', 'sat', 'satanic', 'satarikna', 'sate', 'sateee', 'satisfying', 'satispaying', 'satsetsatset', 'satttt', 'satu', 'saturdate', 'satusatu', 'satusatunya', 'satwa', 'sauce', 'saudadr', 'saudara', 'saudari', 'saukur', 'saur', 'sava', 'savage', 'save', 'savean', 'savenya', 'sawah', 'sawit', 'saya', 'sayang', 'sayat', 'saye', 'says', 'sayur', 'sbm', 'sc', 'scale', 'scam', 'scared', 'scenarionya', 'scene', 'scenenya', 'schedule', 'scheduled', 'school', 'schoolarrrrr', 'science', 'score', 'scores', 'scream', 'screen', 'screening', 'screennya', 'screenshoot', 'screenshot', 'scroll', 'scrolled', 'scudetto', 'scumbag', 'sdihh', 'seabra', 'seafood', 'sealed', 'season', 'sebab', 'sebal', 'sebanyakbanyaknya', 'sebar', 'sebats', 'sebelas', 'sebellll', 'sebeneci', 'sebenere', 'sebenernga', 'sebentar', 'seberang', 'seberatberatnya', 'seblak', 'sebut', 'secingkir', 'second', 'secondary', 'secondhand', 'seconds', 'sedak', 'sedap', 'sedekah', 'sederhana', 'sedia', 'sedih', 'sedihnyaaa', 'sediy', 'sedot', 'seecul', 'seeder', 'seeing', 'seems', 'seen', 'seengganya', 'segan', 'segani', 'segar', 'segera', 'segi', 'sehat', 'sei', 'seilfeel', 'seimezu', 'sejarah', 'sejati', 'sek', 'sekadarny', 'sekaleee', 'sekalikali', 'sekalin', 'sekarangmah', 'sekarat', 'sekbid', 'sekepo', 'sekian', 'sekolah', 'sekostan', 'sekre', 'seks', 'seksual', 'seksualitas', 'sektor', 'selagi', 'selai', 'selak', 'selalways', 'selam', 'selamat', 'selamattt', 'selangkahselangkah', 'selasa', 'selatan', 'selawat', 'sele', 'selebrasi', 'selebriti', 'seleksi', 'selenggara', 'selengkih', 'selera', 'selesai', 'selesaiiii', 'selesaiselesai', 'selese', 'selesein', 'self', 'selfdiagnose', 'selimut', 'seling', 'selingkuh', 'sell', 'sellkor', 'sells', 'selo', 'selokan', 'seltop', 'seluasluasnya', 'seluru', 'sem', 'semager', 'semamgattt', 'semangaaaat', 'semangat', 'semangatin', 'semangatna', 'semangattt', 'semangatttt', 'semangka', 'semangttt', 'semarang', 'sembari', 'sembayang', 'sembelih', 'sembilan', 'sembuh', 'sembuhhh', 'sembunyi', 'semen', 'semenjak', 'semesta', 'semester', 'semhas', 'semi', 'semikolon', 'seminar', 'semnakin', 'sempat', 'sempettt', 'sempit', 'sempro', 'semprot', 'sempur', 'sempurna', 'semruawut', 'semua', 'semuaa', 'semuaaaaa', 'semuanyahh', 'semut', 'senah', 'senang', 'senantiasa', 'senat', 'senayan', 'send', 'sendal', 'sendalsepatu', 'sendat', 'sender', 'senderna', 'sendiran', 'sendiri', 'sendok', 'senga', 'sengaja', 'senggol', 'sengir', 'sengojo', 'sengsara', 'seni', 'senin', 'senior', 'senja', 'senjang', 'senji', 'sensitif', 'sensitive', 'sensitivitas', 'sensor', 'senter', 'sentimental', 'sentosa', 'sentuh', 'sentul', 'senut', 'senyum', 'senyumn', 'seo', 'seolaholah', 'seongcheol', 'seonghwa', 'seongyeong', 'seoul', 'sepak', 'sepatu', 'sepeda', 'sepele', 'seperilkoman', 'seperti', 'sepi', 'september', 'sepupu', 'seragam', 'serah', 'seram', 'serang', 'serangggggg', 'seraph', 'serasa', 'serba', 'serbaserbi', 'seremm', 'seremmmm', 'sergio', 'seri', 'serial', 'series', 'seriesfilm', 'serigala', 'sering', 'seringai', 'seringg', 'seringggggg', 'seringkali', 'serious', 'serit', 'serius', 'serpih', 'sersan', 'serta', 'sertif', 'seru', 'seruduk', 'serum', 'server', 'service', 'servixe', 'sesak', 'sesal', 'sesat', 'sesuai', 'sesuatuu', 'set', 'setan', 'setel', 'setia', 'setir', 'setor', 'setress', 'setujuuuu', 'seul', 'seulgi', 'seunbaenim', 'seungkwan', 'seungyoon', 'seungyoun', 'seven', 'sevibe', 'sex', 'sexual', 'sexualitas', 'sf', 'sg', 'sgeswe', 'sh', 'sha', 'shaaan', 'shab', 'shades', 'shaka', 'shaking', 'shalatlah', 'shampoonya', 'shan', 'shannninnn', 'shareloc', 'sharing', 'shaumm', 'shd', 'she', 'sheila', 'shekyaa', 'shibaal', 'shied', 'shift', 'shiftan', 'shine', 'shining', 'shinta', 'shinu', 'shirt', 'shitposting', 'shittt', 'shkjgfrvjhskfx', 'shock', 'shoe', 'sholatna', 'shooo', 'shoot', 'shooting', 'shopee', 'shot', 'shotaro', 'should', 'shouldnt', 'shounen', 'show', 'siah', 'sial', 'siang', 'siangsore', 'siap', 'siapa', 'siapaaa', 'siapaaaatuu', 'siar', 'siblings', 'sibuk', 'sibukin', 'sica', 'sick', 'sidane', 'sidang', 'side', 'sidik', 'sido', 'sienen', 'sieta', 'sieun', 'sifat', 'sig', 'siga', 'siganamah', 'signature', 'signed', 'signifikan', 'sigobss', 'sih', 'siii', 'siiii', 'siiiiiiii', 'siji', 'sijine', 'sikap', 'sikat', 'siklus', 'sikonnya', 'siksa', 'sila', 'silaturrahmi', 'silent', 'silet', 'sim', 'simak', 'simbol', 'simi', 'simon', 'simpan', 'simple', 'simpul', 'sims', 'simulasi', 'sinar', 'sinau', 'sindir', 'sinetron', 'singa', 'singer', 'singgah', 'singgle', 'singing', 'single', 'sini', 'sinyal', 'sip', 'sipil', 'sipu', 'sirine', 'sirna', 'siroh', 'sis', 'sisa', 'sisca', 'sisfo', 'sisi', 'sist', 'sistar', 'sistem', 'sistur', 'sisturrr', 'siswa', 'sitasi', 'site', 'situ', 'situation', 'skala', 'skena', 'skenario', 'skill', 'skripsi', 'sksksk', 'skskskksks', 'sksksks', 'sleketep', 'slibau', 'slice', 'slide', 'slip', 'slipknot', 'slot', 'slow', 'slowres', 'slr', 'slwsndkelwpw', 'smarttt', 'smcu', 'smell', 'smi', 'smile', 'smiths', 'smooth', 'smsmskwkskwk', 'smt', 'smth', 'smtown', 'smwa', 'sn', 'snacknya', 'sndirian', 'sndirii', 'sngnya', 'snm', 'snmptn', 'snob', 'snsd', 'soal', 'soalna', 'soalnyaa', 'sobat', 'sobathape', 'sobekin', 'sobel', 'sobs', 'socio', 'soetta', 'sofia', 'softlens', 'software', 'sokinnn', 'soko', 'solatin', 'sold', 'solo', 'solot', 'solusi', 'solving', 'somay', 'sombong', 'sombrero', 'some', 'someone', 'sometimes', 'song', 'sontek', 'sopan', 'sorang', 'sore', 'sori', 'sortitoutsi', 'sosial', 'sosok', 'soul', 'sound', 'source', 'sp', 'spam', 'speedy', 'sperm', 'spesial', 'spider', 'spill', 'spotify', 'sprei', 'stabil', 'staf', 'stan', 'stand', 'standar', 'stars', 'start', 'starter', 'starting', 'stase', 'statham', 'station', 'statistik', 'statistika', 'status', 'stay', 'staycation', 'step', 'stiker', 'still', 'stop', 'strategi', 'streaming', 'street', 'streetrace', 'stres', 'stressed', 'stresss', 'stressss', 'strict', 'string', 'strip', 'strong', 'strongest', 'struggling', 'stsn', 'stuck', 'student', 'studi', 'studio', 'study', 'stum', 'stun', 'stuntman', 'sty', 'styles', 'suami', 'suang', 'suara', 'suasana', 'suasu', 'sub', 'subhanahu', 'submit', 'subret', 'subtittle', 'subuh', 'subuhsubuh', 'subur', 'such', 'suci', 'suckid', 'suda', 'sudaaah', 'sudah', 'suddenly', 'sudut', 'suganteh', 'sugdad', 'sugdadnya', 'sugeng', 'suggest', 'suh', 'suho', 'suhu', 'sujud', 'suka', 'sukaakkk', 'sukabumi', 'sukabumiciputatsukabumi', 'sukakk', 'sukakkkk', 'sukasuka', 'sukses', 'sulit', 'sultan', 'suluh', 'sulung', 'sum', 'sumatra', 'sumitomo', 'summer', 'summernya', 'sumpaaaaah', 'sumpah', 'sumpel', 'sumpil', 'sumpis', 'sunda', 'sungchan', 'sunggug', 'sungguh', 'sungguhakn', 'sungjin', 'sungkem', 'sungut', 'sunnyday', 'sunrise', 'sunscreen', 'sunset', 'sunshine', 'sunti', 'supardi', 'super', 'support', 'supporting', 'supremacy', 'surabaya', 'suram', 'surat', 'surga', 'surip', 'surken', 'surprise', 'surprisee', 'surprisein', 'suruh', 'survival', 'surya', 'sus', 'susah', 'susahh', 'sushi', 'suspend', 'suster', 'susu', 'susul', 'susun', 'sut', 'sutra', 'suuzan', 'svt', 'swab', 'swafoto', 'swasta', 'swatch', 'swedia', 'sweet', 'sweneng', 'swift', 'swing', 'swinggg', 'sworn', 'swot', 'syaban', 'syafii', 'syafiq', 'syahrini', 'syalann', 'syarat', 'syariat', 'syariyah', 'syawal', 'symbian', 'syopi', 'syudaaa', 'syudahh', 'syukur', 'syuting', 'taala', 'tabah', 'tabarakallah', 'tabrak', 'tabtab', 'tabu', 'tabung', 'tacub', 'taehyung', 'taekkk', 'taeyong', 'tafsir', 'tag', 'tagih', 'tahajjud', 'tahan', 'tahantahan', 'tahh', 'tahta', 'tahu', 'tahun', 'tahuntahun', 'tahwa', 'taichan', 'taichannya', 'taiiikkk', 'taipei', 'tajam', 'takapaa', 'takbir', 'takdir', 'take', 'takehiro', 'taker', 'taking', 'takit', 'takjub', 'taksi', 'taksir', 'taktik', 'taktinya', 'takut', 'takutt', 'takuuuut', 'talent', 'tali', 'talk', 'talker', 'talks', 'tamak', 'tamat', 'tambah', 'tambang', 'tameng', 'tamini', 'tampan', 'tampang', 'tampil', 'tampung', 'tamvan', 'tanah', 'tanam', 'tanda', 'tandane', 'tanding', 'taneman', 'tang', 'tangan', 'tangerang', 'tanggal', 'tanggap', 'tangguh', 'tanggung', 'tangis', 'tangkap', 'tangkis', 'tani', 'tanjak', 'tank', 'tanktop', 'tann', 'tantang', 'tantelala', 'tanya', 'tanyaa', 'taonnya', 'tapiii', 'tapiiii', 'tapping', 'tapteng', 'taqlid', 'taqy', 'tar', 'tara', 'tarabal', 'taraweh', 'target', 'tari', 'tarik', 'tarima', 'taring', 'taro', 'tarok', 'taruan', 'taruh', 'tarung', 'tarutung', 'tas', 'tasik', 'task', 'taste', 'tasyatasyi', 'tata', 'tatakaee', 'tatap', 'tato', 'tatum', 'tau', 'taun', 'taurus', 'tawa', 'tawaaaaa', 'tawar', 'tayamum', 'tayang', 'taylor', 'tb', 'tbl', 'tea', 'teacher', 'teacherthe', 'teajus', 'teams', 'tear', 'teaser', 'teasernyaa', 'tebak', 'tebal', 'tebar', 'technically', 'teduh', 'teee', 'teel', 'teflon', 'tega', 'tegal', 'tegang', 'teguh', 'tegur', 'teh', 'teing', 'tekan', 'tekkim', 'teknik', 'teknikalnya', 'teknikk', 'teknologi', 'tektel', 'tekun', 'telah', 'telat', 'tele', 'telegram', 'telekung', 'telepati', 'telepon', 'televisi', 'telfon', 'telinga', 'teliti', 'telkom', 'telkomsel', 'tell', 'teller', 'tells', 'telpon', 'telu', 'telur', 'telyufess', 'tem', 'tema', 'teman', 'tembak', 'tembus', 'temenq', 'tementemen', 'temlenkuh', 'tempat', 'tempe', 'tempel', 'tempelin', 'tempet', 'template', 'tempo', 'temu', 'temuin', 'ten', 'tenaga', 'tenagapikiran', 'tenanan', 'tenang', 'tencuu', 'tengah', 'tenggelam', 'tengger', 'tenggorok', 'tengkar', 'tengkyu', 'tengok', 'tengoktengok', 'tennie', 'tensi', 'tentang', 'tentatif', 'tentram', 'tentu', 'tenyang', 'tenyata', 'teori', 'tepar', 'tepat', 'tepung', 'terae', 'terang', 'teranyata', 'terap', 'teras', 'teraweh', 'terbaek', 'terbang', 'terbit', 'terbully', 'terdalamterparah', 'tergesagesa', 'terhadeh', 'terhibursepak', 'teriak', 'terima', 'terjang', 'terjun', 'terjunho', 'terka', 'terkadang', 'terkejutt', 'terngakak', 'terngaret', 'terngarettt', 'terngukuk', 'ternyataaa', 'terobatii', 'teroooos', 'terooosas', 'teror', 'teroris', 'teross', 'terosss', 'terpecaya', 'tersedusedu', 'terserahaloy', 'terseyeng', 'tersulidddd', 'tersyndyr', 'tertawa', 'terus', 'terussss', 'teruuus', 'tes', 'tesis', 'testing', 'tesy', 'tetangga', 'tetap', 'tetapp', 'tete', 'teteh', 'tetehhh', 'tetehhhh', 'tetes', 'teuing', 'teuku', 'teza', 'tfan', 'tg', 'tglnya', 'tgr', 'thailand', 'thalassophobia', 'thankk', 'thankss', 'thanksss', 'thankyou', 'thankyouu', 'thankyouuu', 'thankyouuuu', 'thankyouuuuuuuuuuu', 'thaun', 'theft', 'their', 'them', 'theory', 'therobswanson', 'theyre', 'thi', 'thiefs', 'thiiis', 'thing', 'thingking', 'think', 'thinking', 'this', 'thiscakep', 'thomas', 'thor', 'thought', 'three', 'thrift', 'thriller', 'through', 'thru', 'tht', 'thurman', 'thv', 'tiang', 'tiara', 'tiaraaa', 'tibake', 'tibe', 'ticket', 'tidak', 'tidaktau', 'tidur', 'tie', 'tieksti', 'tifourtinnaintin', 'tiga', 'tiger', 'tihh', 'tije', 'tika', 'tikacemplung', 'tiket', 'tikhtokh', 'tiktok', 'tiktokan', 'tikung', 'tikus', 'tilam', 'tilang', 'tilil', 'till', 'tim', 'timbang', 'time', 'timeee', 'timer', 'times', 'timor', 'timpa', 'tindak', 'tindas', 'ting', 'tinggal', 'tinggi', 'tinggihanya', 'tingkah', 'tingkat', 'tinju', 'tinu', 'tipe', 'tipis', 'tips', 'tipu', 'tirai', 'tiramisunya', 'tired', 'tiren', 'tiro', 'tis', 'titik', 'titip', 'titit', 'title', 'tiup', 'tjakeeep', 'tktk', 'tlkm', 'tmbhan', 'tmblrnyaa', 'toba', 'tobat', 'today', 'todayyy', 'todd', 'toeic', 'toel', 'toga', 'toge', 'together', 'toilet', 'tok', 'token', 'toko', 'tokoh', 'tokped', 'toksik', 'toktok', 'tol', 'tolak', 'told', 'toleransi', 'tolol', 'tololll', 'tolong', 'tolonk', 'toloooonnggg', 'tom', 'tomat', 'tomatoes', 'tombol', 'tomiyasu', 'tomorrow', 'toner', 'tong', 'tongkat', 'tongkrong', 'tonjok', 'tonton', 'tontowi', 'tonyok', 'toomuch', 'top', 'topeng', 'topi', 'topik', 'torrent', 'total', 'totally', 'totebagnya', 'toto', 'touch', 'touchdown', 'tour', 'touring', 'towards', 'toxic', 'tpa', 'tpp', 'trabas', 'track', 'tracklist', 'trading', 'tradisi', 'traffic', 'tragis', 'trailer', 'traitor', 'trakteer', 'transaksi', 'transfer', 'transkrip', 'translate', 'translation', 'transtv', 'trauma', 'travel', 'travelling', 'tread', 'treasure', 'treatment', 'trejo', 'tremble', 'tremor', 'tren', 'trening', 'trex', 'trial', 'tried', 'trigger', 'trimagaji', 'tring', 'trio', 'triple', 'trippier', 'tritnya', 'trivial', 'troh', 'tropis', 'trsera', 'trshaloy', 'tru', 'trua', 'true', 'trueeee', 'trust', 'trusted', 'trusting', 'truth', 'truthfully', 'try', 'trying', 'tryurtyu', 'trz', 'tsabitha', 'tsadesssst', 'tt', 'ttapi', 'tttapii', 'ttttaaaapppiii', 'tua', 'tuai', 'tuan', 'tubagus', 'tuban', 'tubes', 'tubi', 'tubirfess', 'tubuh', 'tudei', 'tudey', 'tuduh', 'tudur', 'tuesday', 'tugas', 'tuham', 'tuhan', 'tuhnya', 'tuju', 'tujuh', 'tukang', 'tukar', 'tukok', 'tuku', 'tulang', 'tular', 'tulis', 'tulisantulisannya', 'tulung', 'tulus', 'tuluskahitna', 'tuluunnggg', 'tum', 'tuman', 'tumbaassss', 'tumbang', 'tumben', 'tumblr', 'tumbuh', 'tumit', 'tumpah', 'tumpang', 'tumpuk', 'tun', 'tunai', 'tunang', 'tunda', 'tunggu', 'tungguin', 'tunik', 'tunjang', 'tunjuk', 'tuntas', 'tuntut', 'tup', 'tupperware', 'turbo', 'turing', 'turn', 'turning', 'turnitin', 'turu', 'turun', 'turut', 'tus', 'tusuk', 'tutup', 'tuul', 'tuy', 'tuyul', 'tvn', 'twist', 'twisted', 'twitnya', 'twitter', 'twitterku', 'twitternya', 'tws', 'txtdarionlineshop', 'tyler', 'typonya', 'typooonya', 'uaa', 'uak', 'uang', 'uangpendapatan', 'uap', 'ubah', 'uber', 'ucap', 'ucapanperbuatan', 'ucl', 'ucpkan', 'ucup', 'udah', 'udahhh', 'udahpernah', 'udang', 'udann', 'udara', 'udat', 'udhan', 'udhh', 'udu', 'udud', 'ududnya', 'ueueue', 'ughtea', 'ugly', 'ugm', 'uh', 'uhuuyy', 'uhuy', 'ujang', 'ujannya', 'uji', 'uju', 'ujung', 'uka', 'ukah', 'uki', 'ukt', 'ukur', 'ulah', 'ulang', 'ulangann', 'uler', 'ulin', 'ultahh', 'ultahmu', 'umak', 'umat', 'umay', 'umi', 'umpama', 'umrah', 'umuh', 'umum', 'umur', 'unair', 'unbw', 'uncleeeee', 'uncrush', 'undang', 'under', 'undergraduate', 'underprice', 'understand', 'undervalue', 'undip', 'unduh', 'undur', 'uner', 'unfaedah', 'unfollow', 'unfollowed', 'unforgettable', 'unfortunately', 'unfren', 'ung', 'unggah', 'unggal', 'unggul', 'unhealt', 'unin', 'uninstall', 'unisba', 'unisex', 'unit', 'united', 'universal', 'universe', 'universitas', 'unjuk', 'unjung', 'unknown', 'unless', 'unlocking', 'unmute', 'unmuteee', 'unreal', 'until', 'untu', 'untuk', 'untung', 'unyil', 'uo', 'upacara', 'upamecano', 'updated', 'updatenya', 'upee', 'upi', 'upin', 'upp', 'upsize', 'urai', 'urang', 'uras', 'ure', 'urgent', 'urgenttt', 'uri', 'urng', 'urun', 'urung', 'urus', 'urusann', 'urut', 'urwelkom', 'usaha', 'usahain', 'usak', 'usd', 'use', 'used', 'useful', 'usg', 'ushijima', 'usia', 'usik', 'using', 'usman', 'usn', 'ustadasa', 'usum', 'usume', 'usut', 'utah', 'utama', 'utamain', 'utang', 'utara', 'utarariau', 'utbk', 'utbkk', 'utbknya', 'utee', 'uteuk', 'uthe', 'utube', 'utututututu', 'uul', 'uumm', 'uuuuu', 'uwadiduh', 'uwang', 'uwuan', 'uwuu', 'uwuwuwuwu', 'uy', 'uyah', 'uyon', 'uyonn', 'uyut', 'vaksin', 'vaksinkesehatan', 'vakum', 'valdi', 'vale', 'valendra', 'valerie', 'valid', 'validd', 'valo', 'valorant', 'vandunh', 'vanyak', 'varian', 'vario', 'vavl', 'vcan', 'vcd', 'vegan', 'vegas', 'velg', 'velvet', 'ven', 'vendor', 'vengeance', 'vera', 'versi', 'version', 'versionnya', 'versys', 'vertigo', 'vesmet', 'vest', 'vet', 'veteran', 'vibe', 'vibenya', 'vibes', 'vibesnya', 'vice', 'vickhuman', 'video', 'videografis', 'videovoice', 'view', 'vin', 'vincenzo', 'vincerai', 'vip', 'viral', 'virtual', 'virus', 'vision', 'visioner', 'viu', 'vl', 'vlado', 'vlive', 'vlog', 'vm', 'vmin', 'vminkook', 'voc', 'voices', 'vokalis', 'vokasi', 'vol', 'voli', 'volume', 'volunteer', 'vow', 'vrindavan', 'vuitton', 'vvd', 'waadddssss', 'wabah', 'wabarakatuuu', 'wacana', 'wadaww', 'waduch', 'waduhhh', 'waduuhhh', 'wahahahahahaha', 'waiji', 'waist', 'waiting', 'waitt', 'waittt', 'waitttt', 'wajah', 'wajar', 'wajib', 'waka', 'wakes', 'wakil', 'waktu', 'wakwau', 'walah', 'walahhh', 'walks', 'wallahu', 'walletpc', 'wallpaper', 'walo', 'walt', 'wan', 'wang', 'wangi', 'wani', 'wanita', 'wanjas', 'wanjasssss', 'wanjay', 'wannaone', 'wanted', 'wanti', 'wanting', 'wants', 'wantuseven', 'war', 'warahmatulahi', 'warga', 'warganet', 'warm', 'warmest', 'warmindo', 'warna', 'warnawarni', 'warning', 'warung', 'was', 'wasalamualaikum', 'wasi', 'wasit', 'wasweswos', 'wasyuu', 'watch', 'water', 'watford', 'watt', 'wattpad', 'wattpas', 'watur', 'wawancara', 'wawas', 'wawww', 'way', 'wayv', 'wb', 'we', 'weak', 'wearing', 'weather', 'web', 'webex', 'website', 'wedding', 'wedi', 'wednesdayy', 'wee', 'weeks', 'weh', 'wehhh', 'weipe', 'weishennies', 'weits', 'welcome', 'welelele', 'wellcome', 'wendy', 'wendyyyyyy', 'were', 'werpek', 'werwer', 'werywerty', 'west', 'western', 'wetv', 'wfh', 'wfo', 'whaatt', 'wheeze', 'where', 'which', 'whiny', 'white', 'whitelab', 'whooof', 'whos', 'whut', 'wibuu', 'wicak', 'wid', 'widi', 'widiih', 'widodo', 'wifi', 'wih', 'wiiii', 'wilayah', 'winderella', 'winehouse', 'wing', 'winner', 'winning', 'winona', 'winter', 'winterrr', 'winwin', 'wios', 'wipe', 'wipped', 'wirawan', 'wirawannya', 'wireframe', 'wirelessnya', 'wisata', 'wise', 'wish', 'wishlist', 'wisuda', 'witintot', 'witir', 'witnessed', 'wiz', 'wkakaak', 'wkakaka', 'wkakakak', 'wkakakakka', 'wkakwka', 'wkkwk', 'wkkwkwwk', 'wktuku', 'wkwkkwkwkk', 'wkwkkwkwkwkwkwkwk', 'wkwkkwwkwk', 'wkwkpokonyaa', 'wkwkwkada', 'wkwkwkkwk', 'wkwkwkkwwkk', 'wkwkwkwkkwkw', 'wkwkwkwkoh', 'wkwkwkwkwlwkkw', 'wkwkwwkk', 'wkwwkkwkwkwkwkwk', 'wkwwkwk', 'wlee', 'wlpn', 'wm', 'woaaa', 'woaaaa', 'woah', 'woiii', 'wokee', 'wokeh', 'wokehh', 'wokwok', 'wolff', 'woman', 'won', 'wondering', 'wonderland', 'wonpil', 'wont', 'wook', 'woon', 'woowi', 'word', 'wording', 'worked', 'workout', 'world', 'worldwide', 'worn', 'worse', 'worst', 'worth', 'worthy', 'would', 'wp', 'wr', 'wrapped', 'write', 'written', 'wth', 'wts', 'wudhu', 'wuff', 'wuhan', 'wujud', 'wujudin', 'ww', 'wwawaduh', 'wwkkwk', 'wwkwkkwkswkskwksk', 'wwkwkwkkwkwkk', 'xbsjskdk', 'xcvb', 'xi', 'xiaojun', 'xibiru', 'xixixi', 'xixixii', 'xixixiixixixixixxi', 'xlnya', 'xxx', 'yaampoon', 'yaampoonnnn', 'yadah', 'yadda', 'yaelah', 'yaga', 'yagayagaaa', 'yahehe', 'yahlt', 'yahuuu', 'yahya', 'yaiya', 'yakaaannnnn', 'yakann', 'yakeles', 'yakult', 'yamaaap', 'yamet', 'yami', 'yan', 'yanglain', 'yangyang', 'yankees', 'yanuar', 'yaps', 'yapss', 'yaris', 'yasin', 'yasssh', 'yassss', 'yasudah', 'yasudahlah', 'yatuhan', 'yaudala', 'yaudasi', 'yaudss', 'yawda', 'yawez', 'yay', 'yayayayayayayayaya', 'yayy', 'ydh', 'yeahh', 'yeahhhh', 'years', 'yeay', 'yeeaaahhhhh', 'yeillah', 'yel', 'yemah', 'yeonjunnnnnnnn', 'yeorobun', 'yerim', 'yess', 'yesss', 'yessss', 'yesung', 'yet', 'yeuu', 'yeyyy', 'ygbisa', 'ygy', 'yhaa', 'yi', 'yieldnya', 'yijiiiinnnnnn', 'yijin', 'yijinheedo', 'yntkts', 'yoan', 'yodah', 'yogs', 'yogyakarta', 'yolo', 'yong', 'yonkou', 'yoobi', 'yoojung', 'yoongi', 'york', 'yoshi', 'yoshioka', 'youll', 'younger', 'youngk', 'your', 'yours', 'yourself', 'youtube', 'youve', 'yowes', 'yoweslahyo', 'yt', 'yuba', 'yubing', 'yumicells', 'yun', 'yuna', 'yunho', 'yuni', 'yurim', 'yuuuu', 'yuwa', 'yuyur', 'yyy', 'zaa', 'zalee', 'zalim', 'zalnando', 'zam', 'zaman', 'zan', 'zarmose', 'zdn', 'zealand', 'zidane', 'zigvolt', 'zii', 'zina', 'zlatan', 'zodiak', 'zona', 'zoom', 'zozodiakan']\n",
            "[0.07625585 0.13978546 0.17427196 ... 0.05789296 0.29347382 0.05330384]\n"
          ]
        }
      ]
    },
    {
      "cell_type": "code",
      "source": [
        "# Train\n",
        "df_bobot_kata = pd.DataFrame(list(bobot_kata.items()), columns=['Kata', 'Bobot'])\n",
        "df_bobot_kata.sort_values(by='Bobot', ascending=False)\n",
        "#df_bobot_kata.to_csv(\"Bobot.csv\", index = False)"
      ],
      "metadata": {
        "colab": {
          "base_uri": "https://localhost:8080/",
          "height": 424
        },
        "id": "R16dY7HPcz7r",
        "outputId": "c85630bc-32cc-450d-9e9a-6f204780f7bb"
      },
      "execution_count": null,
      "outputs": [
        {
          "output_type": "execute_result",
          "data": {
            "text/plain": [
              "        Kata     Bobot\n",
              "930      gue  9.993209\n",
              "2035   orang  5.535239\n",
              "114   anjing  3.792510\n",
              "1329   kasih  3.221321\n",
              "3988   teman  3.070560\n",
              "...      ...       ...\n",
              "4928   yerim  0.020086\n",
              "4622  vision  0.020086\n",
              "4939      yi  0.020086\n",
              "2177   patok  0.020086\n",
              "2199   pecel  0.010398\n",
              "\n",
              "[5000 rows x 2 columns]"
            ],
            "text/html": [
              "\n",
              "  <div id=\"df-b42a39d1-769b-4c80-8ebd-69d77af30041\">\n",
              "    <div class=\"colab-df-container\">\n",
              "      <div>\n",
              "<style scoped>\n",
              "    .dataframe tbody tr th:only-of-type {\n",
              "        vertical-align: middle;\n",
              "    }\n",
              "\n",
              "    .dataframe tbody tr th {\n",
              "        vertical-align: top;\n",
              "    }\n",
              "\n",
              "    .dataframe thead th {\n",
              "        text-align: right;\n",
              "    }\n",
              "</style>\n",
              "<table border=\"1\" class=\"dataframe\">\n",
              "  <thead>\n",
              "    <tr style=\"text-align: right;\">\n",
              "      <th></th>\n",
              "      <th>Kata</th>\n",
              "      <th>Bobot</th>\n",
              "    </tr>\n",
              "  </thead>\n",
              "  <tbody>\n",
              "    <tr>\n",
              "      <th>930</th>\n",
              "      <td>gue</td>\n",
              "      <td>9.993209</td>\n",
              "    </tr>\n",
              "    <tr>\n",
              "      <th>2035</th>\n",
              "      <td>orang</td>\n",
              "      <td>5.535239</td>\n",
              "    </tr>\n",
              "    <tr>\n",
              "      <th>114</th>\n",
              "      <td>anjing</td>\n",
              "      <td>3.792510</td>\n",
              "    </tr>\n",
              "    <tr>\n",
              "      <th>1329</th>\n",
              "      <td>kasih</td>\n",
              "      <td>3.221321</td>\n",
              "    </tr>\n",
              "    <tr>\n",
              "      <th>3988</th>\n",
              "      <td>teman</td>\n",
              "      <td>3.070560</td>\n",
              "    </tr>\n",
              "    <tr>\n",
              "      <th>...</th>\n",
              "      <td>...</td>\n",
              "      <td>...</td>\n",
              "    </tr>\n",
              "    <tr>\n",
              "      <th>4928</th>\n",
              "      <td>yerim</td>\n",
              "      <td>0.020086</td>\n",
              "    </tr>\n",
              "    <tr>\n",
              "      <th>4622</th>\n",
              "      <td>vision</td>\n",
              "      <td>0.020086</td>\n",
              "    </tr>\n",
              "    <tr>\n",
              "      <th>4939</th>\n",
              "      <td>yi</td>\n",
              "      <td>0.020086</td>\n",
              "    </tr>\n",
              "    <tr>\n",
              "      <th>2177</th>\n",
              "      <td>patok</td>\n",
              "      <td>0.020086</td>\n",
              "    </tr>\n",
              "    <tr>\n",
              "      <th>2199</th>\n",
              "      <td>pecel</td>\n",
              "      <td>0.010398</td>\n",
              "    </tr>\n",
              "  </tbody>\n",
              "</table>\n",
              "<p>5000 rows × 2 columns</p>\n",
              "</div>\n",
              "      <button class=\"colab-df-convert\" onclick=\"convertToInteractive('df-b42a39d1-769b-4c80-8ebd-69d77af30041')\"\n",
              "              title=\"Convert this dataframe to an interactive table.\"\n",
              "              style=\"display:none;\">\n",
              "        \n",
              "  <svg xmlns=\"http://www.w3.org/2000/svg\" height=\"24px\"viewBox=\"0 0 24 24\"\n",
              "       width=\"24px\">\n",
              "    <path d=\"M0 0h24v24H0V0z\" fill=\"none\"/>\n",
              "    <path d=\"M18.56 5.44l.94 2.06.94-2.06 2.06-.94-2.06-.94-.94-2.06-.94 2.06-2.06.94zm-11 1L8.5 8.5l.94-2.06 2.06-.94-2.06-.94L8.5 2.5l-.94 2.06-2.06.94zm10 10l.94 2.06.94-2.06 2.06-.94-2.06-.94-.94-2.06-.94 2.06-2.06.94z\"/><path d=\"M17.41 7.96l-1.37-1.37c-.4-.4-.92-.59-1.43-.59-.52 0-1.04.2-1.43.59L10.3 9.45l-7.72 7.72c-.78.78-.78 2.05 0 2.83L4 21.41c.39.39.9.59 1.41.59.51 0 1.02-.2 1.41-.59l7.78-7.78 2.81-2.81c.8-.78.8-2.07 0-2.86zM5.41 20L4 18.59l7.72-7.72 1.47 1.35L5.41 20z\"/>\n",
              "  </svg>\n",
              "      </button>\n",
              "      \n",
              "  <style>\n",
              "    .colab-df-container {\n",
              "      display:flex;\n",
              "      flex-wrap:wrap;\n",
              "      gap: 12px;\n",
              "    }\n",
              "\n",
              "    .colab-df-convert {\n",
              "      background-color: #E8F0FE;\n",
              "      border: none;\n",
              "      border-radius: 50%;\n",
              "      cursor: pointer;\n",
              "      display: none;\n",
              "      fill: #1967D2;\n",
              "      height: 32px;\n",
              "      padding: 0 0 0 0;\n",
              "      width: 32px;\n",
              "    }\n",
              "\n",
              "    .colab-df-convert:hover {\n",
              "      background-color: #E2EBFA;\n",
              "      box-shadow: 0px 1px 2px rgba(60, 64, 67, 0.3), 0px 1px 3px 1px rgba(60, 64, 67, 0.15);\n",
              "      fill: #174EA6;\n",
              "    }\n",
              "\n",
              "    [theme=dark] .colab-df-convert {\n",
              "      background-color: #3B4455;\n",
              "      fill: #D2E3FC;\n",
              "    }\n",
              "\n",
              "    [theme=dark] .colab-df-convert:hover {\n",
              "      background-color: #434B5C;\n",
              "      box-shadow: 0px 1px 3px 1px rgba(0, 0, 0, 0.15);\n",
              "      filter: drop-shadow(0px 1px 2px rgba(0, 0, 0, 0.3));\n",
              "      fill: #FFFFFF;\n",
              "    }\n",
              "  </style>\n",
              "\n",
              "      <script>\n",
              "        const buttonEl =\n",
              "          document.querySelector('#df-b42a39d1-769b-4c80-8ebd-69d77af30041 button.colab-df-convert');\n",
              "        buttonEl.style.display =\n",
              "          google.colab.kernel.accessAllowed ? 'block' : 'none';\n",
              "\n",
              "        async function convertToInteractive(key) {\n",
              "          const element = document.querySelector('#df-b42a39d1-769b-4c80-8ebd-69d77af30041');\n",
              "          const dataTable =\n",
              "            await google.colab.kernel.invokeFunction('convertToInteractive',\n",
              "                                                     [key], {});\n",
              "          if (!dataTable) return;\n",
              "\n",
              "          const docLinkHtml = 'Like what you see? Visit the ' +\n",
              "            '<a target=\"_blank\" href=https://colab.research.google.com/notebooks/data_table.ipynb>data table notebook</a>'\n",
              "            + ' to learn more about interactive tables.';\n",
              "          element.innerHTML = '';\n",
              "          dataTable['output_type'] = 'display_data';\n",
              "          await google.colab.output.renderOutput(dataTable, element);\n",
              "          const docLink = document.createElement('div');\n",
              "          docLink.innerHTML = docLinkHtml;\n",
              "          element.appendChild(docLink);\n",
              "        }\n",
              "      </script>\n",
              "    </div>\n",
              "  </div>\n",
              "  "
            ]
          },
          "metadata": {},
          "execution_count": 145
        }
      ]
    },
    {
      "cell_type": "markdown",
      "source": [
        "Model"
      ],
      "metadata": {
        "id": "VVBgzU7gq7fT"
      }
    },
    {
      "cell_type": "code",
      "source": [
        "clf_1a = DecisionTreeClassifier()\n",
        "clf_1a.fit(x_train_1a, y_train_1a)\n",
        "y_predict_train_1a = clf_1a.predict(x_train_1a)\n",
        "y_predict_test_1a = clf_1a.predict(x_test_1a)\n",
        "\n",
        "# print(\"Confusion Matrix Train\")\n",
        "# conf_train = classification_report(y_train, y_predict_train)\n",
        "# print(conf_train)\n",
        "# print(\"======================================================\")\n",
        "# EVALUATION\n",
        "print(\"Akurasi Data Test\")\n",
        "conf_test_1a = classification_report(y_test_1a, y_predict_test_1a)\n",
        "print(conf_test_1a)"
      ],
      "metadata": {
        "colab": {
          "base_uri": "https://localhost:8080/"
        },
        "id": "a0uN8OdXePTd",
        "outputId": "593e5e5f-d728-40fe-e8f5-122341241a03"
      },
      "execution_count": null,
      "outputs": [
        {
          "output_type": "stream",
          "name": "stdout",
          "text": [
            "Akurasi Data Test\n",
            "              precision    recall  f1-score   support\n",
            "\n",
            "           0       0.58      0.56      0.57        25\n",
            "           1       0.54      0.57      0.55        23\n",
            "\n",
            "    accuracy                           0.56        48\n",
            "   macro avg       0.56      0.56      0.56        48\n",
            "weighted avg       0.56      0.56      0.56        48\n",
            "\n"
          ]
        }
      ]
    },
    {
      "cell_type": "markdown",
      "source": [
        "#### TF-IDF Max Features 7000"
      ],
      "metadata": {
        "id": "bjN7a7bxgds-"
      }
    },
    {
      "cell_type": "code",
      "source": [
        "# Membagi data menjadi data train dan data validation\n",
        "x_train_1b, x_test_1b, y_train_1b, y_test_1b = train_test_split(df[\"Tweet After Preprocessing\"],df[\"Label\"],test_size=0.3,shuffle=True)"
      ],
      "metadata": {
        "id": "LR3Vc37DhRGv"
      },
      "execution_count": null,
      "outputs": []
    },
    {
      "cell_type": "code",
      "source": [
        "# TF-IDF\n",
        "tf_idf_1b = TfidfVectorizer(preprocessor=dummy ,max_features=7000)\n",
        "tf_idf_1b.fit(x_train_1b)\n",
        "x_train_1b = tf_idf_1b.transform(x_train_1b) \n",
        "x_test_1b = tf_idf_1b.transform(x_test_1b)"
      ],
      "metadata": {
        "id": "tSOQa8T-hSdb"
      },
      "execution_count": null,
      "outputs": []
    },
    {
      "cell_type": "markdown",
      "source": [
        "Model"
      ],
      "metadata": {
        "id": "cmkTe8gqq-rP"
      }
    },
    {
      "cell_type": "code",
      "source": [
        "clf_1b = DecisionTreeClassifier()\n",
        "clf_1b.fit(x_train_1b, y_train_1b)\n",
        "y_predict_train_1b = clf_1b.predict(x_train_1b)\n",
        "y_predict_test_1b = clf_1b.predict(x_test_1b)\n",
        "\n",
        "# print(\"Confusion Matrix Train\")\n",
        "# conf_train = classification_report(y_train, y_predict_train)\n",
        "# print(conf_train)\n",
        "# print(\"======================================================\")\n",
        "# EVALUATION\n",
        "print(\"Akurasi Data Test\")\n",
        "conf_test_1b = classification_report(y_test_1b, y_predict_test_1b)\n",
        "print(conf_test_1b)"
      ],
      "metadata": {
        "colab": {
          "base_uri": "https://localhost:8080/"
        },
        "id": "r9vm6FSqhUi9",
        "outputId": "364ae97c-ff48-482f-9436-b80914f0ab19"
      },
      "execution_count": null,
      "outputs": [
        {
          "output_type": "stream",
          "name": "stdout",
          "text": [
            "Akurasi Data Test\n",
            "              precision    recall  f1-score   support\n",
            "\n",
            "           0       0.30      0.43      0.35        14\n",
            "           1       0.71      0.59      0.65        34\n",
            "\n",
            "    accuracy                           0.54        48\n",
            "   macro avg       0.51      0.51      0.50        48\n",
            "weighted avg       0.59      0.54      0.56        48\n",
            "\n"
          ]
        }
      ]
    },
    {
      "cell_type": "markdown",
      "source": [
        "#### TF-IDF Max Features 10000"
      ],
      "metadata": {
        "id": "MltyDZdJhajc"
      }
    },
    {
      "cell_type": "code",
      "source": [
        "# Membagi data menjadi data train dan data validation\n",
        "x_train_1c, x_test_1c, y_train_1c, y_test_1c = train_test_split(df[\"Tweet After Preprocessing\"],df[\"Label\"],test_size=0.3,shuffle=True)"
      ],
      "metadata": {
        "id": "iVAhUoizhd82"
      },
      "execution_count": null,
      "outputs": []
    },
    {
      "cell_type": "code",
      "source": [
        "# TF-IDF\n",
        "tf_idf_1c = TfidfVectorizer(preprocessor=dummy, max_features = 10000)\n",
        "tf_idf_1c.fit(x_train_1c)\n",
        "x_train_1c = tf_idf_1c.transform(x_train_1c) \n",
        "x_test_1c = tf_idf_1c.transform(x_test_1c)"
      ],
      "metadata": {
        "id": "P_tJHfjXhZWt"
      },
      "execution_count": null,
      "outputs": []
    },
    {
      "cell_type": "markdown",
      "source": [
        "Model"
      ],
      "metadata": {
        "id": "plPPoBjPrCU4"
      }
    },
    {
      "cell_type": "code",
      "source": [
        "clf_1c = DecisionTreeClassifier()\n",
        "clf_1c.fit(x_train_1c, y_train_1c)\n",
        "y_predict_train_1c = clf_1c.predict(x_train_1c)\n",
        "y_predict_test_1c = clf_1c.predict(x_test_1c)\n",
        "\n",
        "# print(\"Confusion Matrix Train\")\n",
        "# conf_train = classification_report(y_train, y_predict_train)\n",
        "# print(conf_train)\n",
        "# print(\"======================================================\")\n",
        "# EVALUATION\n",
        "print(\"Akurasi Data Test\")\n",
        "conf_test_1c = classification_report(y_test_1c, y_predict_test_1c)\n",
        "print(conf_test_1c)"
      ],
      "metadata": {
        "colab": {
          "base_uri": "https://localhost:8080/"
        },
        "id": "mGyg2yO-hib5",
        "outputId": "0eb21ca4-1314-452b-b20b-b9066dd01845"
      },
      "execution_count": null,
      "outputs": [
        {
          "output_type": "stream",
          "name": "stdout",
          "text": [
            "Akurasi Data Test\n",
            "              precision    recall  f1-score   support\n",
            "\n",
            "           0       0.45      0.48      0.47        21\n",
            "           1       0.58      0.56      0.57        27\n",
            "\n",
            "    accuracy                           0.52        48\n",
            "   macro avg       0.52      0.52      0.52        48\n",
            "weighted avg       0.52      0.52      0.52        48\n",
            "\n"
          ]
        }
      ]
    },
    {
      "cell_type": "markdown",
      "source": [
        "### Split Data 80:20"
      ],
      "metadata": {
        "id": "-O2AVlVEfLku"
      }
    },
    {
      "cell_type": "code",
      "source": [
        "# Membagi data menjadi data train dan data validation\n",
        "x_train_1d, x_test_1d, y_train_1d, y_test_1d = train_test_split(df[\"Tweet After Preprocessing\"],df[\"Label\"],test_size=0.2,shuffle=True)"
      ],
      "metadata": {
        "id": "US4gTyeLfOPk"
      },
      "execution_count": null,
      "outputs": []
    },
    {
      "cell_type": "markdown",
      "source": [
        "#### TF-IDF Max Features 5000"
      ],
      "metadata": {
        "id": "8dcaB-NIfQl0"
      }
    },
    {
      "cell_type": "code",
      "source": [
        "# TF-IDF\n",
        "tf_idf_1d = TfidfVectorizer(preprocessor=dummy,max_features=5000)\n",
        "tf_idf_1d.fit(x_train_1d)\n",
        "x_train_1d = tf_idf_1d.transform(x_train_1d) \n",
        "x_test_1d = tf_idf_1d.transform(x_test_1d)"
      ],
      "metadata": {
        "id": "jyQObIH-fTCt"
      },
      "execution_count": null,
      "outputs": []
    },
    {
      "cell_type": "markdown",
      "source": [
        "Model"
      ],
      "metadata": {
        "id": "WUP0_Sw2fiF1"
      }
    },
    {
      "cell_type": "code",
      "source": [
        "clf_1d = DecisionTreeClassifier()\n",
        "clf_1d.fit(x_train_1d, y_train_1d)\n",
        "y_predict_train_1d = clf_1d.predict(x_train_1d)\n",
        "y_predict_test_1d = clf_1d.predict(x_test_1d)\n",
        "\n",
        "# print(\"Confusion Matrix Train\")\n",
        "# conf_train = classification_report(y_train, y_predict_train)\n",
        "# print(conf_train)\n",
        "# print(\"======================================================\")\n",
        "# EVALUATION\n",
        "print(\"Akurasi Data Test\")\n",
        "conf_test_1d = classification_report(y_test_1d, y_predict_test_1d)\n",
        "print(conf_test_1d)"
      ],
      "metadata": {
        "colab": {
          "base_uri": "https://localhost:8080/"
        },
        "id": "DRZubIfBfjp4",
        "outputId": "dafd7e25-4dda-4202-da6a-0f18ed3df4cc"
      },
      "execution_count": null,
      "outputs": [
        {
          "output_type": "stream",
          "name": "stdout",
          "text": [
            "Akurasi Data Test\n",
            "              precision    recall  f1-score   support\n",
            "\n",
            "           0       0.61      0.78      0.68        18\n",
            "           1       0.56      0.36      0.43        14\n",
            "\n",
            "    accuracy                           0.59        32\n",
            "   macro avg       0.58      0.57      0.56        32\n",
            "weighted avg       0.59      0.59      0.57        32\n",
            "\n"
          ]
        }
      ]
    },
    {
      "cell_type": "markdown",
      "source": [
        "#### TF-IDF Max Features 7000"
      ],
      "metadata": {
        "id": "RdZzFg53hupl"
      }
    },
    {
      "cell_type": "code",
      "source": [
        "# Membagi data menjadi data train dan data validation\n",
        "x_train_1e, x_test_1e, y_train_1e, y_test_1e = train_test_split(df[\"Tweet After Preprocessing\"],df[\"Label\"],test_size=0.2,shuffle=True)"
      ],
      "metadata": {
        "id": "LW6VxM6Ehzep"
      },
      "execution_count": null,
      "outputs": []
    },
    {
      "cell_type": "code",
      "source": [
        "# TF-IDF\n",
        "tf_idf_1e = TfidfVectorizer(preprocessor=dummy,max_features=7000)\n",
        "tf_idf_1e.fit(x_train_1e)\n",
        "x_train_1e = tf_idf_1e.transform(x_train_1e) \n",
        "x_test_1e = tf_idf_1e.transform(x_test_1e)"
      ],
      "metadata": {
        "id": "hKeu1vOPhzmE"
      },
      "execution_count": null,
      "outputs": []
    },
    {
      "cell_type": "markdown",
      "source": [
        "Model"
      ],
      "metadata": {
        "id": "WO-Lhs_4rLDF"
      }
    },
    {
      "cell_type": "code",
      "source": [
        "clf_1e = DecisionTreeClassifier()\n",
        "clf_1e.fit(x_train_1e, y_train_1e)\n",
        "y_predict_train_1e = clf_1e.predict(x_train_1e)\n",
        "y_predict_test_1e = clf_1e.predict(x_test_1e)\n",
        "\n",
        "# print(\"Confusion Matrix Train\")\n",
        "# conf_train = classification_report(y_train, y_predict_train)\n",
        "# print(conf_train)\n",
        "# print(\"======================================================\")\n",
        "# EVALUATION\n",
        "print(\"Akurasi Data Test\")\n",
        "conf_test_1e = classification_report(y_test_1e, y_predict_test_1e)\n",
        "print(conf_test_1e)"
      ],
      "metadata": {
        "colab": {
          "base_uri": "https://localhost:8080/"
        },
        "id": "8UbsDxDkhzwz",
        "outputId": "f11b6462-be89-4d6b-95a6-3353b4b3be49"
      },
      "execution_count": null,
      "outputs": [
        {
          "output_type": "stream",
          "name": "stdout",
          "text": [
            "Akurasi Data Test\n",
            "              precision    recall  f1-score   support\n",
            "\n",
            "           0       0.42      0.42      0.42        12\n",
            "           1       0.65      0.65      0.65        20\n",
            "\n",
            "    accuracy                           0.56        32\n",
            "   macro avg       0.53      0.53      0.53        32\n",
            "weighted avg       0.56      0.56      0.56        32\n",
            "\n"
          ]
        }
      ]
    },
    {
      "cell_type": "markdown",
      "source": [
        "#### TF-IDF Max Features 10000"
      ],
      "metadata": {
        "id": "yWBDeH4ah0EB"
      }
    },
    {
      "cell_type": "code",
      "source": [
        "# Membagi data menjadi data train dan data validation\n",
        "x_train_1f, x_test_1f, y_train_1f, y_test_1f = train_test_split(df[\"Tweet After Preprocessing\"],df[\"Label\"],test_size=0.2,shuffle=True)"
      ],
      "metadata": {
        "id": "QZcKtzvIh2J8"
      },
      "execution_count": null,
      "outputs": []
    },
    {
      "cell_type": "code",
      "source": [
        "# TF-IDF\n",
        "tf_idf_1f = TfidfVectorizer(preprocessor=dummy,max_features=10000)\n",
        "tf_idf_1f.fit(x_train_1f)\n",
        "x_train_1f = tf_idf_1f.transform(x_train_1f) \n",
        "x_test_1f = tf_idf_1f.transform(x_test_1f)"
      ],
      "metadata": {
        "id": "jt_5aiRHh2OS"
      },
      "execution_count": null,
      "outputs": []
    },
    {
      "cell_type": "markdown",
      "source": [
        "Model"
      ],
      "metadata": {
        "id": "5tjUf_uvrNN7"
      }
    },
    {
      "cell_type": "code",
      "source": [
        "clf_1f = DecisionTreeClassifier()\n",
        "clf_1f.fit(x_train_1f, y_train_1f)\n",
        "y_predict_train_1f = clf_1f.predict(x_train_1f)\n",
        "y_predict_test_1f = clf_1f.predict(x_test_1f)\n",
        "\n",
        "# print(\"Confusion Matrix Train\")\n",
        "# conf_train = classification_report(y_train, y_predict_train)\n",
        "# print(conf_train)\n",
        "# print(\"======================================================\")\n",
        "# EVALUATION\n",
        "print(\"Akurasi Data Test\")\n",
        "conf_test_1f = classification_report(y_test_1f, y_predict_test_1f)\n",
        "print(conf_test_1f)"
      ],
      "metadata": {
        "colab": {
          "base_uri": "https://localhost:8080/"
        },
        "id": "TGRRrjS6h2St",
        "outputId": "1206225e-a169-49a0-bae0-16bf2c819f95"
      },
      "execution_count": null,
      "outputs": [
        {
          "output_type": "stream",
          "name": "stdout",
          "text": [
            "Akurasi Data Test\n",
            "              precision    recall  f1-score   support\n",
            "\n",
            "           0       0.47      0.50      0.48        14\n",
            "           1       0.59      0.56      0.57        18\n",
            "\n",
            "    accuracy                           0.53        32\n",
            "   macro avg       0.53      0.53      0.53        32\n",
            "weighted avg       0.54      0.53      0.53        32\n",
            "\n"
          ]
        }
      ]
    },
    {
      "cell_type": "markdown",
      "source": [
        "### Split Data 90:10"
      ],
      "metadata": {
        "id": "pIkaIkBpfpad"
      }
    },
    {
      "cell_type": "code",
      "source": [
        "# Membagi data menjadi data train dan data validation\n",
        "x_train_1g, x_test_1g, y_train_1g, y_test_1g = train_test_split(df[\"Tweet After Preprocessing\"],df[\"Label\"],test_size=0.1,shuffle=True)"
      ],
      "metadata": {
        "id": "yCuyYCBLfsCF"
      },
      "execution_count": null,
      "outputs": []
    },
    {
      "cell_type": "markdown",
      "source": [
        "#### TF-IDF Max Features 5000"
      ],
      "metadata": {
        "id": "YD1cS6J0fucb"
      }
    },
    {
      "cell_type": "code",
      "source": [
        "# TF-IDF\n",
        "tf_idf_1g = TfidfVectorizer(preprocessor=dummy,max_features=5000)\n",
        "tf_idf_1g.fit(x_train_1g)\n",
        "x_train_1g = tf_idf_1g.transform(x_train_1g) \n",
        "x_test_1g = tf_idf_1g.transform(x_test_1g)"
      ],
      "metadata": {
        "id": "YY_M2g7ffx6k"
      },
      "execution_count": null,
      "outputs": []
    },
    {
      "cell_type": "markdown",
      "source": [
        "Model"
      ],
      "metadata": {
        "id": "wZxuMP5ofzl_"
      }
    },
    {
      "cell_type": "code",
      "source": [
        "clf_1g = DecisionTreeClassifier()\n",
        "clf_1g.fit(x_train_1g, y_train_1g)\n",
        "y_predict_train_1g = clf_1g.predict(x_train_1g)\n",
        "y_predict_test_1g = clf_1g.predict(x_test_1g)\n",
        "\n",
        "# print(\"Confusion Matrix Train\")\n",
        "# conf_train = classification_report(y_train, y_predict_train)\n",
        "# print(conf_train)\n",
        "# print(\"======================================================\")\n",
        "# EVALUATION\n",
        "print(\"Akurasi Data Test\")\n",
        "conf_test_1g = classification_report(y_test_1g, y_predict_test_1g)\n",
        "print(conf_test_1g)"
      ],
      "metadata": {
        "colab": {
          "base_uri": "https://localhost:8080/"
        },
        "id": "SGpSnlwtf097",
        "outputId": "8cac00f0-4e18-461b-ef4f-0c2d6da4419d"
      },
      "execution_count": null,
      "outputs": [
        {
          "output_type": "stream",
          "name": "stdout",
          "text": [
            "Akurasi Data Test\n",
            "              precision    recall  f1-score   support\n",
            "\n",
            "           0       0.67      0.50      0.57         8\n",
            "           1       0.60      0.75      0.67         8\n",
            "\n",
            "    accuracy                           0.62        16\n",
            "   macro avg       0.63      0.62      0.62        16\n",
            "weighted avg       0.63      0.62      0.62        16\n",
            "\n"
          ]
        }
      ]
    },
    {
      "cell_type": "markdown",
      "source": [
        "#### TF-IDF Max Features 7000"
      ],
      "metadata": {
        "id": "UrqYAqOokybF"
      }
    },
    {
      "cell_type": "code",
      "source": [
        "# Membagi data menjadi data train dan data validation\n",
        "x_train_1h, x_test_1h, y_train_1h, y_test_1h = train_test_split(df[\"Tweet After Preprocessing\"],df[\"Label\"],test_size=0.1,shuffle=True)"
      ],
      "metadata": {
        "id": "B_rYBJbclBg-"
      },
      "execution_count": null,
      "outputs": []
    },
    {
      "cell_type": "code",
      "source": [
        "# TF-IDF\n",
        "tf_idf_1h = TfidfVectorizer(preprocessor=dummy,max_features=7000)\n",
        "tf_idf_1h.fit(x_train_1h)\n",
        "x_train_1h = tf_idf_1h.transform(x_train_1h) \n",
        "x_test_1h = tf_idf_1h.transform(x_test_1h)"
      ],
      "metadata": {
        "id": "CqJeA7DqlBld"
      },
      "execution_count": null,
      "outputs": []
    },
    {
      "cell_type": "code",
      "source": [
        "clf_1h = DecisionTreeClassifier()\n",
        "clf_1h.fit(x_train_1h, y_train_1h)\n",
        "y_predict_train_1h = clf_1h.predict(x_train_1h)\n",
        "y_predict_test_1h = clf_1h.predict(x_test_1h)\n",
        "\n",
        "# print(\"Confusion Matrix Train\")\n",
        "# conf_train = classification_report(y_train, y_predict_train)\n",
        "# print(conf_train)\n",
        "# print(\"======================================================\")\n",
        "# EVALUATION\n",
        "print(\"Akurasi Data Test\")\n",
        "conf_test_1h = classification_report(y_test_1h, y_predict_test_1h)\n",
        "print(conf_test_1h)"
      ],
      "metadata": {
        "colab": {
          "base_uri": "https://localhost:8080/"
        },
        "id": "a4vGhdsOlBpZ",
        "outputId": "67c4dbef-961f-4d79-9f5b-cc2c3619c956"
      },
      "execution_count": null,
      "outputs": [
        {
          "output_type": "stream",
          "name": "stdout",
          "text": [
            "Akurasi Data Test\n",
            "              precision    recall  f1-score   support\n",
            "\n",
            "           0       0.50      0.29      0.36         7\n",
            "           1       0.58      0.78      0.67         9\n",
            "\n",
            "    accuracy                           0.56        16\n",
            "   macro avg       0.54      0.53      0.52        16\n",
            "weighted avg       0.55      0.56      0.53        16\n",
            "\n"
          ]
        }
      ]
    },
    {
      "cell_type": "markdown",
      "source": [
        "#### TF-IDF Max Features 10000"
      ],
      "metadata": {
        "id": "bJ6lj9k2k_LF"
      }
    },
    {
      "cell_type": "code",
      "source": [
        "# Membagi data menjadi data train dan data validation\n",
        "x_train_1i, x_test_1i, y_train_1i, y_test_1i = train_test_split(df[\"Tweet After Preprocessing\"],df[\"Label\"],test_size=0.1,shuffle=True)"
      ],
      "metadata": {
        "id": "Cz_9vnLLlFk-"
      },
      "execution_count": null,
      "outputs": []
    },
    {
      "cell_type": "code",
      "source": [
        "# TF-IDF\n",
        "tf_idf_1i = TfidfVectorizer(preprocessor=dummy,max_features=10000)\n",
        "tf_idf_1i.fit(x_train_1i)\n",
        "x_train_1i = tf_idf_1i.transform(x_train_1i) \n",
        "x_test_1i = tf_idf_1i.transform(x_test_1i)"
      ],
      "metadata": {
        "id": "sVz6-nNmlF7c"
      },
      "execution_count": null,
      "outputs": []
    },
    {
      "cell_type": "code",
      "source": [
        "clf_1i = DecisionTreeClassifier()\n",
        "clf_1i.fit(x_train_1i, y_train_1i)\n",
        "y_predict_train_1i = clf_1i.predict(x_train_1i)\n",
        "y_predict_test_1i = clf_1i.predict(x_test_1i)\n",
        "\n",
        "# print(\"Confusion Matrix Train\")\n",
        "# conf_train = classification_report(y_train, y_predict_train)\n",
        "# print(conf_train)\n",
        "# print(\"======================================================\")\n",
        "# EVALUATION\n",
        "print(\"Akurasi Data Test\")\n",
        "conf_test_1i = classification_report(y_test_1i, y_predict_test_1i)\n",
        "print(conf_test_1i)"
      ],
      "metadata": {
        "colab": {
          "base_uri": "https://localhost:8080/"
        },
        "id": "4ecbBtbGlF_8",
        "outputId": "e8024cbb-8286-42cb-f0c6-cb310ff072ab"
      },
      "execution_count": null,
      "outputs": [
        {
          "output_type": "stream",
          "name": "stdout",
          "text": [
            "Akurasi Data Test\n",
            "              precision    recall  f1-score   support\n",
            "\n",
            "           0       0.67      0.25      0.36         8\n",
            "           1       0.54      0.88      0.67         8\n",
            "\n",
            "    accuracy                           0.56        16\n",
            "   macro avg       0.60      0.56      0.52        16\n",
            "weighted avg       0.60      0.56      0.52        16\n",
            "\n"
          ]
        }
      ]
    },
    {
      "cell_type": "code",
      "source": [
        "# Hasil\n",
        "print(\"===============================\")\n",
        "print(\"Split 70:30, 5000\")\n",
        "print(conf_test_1a)\n",
        "print(\"===============================\")\n",
        "print(\"Split 70:30, 7000\")\n",
        "print(conf_test_1b)\n",
        "print(\"===============================\")\n",
        "print(\"Split 70:30, 10000\")\n",
        "print(conf_test_1c)\n",
        "print(\"===============================\")\n",
        "print(\"Split 80:20, 5000\")\n",
        "print(conf_test_1d)\n",
        "print(\"===============================\")\n",
        "print(\"Split 80:20, 7000\")\n",
        "print(conf_test_1e)\n",
        "print(\"===============================\")\n",
        "print(\"Split 80:20, 10000\")\n",
        "print(conf_test_1f)\n",
        "print(\"===============================\")\n",
        "print(\"Split 90:10, 5000\")\n",
        "print(conf_test_1g)\n",
        "print(\"===============================\")\n",
        "print(\"Split 90:10, 7000\")\n",
        "print(conf_test_1h)\n",
        "print(\"===============================\")\n",
        "print(\"Split 90:10, 10000\")\n",
        "print(conf_test_1i)\n"
      ],
      "metadata": {
        "colab": {
          "base_uri": "https://localhost:8080/"
        },
        "id": "wmYhwjKWXAyn",
        "outputId": "f4777eec-4141-4988-f24f-d3ea9c24488c"
      },
      "execution_count": null,
      "outputs": [
        {
          "output_type": "stream",
          "name": "stdout",
          "text": [
            "===============================\n",
            "Split 70:30, 5000\n",
            "              precision    recall  f1-score   support\n",
            "\n",
            "           0       0.58      0.56      0.57        25\n",
            "           1       0.54      0.57      0.55        23\n",
            "\n",
            "    accuracy                           0.56        48\n",
            "   macro avg       0.56      0.56      0.56        48\n",
            "weighted avg       0.56      0.56      0.56        48\n",
            "\n",
            "===============================\n",
            "Split 70:30, 7000\n",
            "              precision    recall  f1-score   support\n",
            "\n",
            "           0       0.30      0.43      0.35        14\n",
            "           1       0.71      0.59      0.65        34\n",
            "\n",
            "    accuracy                           0.54        48\n",
            "   macro avg       0.51      0.51      0.50        48\n",
            "weighted avg       0.59      0.54      0.56        48\n",
            "\n",
            "===============================\n",
            "Split 70:30, 10000\n",
            "              precision    recall  f1-score   support\n",
            "\n",
            "           0       0.45      0.48      0.47        21\n",
            "           1       0.58      0.56      0.57        27\n",
            "\n",
            "    accuracy                           0.52        48\n",
            "   macro avg       0.52      0.52      0.52        48\n",
            "weighted avg       0.52      0.52      0.52        48\n",
            "\n",
            "===============================\n",
            "Split 80:20, 5000\n",
            "              precision    recall  f1-score   support\n",
            "\n",
            "           0       0.61      0.78      0.68        18\n",
            "           1       0.56      0.36      0.43        14\n",
            "\n",
            "    accuracy                           0.59        32\n",
            "   macro avg       0.58      0.57      0.56        32\n",
            "weighted avg       0.59      0.59      0.57        32\n",
            "\n",
            "===============================\n",
            "Split 80:20, 7000\n",
            "              precision    recall  f1-score   support\n",
            "\n",
            "           0       0.42      0.42      0.42        12\n",
            "           1       0.65      0.65      0.65        20\n",
            "\n",
            "    accuracy                           0.56        32\n",
            "   macro avg       0.53      0.53      0.53        32\n",
            "weighted avg       0.56      0.56      0.56        32\n",
            "\n",
            "===============================\n",
            "Split 80:20, 10000\n",
            "              precision    recall  f1-score   support\n",
            "\n",
            "           0       0.47      0.50      0.48        14\n",
            "           1       0.59      0.56      0.57        18\n",
            "\n",
            "    accuracy                           0.53        32\n",
            "   macro avg       0.53      0.53      0.53        32\n",
            "weighted avg       0.54      0.53      0.53        32\n",
            "\n",
            "===============================\n",
            "Split 90:10, 5000\n",
            "              precision    recall  f1-score   support\n",
            "\n",
            "           0       0.67      0.50      0.57         8\n",
            "           1       0.60      0.75      0.67         8\n",
            "\n",
            "    accuracy                           0.62        16\n",
            "   macro avg       0.63      0.62      0.62        16\n",
            "weighted avg       0.63      0.62      0.62        16\n",
            "\n",
            "===============================\n",
            "Split 90:10, 7000\n",
            "              precision    recall  f1-score   support\n",
            "\n",
            "           0       0.50      0.29      0.36         7\n",
            "           1       0.58      0.78      0.67         9\n",
            "\n",
            "    accuracy                           0.56        16\n",
            "   macro avg       0.54      0.53      0.52        16\n",
            "weighted avg       0.55      0.56      0.53        16\n",
            "\n",
            "===============================\n",
            "Split 90:10, 10000\n",
            "              precision    recall  f1-score   support\n",
            "\n",
            "           0       0.67      0.25      0.36         8\n",
            "           1       0.54      0.88      0.67         8\n",
            "\n",
            "    accuracy                           0.56        16\n",
            "   macro avg       0.60      0.56      0.52        16\n",
            "weighted avg       0.60      0.56      0.52        16\n",
            "\n"
          ]
        }
      ]
    },
    {
      "cell_type": "code",
      "source": [
        "acc_1a = accuracy_score(y_test_1a, y_predict_test_1a)\n",
        "acc_1b = accuracy_score(y_test_1b, y_predict_test_1b)\n",
        "acc_1c = accuracy_score(y_test_1c, y_predict_test_1c)\n",
        "acc_1d = accuracy_score(y_test_1d, y_predict_test_1d)\n",
        "acc_1e = accuracy_score(y_test_1e, y_predict_test_1e)\n",
        "acc_1f = accuracy_score(y_test_1f, y_predict_test_1f)\n",
        "acc_1g = accuracy_score(y_test_1g, y_predict_test_1g)\n",
        "acc_1h = accuracy_score(y_test_1h, y_predict_test_1h)\n",
        "acc_1i = accuracy_score(y_test_1i, y_predict_test_1i)\n",
        "f1_1a = f1_score(y_test_1a, y_predict_test_1a)\n",
        "f1_1b = f1_score(y_test_1b, y_predict_test_1b)\n",
        "f1_1c = f1_score(y_test_1c, y_predict_test_1c)\n",
        "f1_1d = f1_score(y_test_1d, y_predict_test_1d)\n",
        "f1_1e = f1_score(y_test_1e, y_predict_test_1e)\n",
        "f1_1f = f1_score(y_test_1f, y_predict_test_1f)\n",
        "f1_1g = f1_score(y_test_1g, y_predict_test_1g)\n",
        "f1_1h = f1_score(y_test_1h, y_predict_test_1h)\n",
        "f1_1i = f1_score(y_test_1i, y_predict_test_1i)"
      ],
      "metadata": {
        "id": "7cexLQcHdwfj"
      },
      "execution_count": null,
      "outputs": []
    },
    {
      "cell_type": "code",
      "source": [
        "# Hasil\n",
        "print(\"===============================\")\n",
        "print(\"Split 70:30, 5000\")\n",
        "print(\"Akurasi : \", acc_1a, \" F1 : \",f1_1a)\n",
        "print(\"===============================\")\n",
        "print(\"Split 70:30, 7000\")\n",
        "print(\"Akurasi : \", acc_1b, \" F1 : \",f1_1b)\n",
        "print(\"===============================\")\n",
        "print(\"Split 70:30, 10000\")\n",
        "print(\"Akurasi : \", acc_1c, \" F1 : \",f1_1c)\n",
        "print(\"===============================\")\n",
        "print(\"Split 80:20, 5000\")\n",
        "print(\"Akurasi : \", acc_1d, \" F1 : \",f1_1d)\n",
        "print(\"===============================\")\n",
        "print(\"Split 80:20, 7000\")\n",
        "print(\"Akurasi : \", acc_1e, \" F1 : \",f1_1e)\n",
        "print(\"===============================\")\n",
        "print(\"Split 80:20, 10000\")\n",
        "print(\"Akurasi : \", acc_1f, \" F1 : \",f1_1f)\n",
        "print(\"===============================\")\n",
        "print(\"Split 90:10, 5000\")\n",
        "print(\"Akurasi : \", acc_1g, \" F1 : \",f1_1g)\n",
        "print(\"===============================\")\n",
        "print(\"Split 90:10, 7000\")\n",
        "print(\"Akurasi : \", acc_1h, \" F1 : \",f1_1h)\n",
        "print(\"===============================\")\n",
        "print(\"Split 90:10, 10000\")\n",
        "print(\"Akurasi : \", acc_1i, \" F1 : \",f1_1i)"
      ],
      "metadata": {
        "colab": {
          "base_uri": "https://localhost:8080/"
        },
        "id": "KKQhP80PePaT",
        "outputId": "eadb8625-bec6-496c-b41c-5a1967d8eb76"
      },
      "execution_count": null,
      "outputs": [
        {
          "output_type": "stream",
          "name": "stdout",
          "text": [
            "===============================\n",
            "Split 70:30, 5000\n",
            "Akurasi :  0.5625  F1 :  0.5531914893617021\n",
            "===============================\n",
            "Split 70:30, 7000\n",
            "Akurasi :  0.5416666666666666  F1 :  0.6451612903225806\n",
            "===============================\n",
            "Split 70:30, 10000\n",
            "Akurasi :  0.5208333333333334  F1 :  0.5660377358490566\n",
            "===============================\n",
            "Split 80:20, 5000\n",
            "Akurasi :  0.59375  F1 :  0.43478260869565216\n",
            "===============================\n",
            "Split 80:20, 7000\n",
            "Akurasi :  0.5625  F1 :  0.65\n",
            "===============================\n",
            "Split 80:20, 10000\n",
            "Akurasi :  0.53125  F1 :  0.5714285714285715\n",
            "===============================\n",
            "Split 90:10, 5000\n",
            "Akurasi :  0.625  F1 :  0.6666666666666665\n",
            "===============================\n",
            "Split 90:10, 7000\n",
            "Akurasi :  0.5625  F1 :  0.6666666666666666\n",
            "===============================\n",
            "Split 90:10, 10000\n",
            "Akurasi :  0.5625  F1 :  0.6666666666666667\n"
          ]
        }
      ]
    },
    {
      "cell_type": "markdown",
      "source": [
        "## SKENARIO 2\n",
        "Menggunakan split data dan max features terbaik yang didapat dari baseline yaitu 90:10 dan max features 5000."
      ],
      "metadata": {
        "id": "2UM78GuCf87V"
      }
    },
    {
      "cell_type": "code",
      "source": [
        "# Membagi data menjadi data train dan data validation\n",
        "x_train_2, x_test_2, y_train_2, y_test_2 = train_test_split(df[\"Tweet After Preprocessing\"],df[\"Label\"],test_size=0.1,shuffle=True)"
      ],
      "metadata": {
        "id": "RqSjO20RmsUL"
      },
      "execution_count": null,
      "outputs": []
    },
    {
      "cell_type": "code",
      "source": [
        "# TF-IDF\n",
        "tf_idf_2 = TfidfVectorizer(preprocessor=dummy,max_features=5000)\n",
        "tf_idf_2.fit(x_train_2)\n",
        "x_train_2 = tf_idf_2.transform(x_train_2) \n",
        "x_test_2 = tf_idf_2.transform(x_test_2)"
      ],
      "metadata": {
        "id": "2xChNxnYmuYN"
      },
      "execution_count": null,
      "outputs": []
    },
    {
      "cell_type": "code",
      "source": [
        "akurasi = []\n",
        "akurasi_train = []\n",
        "for i in range(1,31):\n",
        "    clf_2 = DecisionTreeClassifier(max_depth = i)\n",
        "    clf_2.fit(x_train_2, y_train_2)\n",
        "    y_predict_train_2 = clf_2.predict(x_train_2)\n",
        "    y_predict_2 = clf_2.predict(x_test_2)\n",
        "    akurasi_train.append(accuracy_score(y_predict_train_2, y_train_2))\n",
        "    akurasi.append(accuracy_score(y_predict_2, y_test_2))\n",
        "    # print('Akurasi train saat max depth : ',i,' yaitu ',akurasi_train)\n",
        "    # print('Akurasi test saat max depth : ',i,' yaitu ',akurasi)\n",
        "    # print('=====================================================================================')\n",
        "\n",
        "print('Train : ',akurasi_train)\n",
        "print('Test : ',akurasi)"
      ],
      "metadata": {
        "colab": {
          "base_uri": "https://localhost:8080/"
        },
        "id": "sucU-XT1TtgU",
        "outputId": "f503504d-b12f-4c23-9cd8-4b3ca80b62bc"
      },
      "execution_count": null,
      "outputs": [
        {
          "output_type": "stream",
          "name": "stdout",
          "text": [
            "Train :  [0.6524822695035462, 0.7163120567375887, 0.7659574468085106, 0.8226950354609929, 0.8652482269503546, 0.900709219858156, 0.9148936170212766, 0.9290780141843972, 0.950354609929078, 0.9574468085106383, 0.9716312056737588, 0.9858156028368794, 0.9929078014184397, 0.9929078014184397, 0.9929078014184397, 0.9929078014184397, 0.9929078014184397, 0.9929078014184397, 0.9929078014184397, 0.9929078014184397, 0.9929078014184397, 0.9929078014184397, 0.9929078014184397, 0.9929078014184397, 0.9929078014184397, 0.9929078014184397, 0.9929078014184397, 0.9929078014184397, 0.9929078014184397, 0.9929078014184397]\n",
            "Test :  [0.75, 0.75, 0.8125, 0.8125, 0.75, 0.625, 0.75, 0.625, 0.75, 0.75, 0.4375, 0.6875, 0.625, 0.6875, 0.5625, 0.5625, 0.5625, 0.625, 0.625, 0.5625, 0.6875, 0.75, 0.625, 0.5625, 0.625, 0.75, 0.75, 0.625, 0.625, 0.6875]\n"
          ]
        }
      ]
    },
    {
      "cell_type": "code",
      "source": [
        "clf_2 = DecisionTreeClassifier(max_depth = 4)\n",
        "clf_2.fit(x_train_2, y_train_2)\n",
        "y_predict_train_2 = clf_2.predict(x_train_2)\n",
        "y_predict_2 = clf_2.predict(x_test_2)\n",
        "print(\"Confusion Matrix Train\")\n",
        "conf_train_2 = classification_report(y_predict_train_2, y_train_2)\n",
        "print(conf_train_2)\n",
        "print(\"Confusion Matrix Test\")\n",
        "conf_2 = classification_report(y_predict_2, y_test_2)\n",
        "print(conf_2)\n",
        "conf_dt_2 = accuracy_score(y_predict_2, y_test_2)\n",
        "print(conf_dt_2)"
      ],
      "metadata": {
        "colab": {
          "base_uri": "https://localhost:8080/"
        },
        "id": "VFncq-Nn0Stn",
        "outputId": "8d25057d-2804-45b9-a6a3-5b65e6174107"
      },
      "execution_count": null,
      "outputs": [
        {
          "output_type": "stream",
          "name": "stdout",
          "text": [
            "Confusion Matrix Train\n",
            "              precision    recall  f1-score   support\n",
            "\n",
            "           0       0.63      0.93      0.75        40\n",
            "           1       0.96      0.78      0.86       101\n",
            "\n",
            "    accuracy                           0.82       141\n",
            "   macro avg       0.80      0.85      0.81       141\n",
            "weighted avg       0.87      0.82      0.83       141\n",
            "\n",
            "Confusion Matrix Test\n",
            "              precision    recall  f1-score   support\n",
            "\n",
            "           0       0.67      0.80      0.73         5\n",
            "           1       0.90      0.82      0.86        11\n",
            "\n",
            "    accuracy                           0.81        16\n",
            "   macro avg       0.78      0.81      0.79        16\n",
            "weighted avg       0.83      0.81      0.82        16\n",
            "\n",
            "0.8125\n"
          ]
        }
      ]
    },
    {
      "cell_type": "markdown",
      "source": [
        "## SKENARIO 3\n",
        "Membandingkan dengan algoritma decision tree lainnya"
      ],
      "metadata": {
        "id": "RJHtR5P3wH9T"
      }
    },
    {
      "cell_type": "code",
      "source": [
        "# AdaBoost\n",
        "from sklearn.ensemble import AdaBoostClassifier\n",
        "ab_clf = AdaBoostClassifier()\n",
        "ab_clf.fit(x_train_2, y_train_2)\n",
        "y_predict_train_ab = ab_clf.predict(x_train_2)\n",
        "y_predict_test_ab = ab_clf.predict(x_test_2)\n",
        "\n",
        "# EVALUATION\n",
        "print(\"Akurasi Data Test\")\n",
        "conf_test_ab = classification_report(y_test_2, y_predict_test_ab)\n",
        "print(conf_test_ab)"
      ],
      "metadata": {
        "colab": {
          "base_uri": "https://localhost:8080/"
        },
        "id": "12Pj42K7wPM0",
        "outputId": "c5e10d76-df2c-4e71-ef93-ccfe9d9d45ab"
      },
      "execution_count": null,
      "outputs": [
        {
          "output_type": "stream",
          "name": "stdout",
          "text": [
            "Akurasi Data Test\n",
            "              precision    recall  f1-score   support\n",
            "\n",
            "           0       0.43      0.50      0.46         6\n",
            "           1       0.67      0.60      0.63        10\n",
            "\n",
            "    accuracy                           0.56        16\n",
            "   macro avg       0.55      0.55      0.55        16\n",
            "weighted avg       0.58      0.56      0.57        16\n",
            "\n"
          ]
        }
      ]
    },
    {
      "cell_type": "code",
      "source": [
        "# GradientBoosting\n",
        "from sklearn.ensemble import GradientBoostingClassifier\n",
        "gd_clf = GradientBoostingClassifier()\n",
        "gd_clf.fit(x_train_2, y_train_2)\n",
        "y_predict_train_gd = gd_clf.predict(x_train_2)\n",
        "y_predict_test_gd = gd_clf.predict(x_test_2)\n",
        "\n",
        "# EVALUATION\n",
        "print(\"Akurasi Data Test\")\n",
        "conf_test_gd = classification_report(y_test_2, y_predict_test_gd)\n",
        "print(conf_test_gd)"
      ],
      "metadata": {
        "colab": {
          "base_uri": "https://localhost:8080/"
        },
        "id": "Tif7zURp0Omc",
        "outputId": "29ca148c-932c-4013-f3b7-4700cea74db9"
      },
      "execution_count": null,
      "outputs": [
        {
          "output_type": "stream",
          "name": "stdout",
          "text": [
            "Akurasi Data Test\n",
            "              precision    recall  f1-score   support\n",
            "\n",
            "           0       0.50      0.33      0.40         6\n",
            "           1       0.67      0.80      0.73        10\n",
            "\n",
            "    accuracy                           0.62        16\n",
            "   macro avg       0.58      0.57      0.56        16\n",
            "weighted avg       0.60      0.62      0.60        16\n",
            "\n"
          ]
        }
      ]
    },
    {
      "cell_type": "code",
      "source": [
        "# Random Forest\n",
        "from sklearn.ensemble import RandomForestClassifier\n",
        "rd_clf = RandomForestClassifier()\n",
        "rd_clf.fit(x_train_2, y_train_2)\n",
        "y_predict_train_rd = rd_clf.predict(x_train_2)\n",
        "y_predict_test_rd = rd_clf.predict(x_test_2)\n",
        "\n",
        "# EVALUATION\n",
        "print(\"Akurasi Data Test\")\n",
        "conf_test_rd = classification_report(y_test_2, y_predict_test_rd)\n",
        "print(conf_test_rd)"
      ],
      "metadata": {
        "colab": {
          "base_uri": "https://localhost:8080/"
        },
        "id": "Up0Dcsog0ll3",
        "outputId": "023d2494-c234-4131-b8ef-195e823473fa"
      },
      "execution_count": null,
      "outputs": [
        {
          "output_type": "stream",
          "name": "stdout",
          "text": [
            "Akurasi Data Test\n",
            "              precision    recall  f1-score   support\n",
            "\n",
            "           0       1.00      0.17      0.29         6\n",
            "           1       0.67      1.00      0.80        10\n",
            "\n",
            "    accuracy                           0.69        16\n",
            "   macro avg       0.83      0.58      0.54        16\n",
            "weighted avg       0.79      0.69      0.61        16\n",
            "\n"
          ]
        }
      ]
    },
    {
      "cell_type": "code",
      "source": [
        "# Perbandingan akurasi \n",
        "print('Akurasi dari perbandingan algoritma : ')\n",
        "print('Decision Tree CART : ',conf_2)\n",
        "print('Ada Boost : ',conf_test_ab)\n",
        "print('Gradient Boosting : ',conf_test_gd)\n",
        "print('Random Forest : ',conf_test_rd)"
      ],
      "metadata": {
        "colab": {
          "base_uri": "https://localhost:8080/"
        },
        "id": "-uMOAbXi1moq",
        "outputId": "2e3fd276-8d6b-4344-ed86-e0016a3b1d73"
      },
      "execution_count": null,
      "outputs": [
        {
          "output_type": "stream",
          "name": "stdout",
          "text": [
            "Akurasi dari perbandingan algoritma : \n",
            "Decision Tree CART :                precision    recall  f1-score   support\n",
            "\n",
            "           0       0.67      0.80      0.73         5\n",
            "           1       0.90      0.82      0.86        11\n",
            "\n",
            "    accuracy                           0.81        16\n",
            "   macro avg       0.78      0.81      0.79        16\n",
            "weighted avg       0.83      0.81      0.82        16\n",
            "\n",
            "Ada Boost :                precision    recall  f1-score   support\n",
            "\n",
            "           0       0.43      0.50      0.46         6\n",
            "           1       0.67      0.60      0.63        10\n",
            "\n",
            "    accuracy                           0.56        16\n",
            "   macro avg       0.55      0.55      0.55        16\n",
            "weighted avg       0.58      0.56      0.57        16\n",
            "\n",
            "Gradient Boosting :                precision    recall  f1-score   support\n",
            "\n",
            "           0       0.50      0.33      0.40         6\n",
            "           1       0.67      0.80      0.73        10\n",
            "\n",
            "    accuracy                           0.62        16\n",
            "   macro avg       0.58      0.57      0.56        16\n",
            "weighted avg       0.60      0.62      0.60        16\n",
            "\n",
            "Random Forest :                precision    recall  f1-score   support\n",
            "\n",
            "           0       1.00      0.17      0.29         6\n",
            "           1       0.67      1.00      0.80        10\n",
            "\n",
            "    accuracy                           0.69        16\n",
            "   macro avg       0.83      0.58      0.54        16\n",
            "weighted avg       0.79      0.69      0.61        16\n",
            "\n"
          ]
        }
      ]
    },
    {
      "cell_type": "code",
      "source": [
        "acc_dt = accuracy_score(y_test_2, y_predict_2)\n",
        "acc_ab = accuracy_score(y_test_2, y_predict_test_ab)\n",
        "acc_gd = accuracy_score(y_test_2, y_predict_test_gd)\n",
        "acc_rd = accuracy_score(y_test_2, y_predict_test_rd)\n",
        "f1_dt = f1_score(y_test_2, y_predict_2)\n",
        "f1_ab = f1_score(y_test_2, y_predict_test_ab)\n",
        "f1_gd = f1_score(y_test_2, y_predict_test_gd)\n",
        "f1_rd = f1_score(y_test_2, y_predict_test_rd)"
      ],
      "metadata": {
        "id": "I1DMZXzvcKAJ"
      },
      "execution_count": null,
      "outputs": []
    },
    {
      "cell_type": "code",
      "source": [
        "# Perbandingan akurasi \n",
        "print('Akurasi dan F1 dari perbandingan algoritma : ')\n",
        "print('Akurasi Decision Tree CART : ',acc_dt, ' F1 Decision Tree CART : ',f1_dt)\n",
        "print('Akurasi Ada Boost : ',acc_ab, ' F1 Ada Boost : ',f1_ab)\n",
        "print('Akurasi Gradient Boosting : ',acc_gd, ' F1 Gradient Boosting : ',f1_gd)\n",
        "print('Akurasi Random Forest : ',acc_rd, ' F1 Random Forest : ',f1_rd)"
      ],
      "metadata": {
        "colab": {
          "base_uri": "https://localhost:8080/"
        },
        "id": "Zr2J9RhIbovS",
        "outputId": "84043425-a903-423e-b63f-099ce166d834"
      },
      "execution_count": null,
      "outputs": [
        {
          "output_type": "stream",
          "name": "stdout",
          "text": [
            "Akurasi dan F1 dari perbandingan algoritma : \n",
            "Akurasi Decision Tree CART :  0.8125  F1 Decision Tree CART :  0.8571428571428572\n",
            "Akurasi Ada Boost :  0.5625  F1 Ada Boost :  0.631578947368421\n",
            "Akurasi Gradient Boosting :  0.625  F1 Gradient Boosting :  0.7272727272727272\n",
            "Akurasi Random Forest :  0.6875  F1 Random Forest :  0.8\n"
          ]
        }
      ]
    },
    {
      "cell_type": "markdown",
      "source": [
        "# SELESAI "
      ],
      "metadata": {
        "id": "WJeRWcIIuesO"
      }
    }
  ]
}